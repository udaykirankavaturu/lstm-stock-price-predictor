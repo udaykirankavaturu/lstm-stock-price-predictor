{
 "cells": [
  {
   "cell_type": "code",
   "execution_count": 1,
   "id": "48cf1acc",
   "metadata": {
    "_cell_guid": "b1076dfc-b9ad-4769-8c92-a6c4dae69d19",
    "_uuid": "8f2839f25d086af736a60e9eeb907d3b93b6e0e5",
    "execution": {
     "iopub.execute_input": "2023-06-28T07:53:53.266295Z",
     "iopub.status.busy": "2023-06-28T07:53:53.265954Z",
     "iopub.status.idle": "2023-06-28T07:53:53.286425Z",
     "shell.execute_reply": "2023-06-28T07:53:53.284965Z"
    },
    "papermill": {
     "duration": 0.034469,
     "end_time": "2023-06-28T07:53:53.288739",
     "exception": false,
     "start_time": "2023-06-28T07:53:53.254270",
     "status": "completed"
    },
    "tags": []
   },
   "outputs": [
    {
     "name": "stdout",
     "output_type": "stream",
     "text": [
      "/kaggle/input/nifty-50-list/MW-NIFTY-50-24-Jun-2023.csv\n"
     ]
    }
   ],
   "source": [
    "# This Python 3 environment comes with many helpful analytics libraries installed\n",
    "# It is defined by the kaggle/python Docker image: https://github.com/kaggle/docker-python\n",
    "# For example, here's several helpful packages to load\n",
    "\n",
    "import numpy as np # linear algebra\n",
    "import pandas as pd # data processing, CSV file I/O (e.g. pd.read_csv)\n",
    "\n",
    "# Input data files are available in the read-only \"../input/\" directory\n",
    "# For example, running this (by clicking run or pressing Shift+Enter) will list all files under the input directory\n",
    "\n",
    "import os\n",
    "for dirname, _, filenames in os.walk('/kaggle/input'):\n",
    "    for filename in filenames:\n",
    "        print(os.path.join(dirname, filename))\n",
    "\n",
    "# You can write up to 20GB to the current directory (/kaggle/working/) that gets preserved as output when you create a version using \"Save & Run All\" \n",
    "# You can also write temporary files to /kaggle/temp/, but they won't be saved outside of the current session"
   ]
  },
  {
   "cell_type": "code",
   "execution_count": 2,
   "id": "d1e7e87c",
   "metadata": {
    "execution": {
     "iopub.execute_input": "2023-06-28T07:53:53.309560Z",
     "iopub.status.busy": "2023-06-28T07:53:53.309191Z",
     "iopub.status.idle": "2023-06-28T07:54:05.515583Z",
     "shell.execute_reply": "2023-06-28T07:54:05.514425Z"
    },
    "papermill": {
     "duration": 12.21964,
     "end_time": "2023-06-28T07:54:05.518146",
     "exception": false,
     "start_time": "2023-06-28T07:53:53.298506",
     "status": "completed"
    },
    "tags": []
   },
   "outputs": [
    {
     "name": "stdout",
     "output_type": "stream",
     "text": [
      "Collecting yfinance\r\n",
      "  Downloading yfinance-0.2.22-py2.py3-none-any.whl (63 kB)\r\n",
      "\u001b[2K     \u001b[90m━━━━━━━━━━━━━━━━━━━━━━━━━━━━━━━━━━━━━━━━\u001b[0m \u001b[32m63.2/63.2 kB\u001b[0m \u001b[31m3.0 MB/s\u001b[0m eta \u001b[36m0:00:00\u001b[0m\r\n",
      "\u001b[?25hRequirement already satisfied: pandas>=1.3.0 in /opt/conda/lib/python3.10/site-packages (from yfinance) (1.5.3)\r\n",
      "Requirement already satisfied: numpy>=1.16.5 in /opt/conda/lib/python3.10/site-packages (from yfinance) (1.23.5)\r\n",
      "Requirement already satisfied: requests>=2.26 in /opt/conda/lib/python3.10/site-packages (from yfinance) (2.28.2)\r\n",
      "Collecting multitasking>=0.0.7 (from yfinance)\r\n",
      "  Downloading multitasking-0.0.11-py3-none-any.whl (8.5 kB)\r\n",
      "Requirement already satisfied: lxml>=4.9.1 in /opt/conda/lib/python3.10/site-packages (from yfinance) (4.9.2)\r\n",
      "Requirement already satisfied: appdirs>=1.4.4 in /opt/conda/lib/python3.10/site-packages (from yfinance) (1.4.4)\r\n",
      "Requirement already satisfied: pytz>=2022.5 in /opt/conda/lib/python3.10/site-packages (from yfinance) (2023.3)\r\n",
      "Requirement already satisfied: frozendict>=2.3.4 in /opt/conda/lib/python3.10/site-packages (from yfinance) (2.3.8)\r\n",
      "Requirement already satisfied: beautifulsoup4>=4.11.1 in /opt/conda/lib/python3.10/site-packages (from yfinance) (4.12.2)\r\n",
      "Requirement already satisfied: html5lib>=1.1 in /opt/conda/lib/python3.10/site-packages (from yfinance) (1.1)\r\n",
      "Requirement already satisfied: soupsieve>1.2 in /opt/conda/lib/python3.10/site-packages (from beautifulsoup4>=4.11.1->yfinance) (2.3.2.post1)\r\n",
      "Requirement already satisfied: six>=1.9 in /opt/conda/lib/python3.10/site-packages (from html5lib>=1.1->yfinance) (1.16.0)\r\n",
      "Requirement already satisfied: webencodings in /opt/conda/lib/python3.10/site-packages (from html5lib>=1.1->yfinance) (0.5.1)\r\n",
      "Requirement already satisfied: python-dateutil>=2.8.1 in /opt/conda/lib/python3.10/site-packages (from pandas>=1.3.0->yfinance) (2.8.2)\r\n",
      "Requirement already satisfied: charset-normalizer<4,>=2 in /opt/conda/lib/python3.10/site-packages (from requests>=2.26->yfinance) (2.1.1)\r\n",
      "Requirement already satisfied: idna<4,>=2.5 in /opt/conda/lib/python3.10/site-packages (from requests>=2.26->yfinance) (3.4)\r\n",
      "Requirement already satisfied: urllib3<1.27,>=1.21.1 in /opt/conda/lib/python3.10/site-packages (from requests>=2.26->yfinance) (1.26.15)\r\n",
      "Requirement already satisfied: certifi>=2017.4.17 in /opt/conda/lib/python3.10/site-packages (from requests>=2.26->yfinance) (2023.5.7)\r\n",
      "Installing collected packages: multitasking, yfinance\r\n",
      "Successfully installed multitasking-0.0.11 yfinance-0.2.22\r\n",
      "\u001b[33mWARNING: Running pip as the 'root' user can result in broken permissions and conflicting behaviour with the system package manager. It is recommended to use a virtual environment instead: https://pip.pypa.io/warnings/venv\u001b[0m\u001b[33m\r\n",
      "\u001b[0m"
     ]
    }
   ],
   "source": [
    "!pip install yfinance"
   ]
  },
  {
   "cell_type": "code",
   "execution_count": 3,
   "id": "9a8e6ab6",
   "metadata": {
    "execution": {
     "iopub.execute_input": "2023-06-28T07:54:05.542255Z",
     "iopub.status.busy": "2023-06-28T07:54:05.541805Z",
     "iopub.status.idle": "2023-06-28T07:54:15.006528Z",
     "shell.execute_reply": "2023-06-28T07:54:15.005605Z"
    },
    "papermill": {
     "duration": 9.479567,
     "end_time": "2023-06-28T07:54:15.008904",
     "exception": false,
     "start_time": "2023-06-28T07:54:05.529337",
     "status": "completed"
    },
    "tags": []
   },
   "outputs": [
    {
     "name": "stderr",
     "output_type": "stream",
     "text": [
      "/opt/conda/lib/python3.10/site-packages/tensorflow_io/python/ops/__init__.py:98: UserWarning: unable to load libtensorflow_io_plugins.so: unable to open file: libtensorflow_io_plugins.so, from paths: ['/opt/conda/lib/python3.10/site-packages/tensorflow_io/python/ops/libtensorflow_io_plugins.so']\n",
      "caused by: ['/opt/conda/lib/python3.10/site-packages/tensorflow_io/python/ops/libtensorflow_io_plugins.so: undefined symbol: _ZN3tsl6StatusC1EN10tensorflow5error4CodeESt17basic_string_viewIcSt11char_traitsIcEENS_14SourceLocationE']\n",
      "  warnings.warn(f\"unable to load libtensorflow_io_plugins.so: {e}\")\n",
      "/opt/conda/lib/python3.10/site-packages/tensorflow_io/python/ops/__init__.py:104: UserWarning: file system plugins are not loaded: unable to open file: libtensorflow_io.so, from paths: ['/opt/conda/lib/python3.10/site-packages/tensorflow_io/python/ops/libtensorflow_io.so']\n",
      "caused by: ['/opt/conda/lib/python3.10/site-packages/tensorflow_io/python/ops/libtensorflow_io.so: undefined symbol: _ZTVN10tensorflow13GcsFileSystemE']\n",
      "  warnings.warn(f\"file system plugins are not loaded: {e}\")\n"
     ]
    }
   ],
   "source": [
    "import pandas as pd\n",
    "import numpy as np\n",
    "from sklearn.preprocessing import StandardScaler,MinMaxScaler\n",
    "from sklearn.model_selection import train_test_split\n",
    "from tensorflow.keras.models import Sequential\n",
    "from tensorflow.keras.layers import LSTM, Dense\n",
    "import tensorflow as tf\n",
    "import yfinance as yf\n",
    "import matplotlib.pyplot as plt"
   ]
  },
  {
   "cell_type": "code",
   "execution_count": 4,
   "id": "1a300f34",
   "metadata": {
    "execution": {
     "iopub.execute_input": "2023-06-28T07:54:15.031744Z",
     "iopub.status.busy": "2023-06-28T07:54:15.031040Z",
     "iopub.status.idle": "2023-06-28T07:54:15.057822Z",
     "shell.execute_reply": "2023-06-28T07:54:15.056958Z"
    },
    "papermill": {
     "duration": 0.040802,
     "end_time": "2023-06-28T07:54:15.060156",
     "exception": false,
     "start_time": "2023-06-28T07:54:15.019354",
     "status": "completed"
    },
    "tags": []
   },
   "outputs": [],
   "source": [
    "# get nifty 50 stocks list\n",
    "nifty50_data = pd.read_csv('/kaggle/input/nifty-50-list/MW-NIFTY-50-24-Jun-2023.csv')"
   ]
  },
  {
   "cell_type": "code",
   "execution_count": 5,
   "id": "bdf9e918",
   "metadata": {
    "execution": {
     "iopub.execute_input": "2023-06-28T07:54:15.083416Z",
     "iopub.status.busy": "2023-06-28T07:54:15.082684Z",
     "iopub.status.idle": "2023-06-28T07:54:15.118893Z",
     "shell.execute_reply": "2023-06-28T07:54:15.118170Z"
    },
    "papermill": {
     "duration": 0.049901,
     "end_time": "2023-06-28T07:54:15.120856",
     "exception": false,
     "start_time": "2023-06-28T07:54:15.070955",
     "status": "completed"
    },
    "tags": []
   },
   "outputs": [
    {
     "data": {
      "text/html": [
       "<div>\n",
       "<style scoped>\n",
       "    .dataframe tbody tr th:only-of-type {\n",
       "        vertical-align: middle;\n",
       "    }\n",
       "\n",
       "    .dataframe tbody tr th {\n",
       "        vertical-align: top;\n",
       "    }\n",
       "\n",
       "    .dataframe thead th {\n",
       "        text-align: right;\n",
       "    }\n",
       "</style>\n",
       "<table border=\"1\" class=\"dataframe\">\n",
       "  <thead>\n",
       "    <tr style=\"text-align: right;\">\n",
       "      <th></th>\n",
       "      <th>SYMBOL \\n</th>\n",
       "      <th>OPEN \\n</th>\n",
       "      <th>HIGH \\n</th>\n",
       "      <th>LOW \\n</th>\n",
       "      <th>PREV. CLOSE \\n</th>\n",
       "      <th>LTP \\n</th>\n",
       "      <th>CHNG \\n</th>\n",
       "      <th>%CHNG \\n</th>\n",
       "      <th>VOLUME \\n(shares)</th>\n",
       "      <th>VALUE</th>\n",
       "      <th>52W H \\n</th>\n",
       "      <th>52W L \\n</th>\n",
       "      <th>365 D % CHNG \\n 22-Jun-2022</th>\n",
       "      <th>30 D % CHNG \\n 23-May-2023</th>\n",
       "    </tr>\n",
       "  </thead>\n",
       "  <tbody>\n",
       "    <tr>\n",
       "      <th>0</th>\n",
       "      <td>NIFTY 50</td>\n",
       "      <td>18,741.85</td>\n",
       "      <td>18,756.40</td>\n",
       "      <td>18,647.10</td>\n",
       "      <td>18,771.25</td>\n",
       "      <td>18,665.50</td>\n",
       "      <td>-105.75</td>\n",
       "      <td>-0.56</td>\n",
       "      <td>210,562,119</td>\n",
       "      <td>206,194,741,909.89</td>\n",
       "      <td>18,887.60</td>\n",
       "      <td>15,511.05</td>\n",
       "      <td>19.98</td>\n",
       "      <td>2.08</td>\n",
       "    </tr>\n",
       "    <tr>\n",
       "      <th>1</th>\n",
       "      <td>INDUSINDBK</td>\n",
       "      <td>1,272.70</td>\n",
       "      <td>1,318.00</td>\n",
       "      <td>1,262.00</td>\n",
       "      <td>1,272.70</td>\n",
       "      <td>1,309.40</td>\n",
       "      <td>36.70</td>\n",
       "      <td>2.88</td>\n",
       "      <td>4,636,121</td>\n",
       "      <td>6,014,486,134.51</td>\n",
       "      <td>1,342.90</td>\n",
       "      <td>763.20</td>\n",
       "      <td>66.72</td>\n",
       "      <td>2.91</td>\n",
       "    </tr>\n",
       "    <tr>\n",
       "      <th>2</th>\n",
       "      <td>DRREDDY</td>\n",
       "      <td>4,901.00</td>\n",
       "      <td>5,015.00</td>\n",
       "      <td>4,901.00</td>\n",
       "      <td>4,899.45</td>\n",
       "      <td>4,992.95</td>\n",
       "      <td>93.50</td>\n",
       "      <td>1.91</td>\n",
       "      <td>558,228</td>\n",
       "      <td>2,777,184,300.00</td>\n",
       "      <td>5,024.00</td>\n",
       "      <td>3,997.00</td>\n",
       "      <td>16.28</td>\n",
       "      <td>10.50</td>\n",
       "    </tr>\n",
       "    <tr>\n",
       "      <th>3</th>\n",
       "      <td>ASIANPAINT</td>\n",
       "      <td>3,265.00</td>\n",
       "      <td>3,304.15</td>\n",
       "      <td>3,253.05</td>\n",
       "      <td>3,248.05</td>\n",
       "      <td>3,297.00</td>\n",
       "      <td>48.95</td>\n",
       "      <td>1.51</td>\n",
       "      <td>1,260,659</td>\n",
       "      <td>4,143,080,163.96</td>\n",
       "      <td>3,582.90</td>\n",
       "      <td>2,626.35</td>\n",
       "      <td>19.56</td>\n",
       "      <td>6.33</td>\n",
       "    </tr>\n",
       "    <tr>\n",
       "      <th>4</th>\n",
       "      <td>BHARTIARTL</td>\n",
       "      <td>844.00</td>\n",
       "      <td>862.75</td>\n",
       "      <td>841.35</td>\n",
       "      <td>842.80</td>\n",
       "      <td>851.30</td>\n",
       "      <td>8.50</td>\n",
       "      <td>1.01</td>\n",
       "      <td>7,667,340</td>\n",
       "      <td>6,563,626,407.00</td>\n",
       "      <td>888.75</td>\n",
       "      <td>628.75</td>\n",
       "      <td>29.48</td>\n",
       "      <td>6.66</td>\n",
       "    </tr>\n",
       "  </tbody>\n",
       "</table>\n",
       "</div>"
      ],
      "text/plain": [
       "    SYMBOL \\n    OPEN \\n    HIGH \\n     LOW \\n PREV. CLOSE \\n     LTP \\n  \\\n",
       "0    NIFTY 50  18,741.85  18,756.40  18,647.10      18,771.25  18,665.50   \n",
       "1  INDUSINDBK   1,272.70   1,318.00   1,262.00       1,272.70   1,309.40   \n",
       "2     DRREDDY   4,901.00   5,015.00   4,901.00       4,899.45   4,992.95   \n",
       "3  ASIANPAINT   3,265.00   3,304.15   3,253.05       3,248.05   3,297.00   \n",
       "4  BHARTIARTL     844.00     862.75     841.35         842.80     851.30   \n",
       "\n",
       "   CHNG \\n  %CHNG \\n VOLUME \\n(shares)              VALUE    52W H \\n  \\\n",
       "0  -105.75     -0.56       210,562,119  206,194,741,909.89  18,887.60   \n",
       "1    36.70      2.88         4,636,121    6,014,486,134.51   1,342.90   \n",
       "2    93.50      1.91           558,228    2,777,184,300.00   5,024.00   \n",
       "3    48.95      1.51         1,260,659    4,143,080,163.96   3,582.90   \n",
       "4     8.50      1.01         7,667,340    6,563,626,407.00     888.75   \n",
       "\n",
       "    52W L \\n  365 D % CHNG \\n 22-Jun-2022  30 D % CHNG \\n 23-May-2023  \n",
       "0  15,511.05                        19.98                        2.08  \n",
       "1     763.20                        66.72                        2.91  \n",
       "2   3,997.00                        16.28                       10.50  \n",
       "3   2,626.35                        19.56                        6.33  \n",
       "4     628.75                        29.48                        6.66  "
      ]
     },
     "execution_count": 5,
     "metadata": {},
     "output_type": "execute_result"
    }
   ],
   "source": [
    "nifty50_data.head()"
   ]
  },
  {
   "cell_type": "code",
   "execution_count": 6,
   "id": "e68a2df2",
   "metadata": {
    "execution": {
     "iopub.execute_input": "2023-06-28T07:54:15.144764Z",
     "iopub.status.busy": "2023-06-28T07:54:15.143712Z",
     "iopub.status.idle": "2023-06-28T07:54:15.150117Z",
     "shell.execute_reply": "2023-06-28T07:54:15.149148Z"
    },
    "papermill": {
     "duration": 0.02058,
     "end_time": "2023-06-28T07:54:15.152159",
     "exception": false,
     "start_time": "2023-06-28T07:54:15.131579",
     "status": "completed"
    },
    "tags": []
   },
   "outputs": [
    {
     "data": {
      "text/plain": [
       "Index(['SYMBOL \\n', 'OPEN \\n', 'HIGH \\n', 'LOW \\n', 'PREV. CLOSE \\n', 'LTP \\n',\n",
       "       'CHNG \\n', '%CHNG \\n', 'VOLUME \\n(shares)', 'VALUE ', '52W H \\n',\n",
       "       '52W L \\n', '365 D % CHNG \\n 22-Jun-2022',\n",
       "       '30 D % CHNG \\n 23-May-2023'],\n",
       "      dtype='object')"
      ]
     },
     "execution_count": 6,
     "metadata": {},
     "output_type": "execute_result"
    }
   ],
   "source": [
    "nifty50_data.columns"
   ]
  },
  {
   "cell_type": "code",
   "execution_count": 7,
   "id": "e5c0a12b",
   "metadata": {
    "execution": {
     "iopub.execute_input": "2023-06-28T07:54:15.176241Z",
     "iopub.status.busy": "2023-06-28T07:54:15.175832Z",
     "iopub.status.idle": "2023-06-28T07:54:15.181039Z",
     "shell.execute_reply": "2023-06-28T07:54:15.179990Z"
    },
    "papermill": {
     "duration": 0.019716,
     "end_time": "2023-06-28T07:54:15.183381",
     "exception": false,
     "start_time": "2023-06-28T07:54:15.163665",
     "status": "completed"
    },
    "tags": []
   },
   "outputs": [
    {
     "name": "stdout",
     "output_type": "stream",
     "text": [
      "['NIFTY 50', 'INDUSINDBK', 'DRREDDY', 'ASIANPAINT', 'BHARTIARTL', 'NTPC', 'HCLTECH', 'HDFC', 'BAJAJ-AUTO', 'TATACONSUM', 'NESTLEIND', 'SUNPHARMA', 'HDFCBANK', 'BRITANNIA', 'ICICIBANK', 'HINDUNILVR', 'M&M', 'APOLLOHOSP', 'TECHM', 'BAJAJFINSV', 'COALINDIA', 'KOTAKBANK', 'ITC', 'BAJFINANCE', 'WIPRO', 'RELIANCE', 'TCS', 'CIPLA', 'EICHERMOT', 'MARUTI', 'AXISBANK', 'SBILIFE', 'LT', 'JSWSTEEL', 'UPL', 'ULTRACEMCO', 'INFY', 'TITAN', 'HEROMOTOCO', 'SBIN', 'POWERGRID', 'HDFCLIFE', 'TATAMOTORS', 'ONGC', 'TATASTEEL', 'GRASIM', 'DIVISLAB', 'HINDALCO', 'BPCL', 'ADANIPORTS', 'ADANIENT']\n"
     ]
    }
   ],
   "source": [
    "# Extract the stock symbols\n",
    "nifty50_stocks = nifty50_data['SYMBOL \\n'].tolist()\n",
    "\n",
    "print(nifty50_stocks)"
   ]
  },
  {
   "cell_type": "code",
   "execution_count": 8,
   "id": "2f5e0dad",
   "metadata": {
    "execution": {
     "iopub.execute_input": "2023-06-28T07:54:15.206710Z",
     "iopub.status.busy": "2023-06-28T07:54:15.206361Z",
     "iopub.status.idle": "2023-06-28T07:54:15.212004Z",
     "shell.execute_reply": "2023-06-28T07:54:15.211218Z"
    },
    "papermill": {
     "duration": 0.01966,
     "end_time": "2023-06-28T07:54:15.213830",
     "exception": false,
     "start_time": "2023-06-28T07:54:15.194170",
     "status": "completed"
    },
    "tags": []
   },
   "outputs": [
    {
     "data": {
      "text/plain": [
       "51"
      ]
     },
     "execution_count": 8,
     "metadata": {},
     "output_type": "execute_result"
    }
   ],
   "source": [
    "len(nifty50_stocks)"
   ]
  },
  {
   "cell_type": "code",
   "execution_count": 9,
   "id": "71d3164f",
   "metadata": {
    "execution": {
     "iopub.execute_input": "2023-06-28T07:54:15.237778Z",
     "iopub.status.busy": "2023-06-28T07:54:15.237093Z",
     "iopub.status.idle": "2023-06-28T07:54:15.243467Z",
     "shell.execute_reply": "2023-06-28T07:54:15.242432Z"
    },
    "papermill": {
     "duration": 0.020704,
     "end_time": "2023-06-28T07:54:15.245595",
     "exception": false,
     "start_time": "2023-06-28T07:54:15.224891",
     "status": "completed"
    },
    "tags": []
   },
   "outputs": [
    {
     "data": {
      "text/plain": [
       "'NIFTY 50'"
      ]
     },
     "execution_count": 9,
     "metadata": {},
     "output_type": "execute_result"
    }
   ],
   "source": [
    "nifty50_stocks.pop(0)"
   ]
  },
  {
   "cell_type": "code",
   "execution_count": 10,
   "id": "a1050554",
   "metadata": {
    "execution": {
     "iopub.execute_input": "2023-06-28T07:54:15.270113Z",
     "iopub.status.busy": "2023-06-28T07:54:15.269728Z",
     "iopub.status.idle": "2023-06-28T07:54:15.276549Z",
     "shell.execute_reply": "2023-06-28T07:54:15.275486Z"
    },
    "papermill": {
     "duration": 0.021327,
     "end_time": "2023-06-28T07:54:15.278592",
     "exception": false,
     "start_time": "2023-06-28T07:54:15.257265",
     "status": "completed"
    },
    "tags": []
   },
   "outputs": [
    {
     "data": {
      "text/plain": [
       "['INDUSINDBK',\n",
       " 'DRREDDY',\n",
       " 'ASIANPAINT',\n",
       " 'BHARTIARTL',\n",
       " 'NTPC',\n",
       " 'HCLTECH',\n",
       " 'HDFC',\n",
       " 'BAJAJ-AUTO',\n",
       " 'TATACONSUM',\n",
       " 'NESTLEIND',\n",
       " 'SUNPHARMA',\n",
       " 'HDFCBANK',\n",
       " 'BRITANNIA',\n",
       " 'ICICIBANK',\n",
       " 'HINDUNILVR',\n",
       " 'M&M',\n",
       " 'APOLLOHOSP',\n",
       " 'TECHM',\n",
       " 'BAJAJFINSV',\n",
       " 'COALINDIA',\n",
       " 'KOTAKBANK',\n",
       " 'ITC',\n",
       " 'BAJFINANCE',\n",
       " 'WIPRO',\n",
       " 'RELIANCE',\n",
       " 'TCS',\n",
       " 'CIPLA',\n",
       " 'EICHERMOT',\n",
       " 'MARUTI',\n",
       " 'AXISBANK',\n",
       " 'SBILIFE',\n",
       " 'LT',\n",
       " 'JSWSTEEL',\n",
       " 'UPL',\n",
       " 'ULTRACEMCO',\n",
       " 'INFY',\n",
       " 'TITAN',\n",
       " 'HEROMOTOCO',\n",
       " 'SBIN',\n",
       " 'POWERGRID',\n",
       " 'HDFCLIFE',\n",
       " 'TATAMOTORS',\n",
       " 'ONGC',\n",
       " 'TATASTEEL',\n",
       " 'GRASIM',\n",
       " 'DIVISLAB',\n",
       " 'HINDALCO',\n",
       " 'BPCL',\n",
       " 'ADANIPORTS',\n",
       " 'ADANIENT']"
      ]
     },
     "execution_count": 10,
     "metadata": {},
     "output_type": "execute_result"
    }
   ],
   "source": [
    "nifty50_stocks"
   ]
  },
  {
   "cell_type": "code",
   "execution_count": 11,
   "id": "fcdb34ab",
   "metadata": {
    "execution": {
     "iopub.execute_input": "2023-06-28T07:54:15.302664Z",
     "iopub.status.busy": "2023-06-28T07:54:15.302318Z",
     "iopub.status.idle": "2023-06-28T07:54:15.311223Z",
     "shell.execute_reply": "2023-06-28T07:54:15.310205Z"
    },
    "papermill": {
     "duration": 0.023603,
     "end_time": "2023-06-28T07:54:15.313359",
     "exception": false,
     "start_time": "2023-06-28T07:54:15.289756",
     "status": "completed"
    },
    "tags": []
   },
   "outputs": [],
   "source": [
    "data = pd.DataFrame(columns=[\"Date\",\"Open\",\"High\",\"Low\",\"Close\",\"Adj Close\",\"Volume\",\"Symbol\"])"
   ]
  },
  {
   "cell_type": "code",
   "execution_count": 12,
   "id": "3efe7d0c",
   "metadata": {
    "execution": {
     "iopub.execute_input": "2023-06-28T07:54:15.337745Z",
     "iopub.status.busy": "2023-06-28T07:54:15.337013Z",
     "iopub.status.idle": "2023-06-28T07:54:31.774028Z",
     "shell.execute_reply": "2023-06-28T07:54:31.773069Z"
    },
    "papermill": {
     "duration": 16.452055,
     "end_time": "2023-06-28T07:54:31.776691",
     "exception": false,
     "start_time": "2023-06-28T07:54:15.324636",
     "status": "completed"
    },
    "tags": []
   },
   "outputs": [
    {
     "name": "stdout",
     "output_type": "stream",
     "text": [
      "[*********************100%***********************]  1 of 1 completed\n",
      "[*********************100%***********************]  1 of 1 completed\n",
      "[*********************100%***********************]  1 of 1 completed\n",
      "[*********************100%***********************]  1 of 1 completed\n",
      "[*********************100%***********************]  1 of 1 completed\n",
      "[*********************100%***********************]  1 of 1 completed\n",
      "[*********************100%***********************]  1 of 1 completed\n",
      "[*********************100%***********************]  1 of 1 completed\n",
      "[*********************100%***********************]  1 of 1 completed\n",
      "[*********************100%***********************]  1 of 1 completed\n",
      "[*********************100%***********************]  1 of 1 completed\n",
      "[*********************100%***********************]  1 of 1 completed\n",
      "[*********************100%***********************]  1 of 1 completed\n",
      "[*********************100%***********************]  1 of 1 completed\n",
      "[*********************100%***********************]  1 of 1 completed\n",
      "[*********************100%***********************]  1 of 1 completed\n",
      "[*********************100%***********************]  1 of 1 completed\n",
      "[*********************100%***********************]  1 of 1 completed\n",
      "[*********************100%***********************]  1 of 1 completed\n",
      "[*********************100%***********************]  1 of 1 completed\n",
      "[*********************100%***********************]  1 of 1 completed\n",
      "[*********************100%***********************]  1 of 1 completed\n",
      "[*********************100%***********************]  1 of 1 completed\n",
      "[*********************100%***********************]  1 of 1 completed\n",
      "[*********************100%***********************]  1 of 1 completed\n",
      "[*********************100%***********************]  1 of 1 completed\n",
      "[*********************100%***********************]  1 of 1 completed\n",
      "[*********************100%***********************]  1 of 1 completed\n",
      "[*********************100%***********************]  1 of 1 completed\n",
      "[*********************100%***********************]  1 of 1 completed\n",
      "[*********************100%***********************]  1 of 1 completed\n",
      "[*********************100%***********************]  1 of 1 completed\n",
      "[*********************100%***********************]  1 of 1 completed\n",
      "[*********************100%***********************]  1 of 1 completed\n",
      "[*********************100%***********************]  1 of 1 completed\n",
      "[*********************100%***********************]  1 of 1 completed\n",
      "[*********************100%***********************]  1 of 1 completed\n",
      "[*********************100%***********************]  1 of 1 completed\n",
      "[*********************100%***********************]  1 of 1 completed\n",
      "[*********************100%***********************]  1 of 1 completed\n",
      "[*********************100%***********************]  1 of 1 completed\n",
      "[*********************100%***********************]  1 of 1 completed\n",
      "[*********************100%***********************]  1 of 1 completed\n",
      "[*********************100%***********************]  1 of 1 completed\n",
      "[*********************100%***********************]  1 of 1 completed\n",
      "[*********************100%***********************]  1 of 1 completed\n",
      "[*********************100%***********************]  1 of 1 completed\n",
      "[*********************100%***********************]  1 of 1 completed\n",
      "[*********************100%***********************]  1 of 1 completed\n",
      "[*********************100%***********************]  1 of 1 completed\n"
     ]
    }
   ],
   "source": [
    "dfs=[]\n",
    "for stock in nifty50_stocks:\n",
    "    stock_data = yf.download(f'{stock}.NS', start=\"2010-01-01\", end=\"2023-06-22\")\n",
    "    stock_data['Symbol'] = stock\n",
    "    dfs.append(stock_data)\n",
    "data = pd.concat(dfs,axis=0)"
   ]
  },
  {
   "cell_type": "code",
   "execution_count": 13,
   "id": "d0025a98",
   "metadata": {
    "execution": {
     "iopub.execute_input": "2023-06-28T07:54:31.813456Z",
     "iopub.status.busy": "2023-06-28T07:54:31.812478Z",
     "iopub.status.idle": "2023-06-28T07:54:31.829339Z",
     "shell.execute_reply": "2023-06-28T07:54:31.828475Z"
    },
    "papermill": {
     "duration": 0.037186,
     "end_time": "2023-06-28T07:54:31.831212",
     "exception": false,
     "start_time": "2023-06-28T07:54:31.794026",
     "status": "completed"
    },
    "tags": []
   },
   "outputs": [
    {
     "data": {
      "text/html": [
       "<div>\n",
       "<style scoped>\n",
       "    .dataframe tbody tr th:only-of-type {\n",
       "        vertical-align: middle;\n",
       "    }\n",
       "\n",
       "    .dataframe tbody tr th {\n",
       "        vertical-align: top;\n",
       "    }\n",
       "\n",
       "    .dataframe thead th {\n",
       "        text-align: right;\n",
       "    }\n",
       "</style>\n",
       "<table border=\"1\" class=\"dataframe\">\n",
       "  <thead>\n",
       "    <tr style=\"text-align: right;\">\n",
       "      <th></th>\n",
       "      <th>Open</th>\n",
       "      <th>High</th>\n",
       "      <th>Low</th>\n",
       "      <th>Close</th>\n",
       "      <th>Adj Close</th>\n",
       "      <th>Volume</th>\n",
       "      <th>Symbol</th>\n",
       "    </tr>\n",
       "    <tr>\n",
       "      <th>Date</th>\n",
       "      <th></th>\n",
       "      <th></th>\n",
       "      <th></th>\n",
       "      <th></th>\n",
       "      <th></th>\n",
       "      <th></th>\n",
       "      <th></th>\n",
       "    </tr>\n",
       "  </thead>\n",
       "  <tbody>\n",
       "    <tr>\n",
       "      <th>2010-01-04</th>\n",
       "      <td>140.500000</td>\n",
       "      <td>144.800003</td>\n",
       "      <td>140.050003</td>\n",
       "      <td>142.850006</td>\n",
       "      <td>131.203735</td>\n",
       "      <td>1042676</td>\n",
       "      <td>INDUSINDBK</td>\n",
       "    </tr>\n",
       "    <tr>\n",
       "      <th>2010-01-05</th>\n",
       "      <td>144.699997</td>\n",
       "      <td>144.750000</td>\n",
       "      <td>141.750000</td>\n",
       "      <td>142.699997</td>\n",
       "      <td>131.065979</td>\n",
       "      <td>551413</td>\n",
       "      <td>INDUSINDBK</td>\n",
       "    </tr>\n",
       "    <tr>\n",
       "      <th>2010-01-06</th>\n",
       "      <td>143.899994</td>\n",
       "      <td>147.000000</td>\n",
       "      <td>142.300003</td>\n",
       "      <td>146.100006</td>\n",
       "      <td>134.188782</td>\n",
       "      <td>995851</td>\n",
       "      <td>INDUSINDBK</td>\n",
       "    </tr>\n",
       "    <tr>\n",
       "      <th>2010-01-07</th>\n",
       "      <td>146.000000</td>\n",
       "      <td>147.000000</td>\n",
       "      <td>142.000000</td>\n",
       "      <td>142.800003</td>\n",
       "      <td>131.157822</td>\n",
       "      <td>580803</td>\n",
       "      <td>INDUSINDBK</td>\n",
       "    </tr>\n",
       "    <tr>\n",
       "      <th>2010-01-08</th>\n",
       "      <td>143.199997</td>\n",
       "      <td>144.949997</td>\n",
       "      <td>141.800003</td>\n",
       "      <td>142.300003</td>\n",
       "      <td>130.698593</td>\n",
       "      <td>382686</td>\n",
       "      <td>INDUSINDBK</td>\n",
       "    </tr>\n",
       "    <tr>\n",
       "      <th>...</th>\n",
       "      <td>...</td>\n",
       "      <td>...</td>\n",
       "      <td>...</td>\n",
       "      <td>...</td>\n",
       "      <td>...</td>\n",
       "      <td>...</td>\n",
       "      <td>...</td>\n",
       "    </tr>\n",
       "    <tr>\n",
       "      <th>2023-06-15</th>\n",
       "      <td>2469.000000</td>\n",
       "      <td>2527.000000</td>\n",
       "      <td>2462.899902</td>\n",
       "      <td>2485.649902</td>\n",
       "      <td>2485.649902</td>\n",
       "      <td>3744029</td>\n",
       "      <td>ADANIENT</td>\n",
       "    </tr>\n",
       "    <tr>\n",
       "      <th>2023-06-16</th>\n",
       "      <td>2499.199951</td>\n",
       "      <td>2526.899902</td>\n",
       "      <td>2487.399902</td>\n",
       "      <td>2509.600098</td>\n",
       "      <td>2509.600098</td>\n",
       "      <td>7999982</td>\n",
       "      <td>ADANIENT</td>\n",
       "    </tr>\n",
       "    <tr>\n",
       "      <th>2023-06-19</th>\n",
       "      <td>2504.000000</td>\n",
       "      <td>2521.600098</td>\n",
       "      <td>2350.000000</td>\n",
       "      <td>2401.399902</td>\n",
       "      <td>2401.399902</td>\n",
       "      <td>11475674</td>\n",
       "      <td>ADANIENT</td>\n",
       "    </tr>\n",
       "    <tr>\n",
       "      <th>2023-06-20</th>\n",
       "      <td>2435.000000</td>\n",
       "      <td>2435.000000</td>\n",
       "      <td>2390.000000</td>\n",
       "      <td>2414.800049</td>\n",
       "      <td>2414.800049</td>\n",
       "      <td>2479711</td>\n",
       "      <td>ADANIENT</td>\n",
       "    </tr>\n",
       "    <tr>\n",
       "      <th>2023-06-21</th>\n",
       "      <td>2426.699951</td>\n",
       "      <td>2440.000000</td>\n",
       "      <td>2393.100098</td>\n",
       "      <td>2405.949951</td>\n",
       "      <td>2405.949951</td>\n",
       "      <td>7418013</td>\n",
       "      <td>ADANIENT</td>\n",
       "    </tr>\n",
       "  </tbody>\n",
       "</table>\n",
       "<p>162186 rows × 7 columns</p>\n",
       "</div>"
      ],
      "text/plain": [
       "                   Open         High          Low        Close    Adj Close  \\\n",
       "Date                                                                          \n",
       "2010-01-04   140.500000   144.800003   140.050003   142.850006   131.203735   \n",
       "2010-01-05   144.699997   144.750000   141.750000   142.699997   131.065979   \n",
       "2010-01-06   143.899994   147.000000   142.300003   146.100006   134.188782   \n",
       "2010-01-07   146.000000   147.000000   142.000000   142.800003   131.157822   \n",
       "2010-01-08   143.199997   144.949997   141.800003   142.300003   130.698593   \n",
       "...                 ...          ...          ...          ...          ...   \n",
       "2023-06-15  2469.000000  2527.000000  2462.899902  2485.649902  2485.649902   \n",
       "2023-06-16  2499.199951  2526.899902  2487.399902  2509.600098  2509.600098   \n",
       "2023-06-19  2504.000000  2521.600098  2350.000000  2401.399902  2401.399902   \n",
       "2023-06-20  2435.000000  2435.000000  2390.000000  2414.800049  2414.800049   \n",
       "2023-06-21  2426.699951  2440.000000  2393.100098  2405.949951  2405.949951   \n",
       "\n",
       "              Volume      Symbol  \n",
       "Date                              \n",
       "2010-01-04   1042676  INDUSINDBK  \n",
       "2010-01-05    551413  INDUSINDBK  \n",
       "2010-01-06    995851  INDUSINDBK  \n",
       "2010-01-07    580803  INDUSINDBK  \n",
       "2010-01-08    382686  INDUSINDBK  \n",
       "...              ...         ...  \n",
       "2023-06-15   3744029    ADANIENT  \n",
       "2023-06-16   7999982    ADANIENT  \n",
       "2023-06-19  11475674    ADANIENT  \n",
       "2023-06-20   2479711    ADANIENT  \n",
       "2023-06-21   7418013    ADANIENT  \n",
       "\n",
       "[162186 rows x 7 columns]"
      ]
     },
     "execution_count": 13,
     "metadata": {},
     "output_type": "execute_result"
    }
   ],
   "source": [
    "data"
   ]
  },
  {
   "cell_type": "code",
   "execution_count": 14,
   "id": "9199ba75",
   "metadata": {
    "execution": {
     "iopub.execute_input": "2023-06-28T07:54:31.868065Z",
     "iopub.status.busy": "2023-06-28T07:54:31.867659Z",
     "iopub.status.idle": "2023-06-28T07:54:31.884872Z",
     "shell.execute_reply": "2023-06-28T07:54:31.884157Z"
    },
    "papermill": {
     "duration": 0.037957,
     "end_time": "2023-06-28T07:54:31.886760",
     "exception": false,
     "start_time": "2023-06-28T07:54:31.848803",
     "status": "completed"
    },
    "tags": []
   },
   "outputs": [
    {
     "data": {
      "text/plain": [
       "HCLTECH       3326\n",
       "INDUSINDBK    3325\n",
       "HEROMOTOCO    3325\n",
       "EICHERMOT     3325\n",
       "MARUTI        3325\n",
       "AXISBANK      3325\n",
       "LT            3325\n",
       "JSWSTEEL      3325\n",
       "UPL           3325\n",
       "ULTRACEMCO    3325\n",
       "INFY          3325\n",
       "TITAN         3325\n",
       "SBIN          3325\n",
       "DRREDDY       3325\n",
       "POWERGRID     3325\n",
       "TATAMOTORS    3325\n",
       "ONGC          3325\n",
       "TATASTEEL     3325\n",
       "GRASIM        3325\n",
       "DIVISLAB      3325\n",
       "HINDALCO      3325\n",
       "BPCL          3325\n",
       "ADANIPORTS    3325\n",
       "CIPLA         3325\n",
       "TCS           3325\n",
       "RELIANCE      3325\n",
       "WIPRO         3325\n",
       "ASIANPAINT    3325\n",
       "BHARTIARTL    3325\n",
       "NTPC          3325\n",
       "HDFC          3325\n",
       "BAJAJ-AUTO    3325\n",
       "TATACONSUM    3325\n",
       "NESTLEIND     3325\n",
       "SUNPHARMA     3325\n",
       "HDFCBANK      3325\n",
       "BRITANNIA     3325\n",
       "ICICIBANK     3325\n",
       "HINDUNILVR    3325\n",
       "M&M           3325\n",
       "APOLLOHOSP    3325\n",
       "TECHM         3325\n",
       "BAJAJFINSV    3325\n",
       "KOTAKBANK     3325\n",
       "ITC           3325\n",
       "BAJFINANCE    3325\n",
       "ADANIENT      3325\n",
       "COALINDIA     3114\n",
       "SBILIFE       1414\n",
       "HDFCLIFE      1382\n",
       "Name: Symbol, dtype: int64"
      ]
     },
     "execution_count": 14,
     "metadata": {},
     "output_type": "execute_result"
    }
   ],
   "source": [
    "data.Symbol.value_counts()"
   ]
  },
  {
   "cell_type": "code",
   "execution_count": 15,
   "id": "4d7adcbe",
   "metadata": {
    "execution": {
     "iopub.execute_input": "2023-06-28T07:54:31.924033Z",
     "iopub.status.busy": "2023-06-28T07:54:31.923375Z",
     "iopub.status.idle": "2023-06-28T07:54:31.937458Z",
     "shell.execute_reply": "2023-06-28T07:54:31.936731Z"
    },
    "papermill": {
     "duration": 0.035042,
     "end_time": "2023-06-28T07:54:31.939474",
     "exception": false,
     "start_time": "2023-06-28T07:54:31.904432",
     "status": "completed"
    },
    "tags": []
   },
   "outputs": [
    {
     "data": {
      "text/plain": [
       "50"
      ]
     },
     "execution_count": 15,
     "metadata": {},
     "output_type": "execute_result"
    }
   ],
   "source": [
    "len(data.Symbol.value_counts())"
   ]
  },
  {
   "cell_type": "code",
   "execution_count": 16,
   "id": "2f2c091a",
   "metadata": {
    "execution": {
     "iopub.execute_input": "2023-06-28T07:54:31.977184Z",
     "iopub.status.busy": "2023-06-28T07:54:31.976478Z",
     "iopub.status.idle": "2023-06-28T07:54:31.983007Z",
     "shell.execute_reply": "2023-06-28T07:54:31.981961Z"
    },
    "papermill": {
     "duration": 0.028127,
     "end_time": "2023-06-28T07:54:31.985254",
     "exception": false,
     "start_time": "2023-06-28T07:54:31.957127",
     "status": "completed"
    },
    "tags": []
   },
   "outputs": [
    {
     "data": {
      "text/plain": [
       "(162186, 7)"
      ]
     },
     "execution_count": 16,
     "metadata": {},
     "output_type": "execute_result"
    }
   ],
   "source": [
    "data.shape"
   ]
  },
  {
   "cell_type": "code",
   "execution_count": 17,
   "id": "60eaf04a",
   "metadata": {
    "execution": {
     "iopub.execute_input": "2023-06-28T07:54:32.022667Z",
     "iopub.status.busy": "2023-06-28T07:54:32.022280Z",
     "iopub.status.idle": "2023-06-28T07:54:32.035301Z",
     "shell.execute_reply": "2023-06-28T07:54:32.034242Z"
    },
    "papermill": {
     "duration": 0.034079,
     "end_time": "2023-06-28T07:54:32.037262",
     "exception": false,
     "start_time": "2023-06-28T07:54:32.003183",
     "status": "completed"
    },
    "tags": []
   },
   "outputs": [
    {
     "data": {
      "text/html": [
       "<div>\n",
       "<style scoped>\n",
       "    .dataframe tbody tr th:only-of-type {\n",
       "        vertical-align: middle;\n",
       "    }\n",
       "\n",
       "    .dataframe tbody tr th {\n",
       "        vertical-align: top;\n",
       "    }\n",
       "\n",
       "    .dataframe thead th {\n",
       "        text-align: right;\n",
       "    }\n",
       "</style>\n",
       "<table border=\"1\" class=\"dataframe\">\n",
       "  <thead>\n",
       "    <tr style=\"text-align: right;\">\n",
       "      <th></th>\n",
       "      <th>Open</th>\n",
       "      <th>High</th>\n",
       "      <th>Low</th>\n",
       "      <th>Close</th>\n",
       "      <th>Adj Close</th>\n",
       "      <th>Volume</th>\n",
       "      <th>Symbol</th>\n",
       "    </tr>\n",
       "    <tr>\n",
       "      <th>Date</th>\n",
       "      <th></th>\n",
       "      <th></th>\n",
       "      <th></th>\n",
       "      <th></th>\n",
       "      <th></th>\n",
       "      <th></th>\n",
       "      <th></th>\n",
       "    </tr>\n",
       "  </thead>\n",
       "  <tbody>\n",
       "    <tr>\n",
       "      <th>2023-06-15</th>\n",
       "      <td>2469.000000</td>\n",
       "      <td>2527.000000</td>\n",
       "      <td>2462.899902</td>\n",
       "      <td>2485.649902</td>\n",
       "      <td>2485.649902</td>\n",
       "      <td>3744029</td>\n",
       "      <td>ADANIENT</td>\n",
       "    </tr>\n",
       "    <tr>\n",
       "      <th>2023-06-16</th>\n",
       "      <td>2499.199951</td>\n",
       "      <td>2526.899902</td>\n",
       "      <td>2487.399902</td>\n",
       "      <td>2509.600098</td>\n",
       "      <td>2509.600098</td>\n",
       "      <td>7999982</td>\n",
       "      <td>ADANIENT</td>\n",
       "    </tr>\n",
       "    <tr>\n",
       "      <th>2023-06-19</th>\n",
       "      <td>2504.000000</td>\n",
       "      <td>2521.600098</td>\n",
       "      <td>2350.000000</td>\n",
       "      <td>2401.399902</td>\n",
       "      <td>2401.399902</td>\n",
       "      <td>11475674</td>\n",
       "      <td>ADANIENT</td>\n",
       "    </tr>\n",
       "    <tr>\n",
       "      <th>2023-06-20</th>\n",
       "      <td>2435.000000</td>\n",
       "      <td>2435.000000</td>\n",
       "      <td>2390.000000</td>\n",
       "      <td>2414.800049</td>\n",
       "      <td>2414.800049</td>\n",
       "      <td>2479711</td>\n",
       "      <td>ADANIENT</td>\n",
       "    </tr>\n",
       "    <tr>\n",
       "      <th>2023-06-21</th>\n",
       "      <td>2426.699951</td>\n",
       "      <td>2440.000000</td>\n",
       "      <td>2393.100098</td>\n",
       "      <td>2405.949951</td>\n",
       "      <td>2405.949951</td>\n",
       "      <td>7418013</td>\n",
       "      <td>ADANIENT</td>\n",
       "    </tr>\n",
       "  </tbody>\n",
       "</table>\n",
       "</div>"
      ],
      "text/plain": [
       "                   Open         High          Low        Close    Adj Close  \\\n",
       "Date                                                                          \n",
       "2023-06-15  2469.000000  2527.000000  2462.899902  2485.649902  2485.649902   \n",
       "2023-06-16  2499.199951  2526.899902  2487.399902  2509.600098  2509.600098   \n",
       "2023-06-19  2504.000000  2521.600098  2350.000000  2401.399902  2401.399902   \n",
       "2023-06-20  2435.000000  2435.000000  2390.000000  2414.800049  2414.800049   \n",
       "2023-06-21  2426.699951  2440.000000  2393.100098  2405.949951  2405.949951   \n",
       "\n",
       "              Volume    Symbol  \n",
       "Date                            \n",
       "2023-06-15   3744029  ADANIENT  \n",
       "2023-06-16   7999982  ADANIENT  \n",
       "2023-06-19  11475674  ADANIENT  \n",
       "2023-06-20   2479711  ADANIENT  \n",
       "2023-06-21   7418013  ADANIENT  "
      ]
     },
     "execution_count": 17,
     "metadata": {},
     "output_type": "execute_result"
    }
   ],
   "source": [
    "data.tail()"
   ]
  },
  {
   "cell_type": "code",
   "execution_count": 18,
   "id": "966d9bb4",
   "metadata": {
    "execution": {
     "iopub.execute_input": "2023-06-28T07:54:32.074948Z",
     "iopub.status.busy": "2023-06-28T07:54:32.074360Z",
     "iopub.status.idle": "2023-06-28T07:54:32.091099Z",
     "shell.execute_reply": "2023-06-28T07:54:32.089926Z"
    },
    "papermill": {
     "duration": 0.038561,
     "end_time": "2023-06-28T07:54:32.093676",
     "exception": false,
     "start_time": "2023-06-28T07:54:32.055115",
     "status": "completed"
    },
    "tags": []
   },
   "outputs": [],
   "source": [
    "symbols = data['Symbol'].unique().tolist()"
   ]
  },
  {
   "cell_type": "code",
   "execution_count": 19,
   "id": "d6c0fa7d",
   "metadata": {
    "execution": {
     "iopub.execute_input": "2023-06-28T07:54:32.131935Z",
     "iopub.status.busy": "2023-06-28T07:54:32.131538Z",
     "iopub.status.idle": "2023-06-28T07:54:32.138249Z",
     "shell.execute_reply": "2023-06-28T07:54:32.137280Z"
    },
    "papermill": {
     "duration": 0.028531,
     "end_time": "2023-06-28T07:54:32.140233",
     "exception": false,
     "start_time": "2023-06-28T07:54:32.111702",
     "status": "completed"
    },
    "tags": []
   },
   "outputs": [
    {
     "data": {
      "text/plain": [
       "['INDUSINDBK',\n",
       " 'DRREDDY',\n",
       " 'ASIANPAINT',\n",
       " 'BHARTIARTL',\n",
       " 'NTPC',\n",
       " 'HCLTECH',\n",
       " 'HDFC',\n",
       " 'BAJAJ-AUTO',\n",
       " 'TATACONSUM',\n",
       " 'NESTLEIND',\n",
       " 'SUNPHARMA',\n",
       " 'HDFCBANK',\n",
       " 'BRITANNIA',\n",
       " 'ICICIBANK',\n",
       " 'HINDUNILVR',\n",
       " 'M&M',\n",
       " 'APOLLOHOSP',\n",
       " 'TECHM',\n",
       " 'BAJAJFINSV',\n",
       " 'COALINDIA',\n",
       " 'KOTAKBANK',\n",
       " 'ITC',\n",
       " 'BAJFINANCE',\n",
       " 'WIPRO',\n",
       " 'RELIANCE',\n",
       " 'TCS',\n",
       " 'CIPLA',\n",
       " 'EICHERMOT',\n",
       " 'MARUTI',\n",
       " 'AXISBANK',\n",
       " 'SBILIFE',\n",
       " 'LT',\n",
       " 'JSWSTEEL',\n",
       " 'UPL',\n",
       " 'ULTRACEMCO',\n",
       " 'INFY',\n",
       " 'TITAN',\n",
       " 'HEROMOTOCO',\n",
       " 'SBIN',\n",
       " 'POWERGRID',\n",
       " 'HDFCLIFE',\n",
       " 'TATAMOTORS',\n",
       " 'ONGC',\n",
       " 'TATASTEEL',\n",
       " 'GRASIM',\n",
       " 'DIVISLAB',\n",
       " 'HINDALCO',\n",
       " 'BPCL',\n",
       " 'ADANIPORTS',\n",
       " 'ADANIENT']"
      ]
     },
     "execution_count": 19,
     "metadata": {},
     "output_type": "execute_result"
    }
   ],
   "source": [
    "symbols"
   ]
  },
  {
   "cell_type": "code",
   "execution_count": 20,
   "id": "be951da4",
   "metadata": {
    "execution": {
     "iopub.execute_input": "2023-06-28T07:54:32.178391Z",
     "iopub.status.busy": "2023-06-28T07:54:32.178006Z",
     "iopub.status.idle": "2023-06-28T07:54:32.894125Z",
     "shell.execute_reply": "2023-06-28T07:54:32.893106Z"
    },
    "papermill": {
     "duration": 0.738218,
     "end_time": "2023-06-28T07:54:32.896611",
     "exception": false,
     "start_time": "2023-06-28T07:54:32.158393",
     "status": "completed"
    },
    "tags": []
   },
   "outputs": [],
   "source": [
    "data_list = []\n",
    "scaler = MinMaxScaler(feature_range=(0,1))\n",
    "for index,symbol in enumerate(symbols):\n",
    "    symbol_data = data[data['Symbol']==symbol][['Open','High','Low','Close']]\n",
    "    if symbol_data.shape[0] == 3325:\n",
    "        scaled_data = scaler.fit_transform(symbol_data)\n",
    "        data_list.append(scaled_data)\n",
    "#     if index == 5:\n",
    "#         print(symbol)\n",
    "#         print(symbol_data)\n",
    "#         break"
   ]
  },
  {
   "cell_type": "code",
   "execution_count": 21,
   "id": "4c378cf9",
   "metadata": {
    "execution": {
     "iopub.execute_input": "2023-06-28T07:54:32.934589Z",
     "iopub.status.busy": "2023-06-28T07:54:32.934209Z",
     "iopub.status.idle": "2023-06-28T07:54:32.943400Z",
     "shell.execute_reply": "2023-06-28T07:54:32.942478Z"
    },
    "papermill": {
     "duration": 0.030732,
     "end_time": "2023-06-28T07:54:32.945591",
     "exception": false,
     "start_time": "2023-06-28T07:54:32.914859",
     "status": "completed"
    },
    "tags": []
   },
   "outputs": [],
   "source": [
    "data_array = np.array(data_list)"
   ]
  },
  {
   "cell_type": "code",
   "execution_count": 22,
   "id": "3141d743",
   "metadata": {
    "execution": {
     "iopub.execute_input": "2023-06-28T07:54:32.983937Z",
     "iopub.status.busy": "2023-06-28T07:54:32.983545Z",
     "iopub.status.idle": "2023-06-28T07:54:32.990315Z",
     "shell.execute_reply": "2023-06-28T07:54:32.989226Z"
    },
    "papermill": {
     "duration": 0.028383,
     "end_time": "2023-06-28T07:54:32.992436",
     "exception": false,
     "start_time": "2023-06-28T07:54:32.964053",
     "status": "completed"
    },
    "tags": []
   },
   "outputs": [
    {
     "data": {
      "text/plain": [
       "(46, 3325, 4)"
      ]
     },
     "execution_count": 22,
     "metadata": {},
     "output_type": "execute_result"
    }
   ],
   "source": [
    "data_array.shape"
   ]
  },
  {
   "cell_type": "code",
   "execution_count": 23,
   "id": "c67d632a",
   "metadata": {
    "execution": {
     "iopub.execute_input": "2023-06-28T07:54:33.030712Z",
     "iopub.status.busy": "2023-06-28T07:54:33.030336Z",
     "iopub.status.idle": "2023-06-28T07:54:33.039364Z",
     "shell.execute_reply": "2023-06-28T07:54:33.038454Z"
    },
    "papermill": {
     "duration": 0.030457,
     "end_time": "2023-06-28T07:54:33.041303",
     "exception": false,
     "start_time": "2023-06-28T07:54:33.010846",
     "status": "completed"
    },
    "tags": []
   },
   "outputs": [
    {
     "data": {
      "text/plain": [
       "array([[[1.05563181e-03, 2.08206887e-03, 2.19545178e-03, 2.99600127e-03],\n",
       "        [3.27245700e-03, 2.05571194e-03, 3.10575807e-03, 2.91645669e-03],\n",
       "        [2.85020266e-03, 3.24170146e-03, 3.40027109e-03, 4.71936204e-03],\n",
       "        ...,\n",
       "        [6.18336332e-01, 6.20088026e-01, 6.18286483e-01, 6.17334356e-01],\n",
       "        [6.10419094e-01, 6.19112891e-01, 6.15394904e-01, 6.15743562e-01],\n",
       "        [6.11870587e-01, 6.14948738e-01, 6.14966563e-01, 6.09486410e-01]],\n",
       "\n",
       "       [[1.11358575e-02, 1.11723691e-02, 1.35458876e-02, 1.30779329e-02],\n",
       "        [1.33630290e-02, 1.81592697e-02, 1.88858725e-02, 2.09358064e-02],\n",
       "        [2.14253789e-02, 2.95641769e-02, 2.63528976e-02, 2.76584367e-02],\n",
       "        ...,\n",
       "        [8.59910913e-01, 8.69208946e-01, 8.50009994e-01, 8.44912368e-01],\n",
       "        [8.43875278e-01, 8.47672495e-01, 8.51129489e-01, 8.49854201e-01],\n",
       "        [8.53441023e-01, 8.52821312e-01, 8.57096484e-01, 8.51902084e-01]],\n",
       "\n",
       "       [[1.32143067e-03, 7.31137499e-04, 2.03399399e-03, 7.99963880e-04],\n",
       "        [1.52698566e-03, 8.79119590e-04, 2.18267784e-03, 9.66129003e-04],\n",
       "        [2.01885241e-03, 1.16630188e-03, 2.06373257e-03, 8.07314690e-04],\n",
       "        ...,\n",
       "        [9.23313002e-01, 9.28190567e-01, 9.31382403e-01, 9.21591782e-01],\n",
       "        [9.22182416e-01, 9.22886589e-01, 9.23606267e-01, 9.24238720e-01],\n",
       "        [9.23268911e-01, 9.24688755e-01, 9.30415958e-01, 9.23474092e-01]],\n",
       "\n",
       "       ...,\n",
       "\n",
       "       [[6.13646408e-02, 6.47550508e-02, 6.31408964e-02, 6.79737923e-02],\n",
       "        [6.87439254e-02, 6.43494521e-02, 6.57543673e-02, 6.44833788e-02],\n",
       "        [6.36419757e-02, 6.15102453e-02, 6.17252593e-02, 6.10464093e-02],\n",
       "        ...,\n",
       "        [6.35625384e-01, 6.34218643e-01, 6.48596150e-01, 6.37033903e-01],\n",
       "        [6.31388470e-01, 6.26494541e-01, 6.42824733e-01, 6.32118874e-01],\n",
       "        [6.25986430e-01, 6.25859714e-01, 6.42498062e-01, 6.32866765e-01]],\n",
       "\n",
       "       [[3.46340332e-03, 2.40483321e-03, 6.61252546e-03, 3.88518234e-03],\n",
       "        [4.57169133e-03, 7.12331907e-03, 7.88863463e-03, 8.33865172e-03],\n",
       "        [9.00485216e-03, 1.31638971e-02, 9.36194860e-03, 1.49608600e-02],\n",
       "        ...,\n",
       "        [7.41052892e-01, 7.28801052e-01, 7.26218097e-01, 7.27921165e-01],\n",
       "        [7.27314698e-01, 7.19797149e-01, 7.25290037e-01, 7.30414599e-01],\n",
       "        [7.29508215e-01, 7.32619123e-01, 7.28886297e-01, 7.43925790e-01]],\n",
       "\n",
       "       [[1.11954080e-02, 1.16909717e-02, 1.16101456e-02, 1.17797037e-02],\n",
       "        [1.17783290e-02, 1.20567738e-02, 1.23676164e-02, 1.21661353e-02],\n",
       "        [1.21472671e-02, 1.40071071e-02, 1.26327324e-02, 1.38523836e-02],\n",
       "        ...,\n",
       "        [5.97785482e-01, 5.99822970e-01, 5.75885309e-01, 5.74441576e-01],\n",
       "        [5.81176983e-01, 5.79051349e-01, 5.85769129e-01, 5.77674495e-01],\n",
       "        [5.79179137e-01, 5.80250633e-01, 5.86535149e-01, 5.75539321e-01]]])"
      ]
     },
     "execution_count": 23,
     "metadata": {},
     "output_type": "execute_result"
    }
   ],
   "source": [
    "data_array"
   ]
  },
  {
   "cell_type": "code",
   "execution_count": 24,
   "id": "d4f7b7b4",
   "metadata": {
    "execution": {
     "iopub.execute_input": "2023-06-28T07:54:33.079966Z",
     "iopub.status.busy": "2023-06-28T07:54:33.079176Z",
     "iopub.status.idle": "2023-06-28T07:55:17.724800Z",
     "shell.execute_reply": "2023-06-28T07:55:17.723674Z"
    },
    "papermill": {
     "duration": 44.688179,
     "end_time": "2023-06-28T07:55:17.747640",
     "exception": false,
     "start_time": "2023-06-28T07:54:33.059461",
     "status": "completed"
    },
    "tags": []
   },
   "outputs": [
    {
     "name": "stdout",
     "output_type": "stream",
     "text": [
      "Epoch 1/10\n",
      "2/2 [==============================] - 5s 886ms/step - loss: 0.9881\n",
      "Epoch 2/10\n",
      "2/2 [==============================] - 2s 866ms/step - loss: 0.7008\n",
      "Epoch 3/10\n",
      "2/2 [==============================] - 2s 864ms/step - loss: 0.4729\n",
      "Epoch 4/10\n",
      "2/2 [==============================] - 2s 912ms/step - loss: 0.2883\n",
      "Epoch 5/10\n",
      "2/2 [==============================] - 2s 874ms/step - loss: 0.1448\n",
      "Epoch 6/10\n",
      "2/2 [==============================] - 2s 858ms/step - loss: 0.0500\n",
      "Epoch 7/10\n",
      "2/2 [==============================] - 2s 833ms/step - loss: 0.0231\n",
      "Epoch 8/10\n",
      "2/2 [==============================] - 2s 1s/step - loss: 0.0394\n",
      "Epoch 9/10\n",
      "2/2 [==============================] - 2s 884ms/step - loss: 0.0467\n",
      "Epoch 10/10\n",
      "2/2 [==============================] - 2s 878ms/step - loss: 0.0353\n",
      "1/1 [==============================] - 1s 735ms/step - loss: 0.0188\n",
      "Test loss: 0.01882774569094181\n"
     ]
    }
   ],
   "source": [
    "# Split the data into train and test sets\n",
    "train_data, test_data = train_test_split(data_array, test_size=0.2)\n",
    "\n",
    "# Prepare the input and output data for the LSTM model\n",
    "train_input = train_data[:, :-1, :]  # Use all but the last time step as input\n",
    "train_output = train_data[:, -1, :]  # Use the last time step as output\n",
    "\n",
    "test_input = test_data[:, :-1, :]\n",
    "test_output = test_data[:, -1, :]\n",
    "\n",
    "# Build the LSTM model\n",
    "model = Sequential()\n",
    "model.add(LSTM(64, input_shape=(train_input.shape[1], train_input.shape[2])))\n",
    "model.add(Dense(4))  # Assuming you want to predict 4 values\n",
    "model.compile(loss='mean_squared_error', optimizer='adam')\n",
    "\n",
    "# Train the model\n",
    "model.fit(train_input, train_output, epochs=10, batch_size=32)\n",
    "\n",
    "# Evaluate the model\n",
    "loss = model.evaluate(test_input, test_output)\n",
    "print(\"Test loss:\", loss)"
   ]
  },
  {
   "cell_type": "code",
   "execution_count": 25,
   "id": "1d23047a",
   "metadata": {
    "execution": {
     "iopub.execute_input": "2023-06-28T07:55:17.792056Z",
     "iopub.status.busy": "2023-06-28T07:55:17.791598Z",
     "iopub.status.idle": "2023-06-28T07:55:18.549762Z",
     "shell.execute_reply": "2023-06-28T07:55:18.548697Z"
    },
    "papermill": {
     "duration": 0.783342,
     "end_time": "2023-06-28T07:55:18.552194",
     "exception": false,
     "start_time": "2023-06-28T07:55:17.768852",
     "status": "completed"
    },
    "tags": []
   },
   "outputs": [
    {
     "name": "stdout",
     "output_type": "stream",
     "text": [
      "1/1 [==============================] - 1s 701ms/step\n"
     ]
    }
   ],
   "source": [
    "# Get the models predicted price values \n",
    "predictions = model.predict(test_input)\n",
    "predictions = scaler.inverse_transform(predictions)"
   ]
  },
  {
   "cell_type": "code",
   "execution_count": 26,
   "id": "cdc7b31a",
   "metadata": {
    "execution": {
     "iopub.execute_input": "2023-06-28T07:55:18.596683Z",
     "iopub.status.busy": "2023-06-28T07:55:18.596267Z",
     "iopub.status.idle": "2023-06-28T07:55:18.603838Z",
     "shell.execute_reply": "2023-06-28T07:55:18.602827Z"
    },
    "papermill": {
     "duration": 0.032346,
     "end_time": "2023-06-28T07:55:18.605966",
     "exception": false,
     "start_time": "2023-06-28T07:55:18.573620",
     "status": "completed"
    },
    "tags": []
   },
   "outputs": [
    {
     "data": {
      "text/plain": [
       "array([[3898.0876, 4544.199 , 3297.7073, 4339.633 ],\n",
       "       [4116.4976, 4773.5615, 3486.792 , 4581.6675],\n",
       "       [4096.3965, 4717.071 , 3491.5095, 4540.896 ],\n",
       "       [4120.5454, 4751.193 , 3505.4497, 4568.481 ],\n",
       "       [3862.8457, 4540.5757, 3257.0137, 4317.506 ],\n",
       "       [3934.6409, 4579.438 , 3336.96  , 4381.17  ],\n",
       "       [4123.134 , 4760.6294, 3506.2603, 4576.5435],\n",
       "       [4104.63  , 4734.57  , 3497.9795, 4549.035 ],\n",
       "       [3797.0898, 4507.145 , 3188.8394, 4259.0654],\n",
       "       [3017.9053, 3652.1182, 2559.0737, 3433.0837]], dtype=float32)"
      ]
     },
     "execution_count": 26,
     "metadata": {},
     "output_type": "execute_result"
    }
   ],
   "source": [
    "predictions"
   ]
  },
  {
   "cell_type": "code",
   "execution_count": 27,
   "id": "3f4eb412",
   "metadata": {
    "execution": {
     "iopub.execute_input": "2023-06-28T07:55:18.650903Z",
     "iopub.status.busy": "2023-06-28T07:55:18.650217Z",
     "iopub.status.idle": "2023-06-28T07:55:18.657727Z",
     "shell.execute_reply": "2023-06-28T07:55:18.656655Z"
    },
    "papermill": {
     "duration": 0.032701,
     "end_time": "2023-06-28T07:55:18.660113",
     "exception": false,
     "start_time": "2023-06-28T07:55:18.627412",
     "status": "completed"
    },
    "tags": []
   },
   "outputs": [
    {
     "data": {
      "text/plain": [
       "array([[3682.17395156, 3715.95346873, 3673.53421763, 3739.04548378],\n",
       "       [4046.62980196, 4058.08125729, 3923.64884745, 4008.28884894],\n",
       "       [4175.        , 4190.        , 4066.39990234, 4165.29980469],\n",
       "       [4162.27676808, 4170.56986762, 4046.06530665, 4151.08705573],\n",
       "       [3628.00198578, 3672.0536345 , 3586.60369873, 3677.57047997],\n",
       "       [3773.66305679, 3792.86249989, 3712.88515966, 3785.9601004 ],\n",
       "       [4144.09798579, 4171.0748021 , 3988.90024198, 4093.1296397 ],\n",
       "       [4164.31394821, 4173.28606867, 4066.39990234, 4165.29980469],\n",
       "       [3453.52273862, 3379.77754726, 3380.85682082, 3423.59214782],\n",
       "       [2426.69995117, 2440.        , 2393.10009766, 2405.94995117]])"
      ]
     },
     "execution_count": 27,
     "metadata": {},
     "output_type": "execute_result"
    }
   ],
   "source": [
    "scaler.inverse_transform(test_output)"
   ]
  },
  {
   "cell_type": "code",
   "execution_count": 28,
   "id": "6b8243a6",
   "metadata": {
    "execution": {
     "iopub.execute_input": "2023-06-28T07:55:18.705548Z",
     "iopub.status.busy": "2023-06-28T07:55:18.704762Z",
     "iopub.status.idle": "2023-06-28T07:55:18.712521Z",
     "shell.execute_reply": "2023-06-28T07:55:18.711530Z"
    },
    "papermill": {
     "duration": 0.033122,
     "end_time": "2023-06-28T07:55:18.714745",
     "exception": false,
     "start_time": "2023-06-28T07:55:18.681623",
     "status": "completed"
    },
    "tags": []
   },
   "outputs": [
    {
     "data": {
      "text/plain": [
       "array([[  29.2085766 ,   30.06947651,   34.67139669,   29.00298346],\n",
       "       [  29.29312591,   30.00177534,   34.58464388,   29.21390301],\n",
       "       [  30.56128811,   29.22323117,   33.34526749,   27.93152139],\n",
       "       ...,\n",
       "       [4094.55632671, 4167.44764437, 4003.89410035, 4144.33473052],\n",
       "       [4157.58382316, 4172.35570205, 4030.58184394, 4124.3814111 ],\n",
       "       [4133.10812748, 4170.74791855, 4035.33278678, 4154.24794959]])"
      ]
     },
     "execution_count": 28,
     "metadata": {},
     "output_type": "execute_result"
    }
   ],
   "source": [
    "scaler.inverse_transform(test_input[2])"
   ]
  },
  {
   "cell_type": "code",
   "execution_count": 29,
   "id": "72ae1e4d",
   "metadata": {
    "execution": {
     "iopub.execute_input": "2023-06-28T07:55:18.760500Z",
     "iopub.status.busy": "2023-06-28T07:55:18.760083Z",
     "iopub.status.idle": "2023-06-28T07:55:18.768373Z",
     "shell.execute_reply": "2023-06-28T07:55:18.767146Z"
    },
    "papermill": {
     "duration": 0.034409,
     "end_time": "2023-06-28T07:55:18.770893",
     "exception": false,
     "start_time": "2023-06-28T07:55:18.736484",
     "status": "completed"
    },
    "tags": []
   },
   "outputs": [],
   "source": [
    "# extract last time step closing prices\n",
    "test_input_closing_prices = []\n",
    "for data in test_input:\n",
    "    inverse_data = scaler.inverse_transform(data)\n",
    "    test_input_closing_prices.append(inverse_data[-1][-1])"
   ]
  },
  {
   "cell_type": "code",
   "execution_count": 30,
   "id": "a4fe474d",
   "metadata": {
    "execution": {
     "iopub.execute_input": "2023-06-28T07:55:18.817747Z",
     "iopub.status.busy": "2023-06-28T07:55:18.817291Z",
     "iopub.status.idle": "2023-06-28T07:55:18.824122Z",
     "shell.execute_reply": "2023-06-28T07:55:18.822953Z"
    },
    "papermill": {
     "duration": 0.033279,
     "end_time": "2023-06-28T07:55:18.826573",
     "exception": false,
     "start_time": "2023-06-28T07:55:18.793294",
     "status": "completed"
    },
    "tags": []
   },
   "outputs": [
    {
     "data": {
      "text/plain": [
       "[3727.0360542695826,\n",
       " 4020.6516074690576,\n",
       " 4154.247949589744,\n",
       " 4162.898727069616,\n",
       " 3606.659292354541,\n",
       " 3808.332780383766,\n",
       " 4157.036068438891,\n",
       " 4138.9701723003545,\n",
       " 3420.445778389629,\n",
       " 2414.800048828125]"
      ]
     },
     "execution_count": 30,
     "metadata": {},
     "output_type": "execute_result"
    }
   ],
   "source": [
    "test_input_closing_prices"
   ]
  },
  {
   "cell_type": "code",
   "execution_count": 31,
   "id": "9bd4c46b",
   "metadata": {
    "execution": {
     "iopub.execute_input": "2023-06-28T07:55:18.873177Z",
     "iopub.status.busy": "2023-06-28T07:55:18.872745Z",
     "iopub.status.idle": "2023-06-28T07:55:18.878266Z",
     "shell.execute_reply": "2023-06-28T07:55:18.876961Z"
    },
    "papermill": {
     "duration": 0.031309,
     "end_time": "2023-06-28T07:55:18.880731",
     "exception": false,
     "start_time": "2023-06-28T07:55:18.849422",
     "status": "completed"
    },
    "tags": []
   },
   "outputs": [],
   "source": [
    "test_output_closing_prices = []\n",
    "inverse_data = scaler.inverse_transform(test_output)\n",
    "for data in inverse_data:\n",
    "    test_output_closing_prices.append(data[-1])"
   ]
  },
  {
   "cell_type": "code",
   "execution_count": 32,
   "id": "cb6dbab4",
   "metadata": {
    "execution": {
     "iopub.execute_input": "2023-06-28T07:55:18.925977Z",
     "iopub.status.busy": "2023-06-28T07:55:18.925563Z",
     "iopub.status.idle": "2023-06-28T07:55:18.932542Z",
     "shell.execute_reply": "2023-06-28T07:55:18.931380Z"
    },
    "papermill": {
     "duration": 0.032268,
     "end_time": "2023-06-28T07:55:18.934824",
     "exception": false,
     "start_time": "2023-06-28T07:55:18.902556",
     "status": "completed"
    },
    "tags": []
   },
   "outputs": [
    {
     "data": {
      "text/plain": [
       "[3739.045483778286,\n",
       " 4008.288848939381,\n",
       " 4165.2998046875,\n",
       " 4151.087055729119,\n",
       " 3677.5704799707783,\n",
       " 3785.960100403615,\n",
       " 4093.1296396982734,\n",
       " 4165.299804687499,\n",
       " 3423.592147824753,\n",
       " 2405.949951171875]"
      ]
     },
     "execution_count": 32,
     "metadata": {},
     "output_type": "execute_result"
    }
   ],
   "source": [
    "test_output_closing_prices"
   ]
  },
  {
   "cell_type": "code",
   "execution_count": 33,
   "id": "5d7f02ab",
   "metadata": {
    "execution": {
     "iopub.execute_input": "2023-06-28T07:55:18.980762Z",
     "iopub.status.busy": "2023-06-28T07:55:18.980378Z",
     "iopub.status.idle": "2023-06-28T07:55:19.310280Z",
     "shell.execute_reply": "2023-06-28T07:55:19.308813Z"
    },
    "papermill": {
     "duration": 0.355728,
     "end_time": "2023-06-28T07:55:19.312742",
     "exception": false,
     "start_time": "2023-06-28T07:55:18.957014",
     "status": "completed"
    },
    "tags": []
   },
   "outputs": [
    {
     "data": {
      "image/png": "[encoded data removed]",
      "text/plain": [
       "<Figure size 640x480 with 1 Axes>"
      ]
     },
     "metadata": {},
     "output_type": "display_data"
    }
   ],
   "source": [
    "# Compute the difference between the values in the two lists\n",
    "difference = [abs(a - b) for a, b in zip(test_input_closing_prices, test_output_closing_prices)]\n",
    "\n",
    "# Create the plot\n",
    "plt.plot(test_input_closing_prices, label='Actual Closing Prices')\n",
    "plt.plot(test_output_closing_prices, label='Predicted Closing Prices')\n",
    "# plt.plot(difference, label='Difference')\n",
    "\n",
    "# # Display values on the graph\n",
    "# for i, val in enumerate(test_input_closing_prices):\n",
    "#     plt.text(i, val, str(val), ha='center', va='top')\n",
    "\n",
    "# for i, val in enumerate(test_output_closing_prices):\n",
    "#     plt.text(i, val, str(val), ha='center', va='bottom')\n",
    "\n",
    "plt.xlabel('Index')\n",
    "plt.ylabel('Value')\n",
    "plt.title('Actual vs Predicted Values in Test Set')\n",
    "plt.grid(True)\n",
    "plt.legend()\n",
    "\n",
    "# Show the plot\n",
    "plt.show()"
   ]
  },
  {
   "cell_type": "code",
   "execution_count": 34,
   "id": "c9e5c539",
   "metadata": {
    "execution": {
     "iopub.execute_input": "2023-06-28T07:55:19.359539Z",
     "iopub.status.busy": "2023-06-28T07:55:19.359111Z",
     "iopub.status.idle": "2023-06-28T07:55:23.808292Z",
     "shell.execute_reply": "2023-06-28T07:55:23.807355Z"
    },
    "papermill": {
     "duration": 4.475879,
     "end_time": "2023-06-28T07:55:23.811333",
     "exception": false,
     "start_time": "2023-06-28T07:55:19.335454",
     "status": "completed"
    },
    "tags": []
   },
   "outputs": [],
   "source": [
    "# Save the model\n",
    "model.save('model_directory')\n",
    "\n"
   ]
  },
  {
   "cell_type": "code",
   "execution_count": 35,
   "id": "573d1d7f",
   "metadata": {
    "execution": {
     "iopub.execute_input": "2023-06-28T07:55:23.860376Z",
     "iopub.status.busy": "2023-06-28T07:55:23.859973Z",
     "iopub.status.idle": "2023-06-28T07:55:25.724214Z",
     "shell.execute_reply": "2023-06-28T07:55:25.723079Z"
    },
    "papermill": {
     "duration": 1.903777,
     "end_time": "2023-06-28T07:55:25.738105",
     "exception": false,
     "start_time": "2023-06-28T07:55:23.834328",
     "status": "completed"
    },
    "tags": []
   },
   "outputs": [],
   "source": [
    "# Load the model\n",
    "loaded_model = tf.keras.models.load_model('model_directory')"
   ]
  },
  {
   "cell_type": "code",
   "execution_count": 36,
   "id": "c6f1945c",
   "metadata": {
    "execution": {
     "iopub.execute_input": "2023-06-28T07:55:25.784374Z",
     "iopub.status.busy": "2023-06-28T07:55:25.783988Z",
     "iopub.status.idle": "2023-06-28T07:55:26.518857Z",
     "shell.execute_reply": "2023-06-28T07:55:26.517813Z"
    },
    "papermill": {
     "duration": 0.760751,
     "end_time": "2023-06-28T07:55:26.521171",
     "exception": false,
     "start_time": "2023-06-28T07:55:25.760420",
     "status": "completed"
    },
    "tags": []
   },
   "outputs": [
    {
     "name": "stdout",
     "output_type": "stream",
     "text": [
      "1/1 [==============================] - 1s 679ms/step\n"
     ]
    },
    {
     "data": {
      "text/plain": [
       "array([[3898.0876, 4544.199 , 3297.7073, 4339.633 ],\n",
       "       [4116.4976, 4773.5615, 3486.792 , 4581.6675],\n",
       "       [4096.3965, 4717.071 , 3491.5095, 4540.896 ],\n",
       "       [4120.5454, 4751.193 , 3505.4497, 4568.481 ],\n",
       "       [3862.8457, 4540.5757, 3257.0137, 4317.506 ],\n",
       "       [3934.6409, 4579.438 , 3336.96  , 4381.17  ],\n",
       "       [4123.134 , 4760.6294, 3506.2603, 4576.5435],\n",
       "       [4104.63  , 4734.57  , 3497.9795, 4549.035 ],\n",
       "       [3797.0898, 4507.145 , 3188.8394, 4259.0654],\n",
       "       [3017.9053, 3652.1182, 2559.0737, 3433.0837]], dtype=float32)"
      ]
     },
     "execution_count": 36,
     "metadata": {},
     "output_type": "execute_result"
    }
   ],
   "source": [
    "# Get the models predicted price values \n",
    "predictions = loaded_model.predict(test_input)\n",
    "predictions = scaler.inverse_transform(predictions)\n",
    "predictions"
   ]
  },
  {
   "cell_type": "code",
   "execution_count": 37,
   "id": "705a21e0",
   "metadata": {
    "execution": {
     "iopub.execute_input": "2023-06-28T07:55:26.568464Z",
     "iopub.status.busy": "2023-06-28T07:55:26.568089Z",
     "iopub.status.idle": "2023-06-28T07:55:26.966068Z",
     "shell.execute_reply": "2023-06-28T07:55:26.964880Z"
    },
    "papermill": {
     "duration": 0.424571,
     "end_time": "2023-06-28T07:55:26.968436",
     "exception": false,
     "start_time": "2023-06-28T07:55:26.543865",
     "status": "completed"
    },
    "tags": []
   },
   "outputs": [
    {
     "name": "stdout",
     "output_type": "stream",
     "text": [
      "[*********************100%***********************]  1 of 1 completed\n"
     ]
    }
   ],
   "source": [
    "microsoft_data = yf.download('MSFT', start=\"2010-01-01\", end=\"2023-06-22\")"
   ]
  },
  {
   "cell_type": "code",
   "execution_count": 38,
   "id": "23f8910c",
   "metadata": {
    "execution": {
     "iopub.execute_input": "2023-06-28T07:55:27.015844Z",
     "iopub.status.busy": "2023-06-28T07:55:27.014996Z",
     "iopub.status.idle": "2023-06-28T07:55:27.031784Z",
     "shell.execute_reply": "2023-06-28T07:55:27.030995Z"
    },
    "papermill": {
     "duration": 0.042527,
     "end_time": "2023-06-28T07:55:27.033664",
     "exception": false,
     "start_time": "2023-06-28T07:55:26.991137",
     "status": "completed"
    },
    "tags": []
   },
   "outputs": [
    {
     "data": {
      "text/html": [
       "<div>\n",
       "<style scoped>\n",
       "    .dataframe tbody tr th:only-of-type {\n",
       "        vertical-align: middle;\n",
       "    }\n",
       "\n",
       "    .dataframe tbody tr th {\n",
       "        vertical-align: top;\n",
       "    }\n",
       "\n",
       "    .dataframe thead th {\n",
       "        text-align: right;\n",
       "    }\n",
       "</style>\n",
       "<table border=\"1\" class=\"dataframe\">\n",
       "  <thead>\n",
       "    <tr style=\"text-align: right;\">\n",
       "      <th></th>\n",
       "      <th>Open</th>\n",
       "      <th>High</th>\n",
       "      <th>Low</th>\n",
       "      <th>Close</th>\n",
       "      <th>Adj Close</th>\n",
       "      <th>Volume</th>\n",
       "    </tr>\n",
       "    <tr>\n",
       "      <th>Date</th>\n",
       "      <th></th>\n",
       "      <th></th>\n",
       "      <th></th>\n",
       "      <th></th>\n",
       "      <th></th>\n",
       "      <th></th>\n",
       "    </tr>\n",
       "  </thead>\n",
       "  <tbody>\n",
       "    <tr>\n",
       "      <th>2010-01-04</th>\n",
       "      <td>30.620001</td>\n",
       "      <td>31.100000</td>\n",
       "      <td>30.590000</td>\n",
       "      <td>30.950001</td>\n",
       "      <td>23.572369</td>\n",
       "      <td>38409100</td>\n",
       "    </tr>\n",
       "    <tr>\n",
       "      <th>2010-01-05</th>\n",
       "      <td>30.850000</td>\n",
       "      <td>31.100000</td>\n",
       "      <td>30.639999</td>\n",
       "      <td>30.959999</td>\n",
       "      <td>23.579985</td>\n",
       "      <td>49749600</td>\n",
       "    </tr>\n",
       "    <tr>\n",
       "      <th>2010-01-06</th>\n",
       "      <td>30.879999</td>\n",
       "      <td>31.080000</td>\n",
       "      <td>30.520000</td>\n",
       "      <td>30.770000</td>\n",
       "      <td>23.435278</td>\n",
       "      <td>58182400</td>\n",
       "    </tr>\n",
       "    <tr>\n",
       "      <th>2010-01-07</th>\n",
       "      <td>30.629999</td>\n",
       "      <td>30.700001</td>\n",
       "      <td>30.190001</td>\n",
       "      <td>30.450001</td>\n",
       "      <td>23.191555</td>\n",
       "      <td>50559700</td>\n",
       "    </tr>\n",
       "    <tr>\n",
       "      <th>2010-01-08</th>\n",
       "      <td>30.280001</td>\n",
       "      <td>30.879999</td>\n",
       "      <td>30.240000</td>\n",
       "      <td>30.660000</td>\n",
       "      <td>23.351496</td>\n",
       "      <td>51197400</td>\n",
       "    </tr>\n",
       "    <tr>\n",
       "      <th>...</th>\n",
       "      <td>...</td>\n",
       "      <td>...</td>\n",
       "      <td>...</td>\n",
       "      <td>...</td>\n",
       "      <td>...</td>\n",
       "      <td>...</td>\n",
       "    </tr>\n",
       "    <tr>\n",
       "      <th>2023-06-14</th>\n",
       "      <td>334.339996</td>\n",
       "      <td>339.040009</td>\n",
       "      <td>332.809998</td>\n",
       "      <td>337.339996</td>\n",
       "      <td>337.339996</td>\n",
       "      <td>26003800</td>\n",
       "    </tr>\n",
       "    <tr>\n",
       "      <th>2023-06-15</th>\n",
       "      <td>337.480011</td>\n",
       "      <td>349.839996</td>\n",
       "      <td>337.200012</td>\n",
       "      <td>348.100006</td>\n",
       "      <td>348.100006</td>\n",
       "      <td>38899100</td>\n",
       "    </tr>\n",
       "    <tr>\n",
       "      <th>2023-06-16</th>\n",
       "      <td>351.320007</td>\n",
       "      <td>351.470001</td>\n",
       "      <td>341.950012</td>\n",
       "      <td>342.329987</td>\n",
       "      <td>342.329987</td>\n",
       "      <td>46533600</td>\n",
       "    </tr>\n",
       "    <tr>\n",
       "      <th>2023-06-20</th>\n",
       "      <td>339.309998</td>\n",
       "      <td>342.079987</td>\n",
       "      <td>335.859985</td>\n",
       "      <td>338.049988</td>\n",
       "      <td>338.049988</td>\n",
       "      <td>26375400</td>\n",
       "    </tr>\n",
       "    <tr>\n",
       "      <th>2023-06-21</th>\n",
       "      <td>336.369995</td>\n",
       "      <td>337.730011</td>\n",
       "      <td>332.070007</td>\n",
       "      <td>333.559998</td>\n",
       "      <td>333.559998</td>\n",
       "      <td>25117800</td>\n",
       "    </tr>\n",
       "  </tbody>\n",
       "</table>\n",
       "<p>3389 rows × 6 columns</p>\n",
       "</div>"
      ],
      "text/plain": [
       "                  Open        High         Low       Close   Adj Close  \\\n",
       "Date                                                                     \n",
       "2010-01-04   30.620001   31.100000   30.590000   30.950001   23.572369   \n",
       "2010-01-05   30.850000   31.100000   30.639999   30.959999   23.579985   \n",
       "2010-01-06   30.879999   31.080000   30.520000   30.770000   23.435278   \n",
       "2010-01-07   30.629999   30.700001   30.190001   30.450001   23.191555   \n",
       "2010-01-08   30.280001   30.879999   30.240000   30.660000   23.351496   \n",
       "...                ...         ...         ...         ...         ...   \n",
       "2023-06-14  334.339996  339.040009  332.809998  337.339996  337.339996   \n",
       "2023-06-15  337.480011  349.839996  337.200012  348.100006  348.100006   \n",
       "2023-06-16  351.320007  351.470001  341.950012  342.329987  342.329987   \n",
       "2023-06-20  339.309998  342.079987  335.859985  338.049988  338.049988   \n",
       "2023-06-21  336.369995  337.730011  332.070007  333.559998  333.559998   \n",
       "\n",
       "              Volume  \n",
       "Date                  \n",
       "2010-01-04  38409100  \n",
       "2010-01-05  49749600  \n",
       "2010-01-06  58182400  \n",
       "2010-01-07  50559700  \n",
       "2010-01-08  51197400  \n",
       "...              ...  \n",
       "2023-06-14  26003800  \n",
       "2023-06-15  38899100  \n",
       "2023-06-16  46533600  \n",
       "2023-06-20  26375400  \n",
       "2023-06-21  25117800  \n",
       "\n",
       "[3389 rows x 6 columns]"
      ]
     },
     "execution_count": 38,
     "metadata": {},
     "output_type": "execute_result"
    }
   ],
   "source": [
    "microsoft_data"
   ]
  },
  {
   "cell_type": "code",
   "execution_count": 39,
   "id": "95938c23",
   "metadata": {
    "execution": {
     "iopub.execute_input": "2023-06-28T07:55:27.082242Z",
     "iopub.status.busy": "2023-06-28T07:55:27.081188Z",
     "iopub.status.idle": "2023-06-28T07:55:27.087072Z",
     "shell.execute_reply": "2023-06-28T07:55:27.086159Z"
    },
    "papermill": {
     "duration": 0.032603,
     "end_time": "2023-06-28T07:55:27.089425",
     "exception": false,
     "start_time": "2023-06-28T07:55:27.056822",
     "status": "completed"
    },
    "tags": []
   },
   "outputs": [],
   "source": [
    "microsoft_data = microsoft_data[['Open','High','Low','Close']]"
   ]
  },
  {
   "cell_type": "code",
   "execution_count": 40,
   "id": "d2d3b566",
   "metadata": {
    "execution": {
     "iopub.execute_input": "2023-06-28T07:55:27.137448Z",
     "iopub.status.busy": "2023-06-28T07:55:27.137045Z",
     "iopub.status.idle": "2023-06-28T07:55:27.152072Z",
     "shell.execute_reply": "2023-06-28T07:55:27.150855Z"
    },
    "papermill": {
     "duration": 0.041652,
     "end_time": "2023-06-28T07:55:27.154279",
     "exception": false,
     "start_time": "2023-06-28T07:55:27.112627",
     "status": "completed"
    },
    "tags": []
   },
   "outputs": [
    {
     "data": {
      "text/html": [
       "<div>\n",
       "<style scoped>\n",
       "    .dataframe tbody tr th:only-of-type {\n",
       "        vertical-align: middle;\n",
       "    }\n",
       "\n",
       "    .dataframe tbody tr th {\n",
       "        vertical-align: top;\n",
       "    }\n",
       "\n",
       "    .dataframe thead th {\n",
       "        text-align: right;\n",
       "    }\n",
       "</style>\n",
       "<table border=\"1\" class=\"dataframe\">\n",
       "  <thead>\n",
       "    <tr style=\"text-align: right;\">\n",
       "      <th></th>\n",
       "      <th>Open</th>\n",
       "      <th>High</th>\n",
       "      <th>Low</th>\n",
       "      <th>Close</th>\n",
       "    </tr>\n",
       "    <tr>\n",
       "      <th>Date</th>\n",
       "      <th></th>\n",
       "      <th></th>\n",
       "      <th></th>\n",
       "      <th></th>\n",
       "    </tr>\n",
       "  </thead>\n",
       "  <tbody>\n",
       "    <tr>\n",
       "      <th>2010-01-04</th>\n",
       "      <td>30.620001</td>\n",
       "      <td>31.100000</td>\n",
       "      <td>30.590000</td>\n",
       "      <td>30.950001</td>\n",
       "    </tr>\n",
       "    <tr>\n",
       "      <th>2010-01-05</th>\n",
       "      <td>30.850000</td>\n",
       "      <td>31.100000</td>\n",
       "      <td>30.639999</td>\n",
       "      <td>30.959999</td>\n",
       "    </tr>\n",
       "    <tr>\n",
       "      <th>2010-01-06</th>\n",
       "      <td>30.879999</td>\n",
       "      <td>31.080000</td>\n",
       "      <td>30.520000</td>\n",
       "      <td>30.770000</td>\n",
       "    </tr>\n",
       "    <tr>\n",
       "      <th>2010-01-07</th>\n",
       "      <td>30.629999</td>\n",
       "      <td>30.700001</td>\n",
       "      <td>30.190001</td>\n",
       "      <td>30.450001</td>\n",
       "    </tr>\n",
       "    <tr>\n",
       "      <th>2010-01-08</th>\n",
       "      <td>30.280001</td>\n",
       "      <td>30.879999</td>\n",
       "      <td>30.240000</td>\n",
       "      <td>30.660000</td>\n",
       "    </tr>\n",
       "    <tr>\n",
       "      <th>...</th>\n",
       "      <td>...</td>\n",
       "      <td>...</td>\n",
       "      <td>...</td>\n",
       "      <td>...</td>\n",
       "    </tr>\n",
       "    <tr>\n",
       "      <th>2023-06-14</th>\n",
       "      <td>334.339996</td>\n",
       "      <td>339.040009</td>\n",
       "      <td>332.809998</td>\n",
       "      <td>337.339996</td>\n",
       "    </tr>\n",
       "    <tr>\n",
       "      <th>2023-06-15</th>\n",
       "      <td>337.480011</td>\n",
       "      <td>349.839996</td>\n",
       "      <td>337.200012</td>\n",
       "      <td>348.100006</td>\n",
       "    </tr>\n",
       "    <tr>\n",
       "      <th>2023-06-16</th>\n",
       "      <td>351.320007</td>\n",
       "      <td>351.470001</td>\n",
       "      <td>341.950012</td>\n",
       "      <td>342.329987</td>\n",
       "    </tr>\n",
       "    <tr>\n",
       "      <th>2023-06-20</th>\n",
       "      <td>339.309998</td>\n",
       "      <td>342.079987</td>\n",
       "      <td>335.859985</td>\n",
       "      <td>338.049988</td>\n",
       "    </tr>\n",
       "    <tr>\n",
       "      <th>2023-06-21</th>\n",
       "      <td>336.369995</td>\n",
       "      <td>337.730011</td>\n",
       "      <td>332.070007</td>\n",
       "      <td>333.559998</td>\n",
       "    </tr>\n",
       "  </tbody>\n",
       "</table>\n",
       "<p>3389 rows × 4 columns</p>\n",
       "</div>"
      ],
      "text/plain": [
       "                  Open        High         Low       Close\n",
       "Date                                                      \n",
       "2010-01-04   30.620001   31.100000   30.590000   30.950001\n",
       "2010-01-05   30.850000   31.100000   30.639999   30.959999\n",
       "2010-01-06   30.879999   31.080000   30.520000   30.770000\n",
       "2010-01-07   30.629999   30.700001   30.190001   30.450001\n",
       "2010-01-08   30.280001   30.879999   30.240000   30.660000\n",
       "...                ...         ...         ...         ...\n",
       "2023-06-14  334.339996  339.040009  332.809998  337.339996\n",
       "2023-06-15  337.480011  349.839996  337.200012  348.100006\n",
       "2023-06-16  351.320007  351.470001  341.950012  342.329987\n",
       "2023-06-20  339.309998  342.079987  335.859985  338.049988\n",
       "2023-06-21  336.369995  337.730011  332.070007  333.559998\n",
       "\n",
       "[3389 rows x 4 columns]"
      ]
     },
     "execution_count": 40,
     "metadata": {},
     "output_type": "execute_result"
    }
   ],
   "source": [
    "microsoft_data"
   ]
  },
  {
   "cell_type": "code",
   "execution_count": 41,
   "id": "0df8c26f",
   "metadata": {
    "execution": {
     "iopub.execute_input": "2023-06-28T07:55:27.203247Z",
     "iopub.status.busy": "2023-06-28T07:55:27.202383Z",
     "iopub.status.idle": "2023-06-28T07:55:27.211605Z",
     "shell.execute_reply": "2023-06-28T07:55:27.210865Z"
    },
    "papermill": {
     "duration": 0.03596,
     "end_time": "2023-06-28T07:55:27.213836",
     "exception": false,
     "start_time": "2023-06-28T07:55:27.177876",
     "status": "completed"
    },
    "tags": []
   },
   "outputs": [],
   "source": [
    "microsoft_data = scaled_data = scaler.fit_transform(microsoft_data)"
   ]
  },
  {
   "cell_type": "code",
   "execution_count": 42,
   "id": "1022f7e0",
   "metadata": {
    "execution": {
     "iopub.execute_input": "2023-06-28T07:55:27.262630Z",
     "iopub.status.busy": "2023-06-28T07:55:27.261941Z",
     "iopub.status.idle": "2023-06-28T07:55:27.268633Z",
     "shell.execute_reply": "2023-06-28T07:55:27.267769Z"
    },
    "papermill": {
     "duration": 0.033455,
     "end_time": "2023-06-28T07:55:27.270616",
     "exception": false,
     "start_time": "2023-06-28T07:55:27.237161",
     "status": "completed"
    },
    "tags": []
   },
   "outputs": [
    {
     "data": {
      "text/plain": [
       "array([[0.02294123, 0.02370867, 0.02460325, 0.02442401],\n",
       "       [0.02364196, 0.02370867, 0.02475976, 0.02445476],\n",
       "       [0.02373335, 0.02364772, 0.02438414, 0.02387031],\n",
       "       ...,\n",
       "       [1.        , 1.        , 0.99921745, 0.98225101],\n",
       "       [0.96340978, 0.97138499, 0.98015455, 0.96908543],\n",
       "       [0.95445263, 0.95812893, 0.96829122, 0.9552739 ]])"
      ]
     },
     "execution_count": 42,
     "metadata": {},
     "output_type": "execute_result"
    }
   ],
   "source": [
    "microsoft_data"
   ]
  },
  {
   "cell_type": "code",
   "execution_count": 43,
   "id": "4c7d8422",
   "metadata": {
    "execution": {
     "iopub.execute_input": "2023-06-28T07:55:27.319150Z",
     "iopub.status.busy": "2023-06-28T07:55:27.318745Z",
     "iopub.status.idle": "2023-06-28T07:55:27.325015Z",
     "shell.execute_reply": "2023-06-28T07:55:27.323893Z"
    },
    "papermill": {
     "duration": 0.033234,
     "end_time": "2023-06-28T07:55:27.327128",
     "exception": false,
     "start_time": "2023-06-28T07:55:27.293894",
     "status": "completed"
    },
    "tags": []
   },
   "outputs": [
    {
     "data": {
      "text/plain": [
       "(3389, 4)"
      ]
     },
     "execution_count": 43,
     "metadata": {},
     "output_type": "execute_result"
    }
   ],
   "source": [
    "microsoft_data.shape"
   ]
  },
  {
   "cell_type": "code",
   "execution_count": 44,
   "id": "26af8fa4",
   "metadata": {
    "execution": {
     "iopub.execute_input": "2023-06-28T07:55:27.376103Z",
     "iopub.status.busy": "2023-06-28T07:55:27.375232Z",
     "iopub.status.idle": "2023-06-28T07:55:27.381384Z",
     "shell.execute_reply": "2023-06-28T07:55:27.380641Z"
    },
    "papermill": {
     "duration": 0.032617,
     "end_time": "2023-06-28T07:55:27.383325",
     "exception": false,
     "start_time": "2023-06-28T07:55:27.350708",
     "status": "completed"
    },
    "tags": []
   },
   "outputs": [
    {
     "data": {
      "text/plain": [
       "(10, 3324, 4)"
      ]
     },
     "execution_count": 44,
     "metadata": {},
     "output_type": "execute_result"
    }
   ],
   "source": [
    "test_input.shape"
   ]
  },
  {
   "cell_type": "code",
   "execution_count": 45,
   "id": "fd090e45",
   "metadata": {
    "execution": {
     "iopub.execute_input": "2023-06-28T07:55:27.433201Z",
     "iopub.status.busy": "2023-06-28T07:55:27.431997Z",
     "iopub.status.idle": "2023-06-28T07:55:27.437812Z",
     "shell.execute_reply": "2023-06-28T07:55:27.436965Z"
    },
    "papermill": {
     "duration": 0.033139,
     "end_time": "2023-06-28T07:55:27.440106",
     "exception": false,
     "start_time": "2023-06-28T07:55:27.406967",
     "status": "completed"
    },
    "tags": []
   },
   "outputs": [],
   "source": [
    "microsoft_data = np.reshape(microsoft_data, (1, 3389, 4))"
   ]
  },
  {
   "cell_type": "code",
   "execution_count": 46,
   "id": "fe754dc8",
   "metadata": {
    "execution": {
     "iopub.execute_input": "2023-06-28T07:55:27.489688Z",
     "iopub.status.busy": "2023-06-28T07:55:27.488948Z",
     "iopub.status.idle": "2023-06-28T07:55:28.122053Z",
     "shell.execute_reply": "2023-06-28T07:55:28.121172Z"
    },
    "papermill": {
     "duration": 0.660529,
     "end_time": "2023-06-28T07:55:28.124356",
     "exception": false,
     "start_time": "2023-06-28T07:55:27.463827",
     "status": "completed"
    },
    "tags": []
   },
   "outputs": [
    {
     "name": "stdout",
     "output_type": "stream",
     "text": [
      "1/1 [==============================] - 1s 574ms/step\n"
     ]
    },
    {
     "data": {
      "text/plain": [
       "array([[344.38458, 393.20657, 295.21613, 377.21854]], dtype=float32)"
      ]
     },
     "execution_count": 46,
     "metadata": {},
     "output_type": "execute_result"
    }
   ],
   "source": [
    "# Get the models predicted price values \n",
    "predictions = loaded_model.predict(microsoft_data)\n",
    "predictions = scaler.inverse_transform(predictions)\n",
    "predictions"
   ]
  }
 ],
 "metadata": {
  "kernelspec": {
   "display_name": "Python 3",
   "language": "python",
   "name": "python3"
  },
  "language_info": {
   "codemirror_mode": {
    "name": "ipython",
    "version": 3
   },
   "file_extension": ".py",
   "mimetype": "text/x-python",
   "name": "python",
   "nbconvert_exporter": "python",
   "pygments_lexer": "ipython3",
   "version": "3.10.10"
  },
  "papermill": {
   "default_parameters": {},
   "duration": 107.513538,
   "end_time": "2023-06-28T07:55:31.154690",
   "environment_variables": {},
   "exception": null,
   "input_path": "__notebook__.ipynb",
   "output_path": "__notebook__.ipynb",
   "parameters": {},
   "start_time": "2023-06-28T07:53:43.641152",
   "version": "2.4.0"
  }
 },
 "nbformat": 4,
 "nbformat_minor": 5
}
