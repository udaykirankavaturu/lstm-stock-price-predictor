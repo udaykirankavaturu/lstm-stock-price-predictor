{
 "cells": [
  {
   "cell_type": "code",
   "execution_count": 1,
   "id": "0d8929a8",
   "metadata": {
    "_cell_guid": "b1076dfc-b9ad-4769-8c92-a6c4dae69d19",
    "_uuid": "8f2839f25d086af736a60e9eeb907d3b93b6e0e5",
    "execution": {
     "iopub.execute_input": "2023-06-28T10:27:13.116534Z",
     "iopub.status.busy": "2023-06-28T10:27:13.115455Z",
     "iopub.status.idle": "2023-06-28T10:27:13.137966Z",
     "shell.execute_reply": "2023-06-28T10:27:13.136894Z"
    },
    "papermill": {
     "duration": 0.041402,
     "end_time": "2023-06-28T10:27:13.140416",
     "exception": false,
     "start_time": "2023-06-28T10:27:13.099014",
     "status": "completed"
    },
    "tags": []
   },
   "outputs": [
    {
     "name": "stdout",
     "output_type": "stream",
     "text": [
      "/kaggle/input/nifty-50-list/MW-NIFTY-50-24-Jun-2023.csv\n"
     ]
    }
   ],
   "source": [
    "# This Python 3 environment comes with many helpful analytics libraries installed\n",
    "# It is defined by the kaggle/python Docker image: https://github.com/kaggle/docker-python\n",
    "# For example, here's several helpful packages to load\n",
    "\n",
    "import numpy as np # linear algebra\n",
    "import pandas as pd # data processing, CSV file I/O (e.g. pd.read_csv)\n",
    "\n",
    "# Input data files are available in the read-only \"../input/\" directory\n",
    "# For example, running this (by clicking run or pressing Shift+Enter) will list all files under the input directory\n",
    "\n",
    "import os\n",
    "for dirname, _, filenames in os.walk('/kaggle/input'):\n",
    "    for filename in filenames:\n",
    "        print(os.path.join(dirname, filename))\n",
    "\n",
    "# You can write up to 20GB to the current directory (/kaggle/working/) that gets preserved as output when you create a version using \"Save & Run All\" \n",
    "# You can also write temporary files to /kaggle/temp/, but they won't be saved outside of the current session"
   ]
  },
  {
   "cell_type": "code",
   "execution_count": 2,
   "id": "854db0f5",
   "metadata": {
    "execution": {
     "iopub.execute_input": "2023-06-28T10:27:13.170506Z",
     "iopub.status.busy": "2023-06-28T10:27:13.169824Z",
     "iopub.status.idle": "2023-06-28T10:27:27.788335Z",
     "shell.execute_reply": "2023-06-28T10:27:27.787223Z"
    },
    "papermill": {
     "duration": 14.636459,
     "end_time": "2023-06-28T10:27:27.791077",
     "exception": false,
     "start_time": "2023-06-28T10:27:13.154618",
     "status": "completed"
    },
    "tags": []
   },
   "outputs": [
    {
     "name": "stdout",
     "output_type": "stream",
     "text": [
      "Collecting yfinance\r\n",
      "  Downloading yfinance-0.2.22-py2.py3-none-any.whl (63 kB)\r\n",
      "\u001b[2K     \u001b[90m━━━━━━━━━━━━━━━━━━━━━━━━━━━━━━━━━━━━━━━━\u001b[0m \u001b[32m63.2/63.2 kB\u001b[0m \u001b[31m3.2 MB/s\u001b[0m eta \u001b[36m0:00:00\u001b[0m\r\n",
      "\u001b[?25hRequirement already satisfied: pandas>=1.3.0 in /opt/conda/lib/python3.10/site-packages (from yfinance) (1.5.3)\r\n",
      "Requirement already satisfied: numpy>=1.16.5 in /opt/conda/lib/python3.10/site-packages (from yfinance) (1.23.5)\r\n",
      "Requirement already satisfied: requests>=2.26 in /opt/conda/lib/python3.10/site-packages (from yfinance) (2.28.2)\r\n",
      "Collecting multitasking>=0.0.7 (from yfinance)\r\n",
      "  Downloading multitasking-0.0.11-py3-none-any.whl (8.5 kB)\r\n",
      "Requirement already satisfied: lxml>=4.9.1 in /opt/conda/lib/python3.10/site-packages (from yfinance) (4.9.2)\r\n",
      "Requirement already satisfied: appdirs>=1.4.4 in /opt/conda/lib/python3.10/site-packages (from yfinance) (1.4.4)\r\n",
      "Requirement already satisfied: pytz>=2022.5 in /opt/conda/lib/python3.10/site-packages (from yfinance) (2023.3)\r\n",
      "Requirement already satisfied: frozendict>=2.3.4 in /opt/conda/lib/python3.10/site-packages (from yfinance) (2.3.8)\r\n",
      "Requirement already satisfied: beautifulsoup4>=4.11.1 in /opt/conda/lib/python3.10/site-packages (from yfinance) (4.12.2)\r\n",
      "Requirement already satisfied: html5lib>=1.1 in /opt/conda/lib/python3.10/site-packages (from yfinance) (1.1)\r\n",
      "Requirement already satisfied: soupsieve>1.2 in /opt/conda/lib/python3.10/site-packages (from beautifulsoup4>=4.11.1->yfinance) (2.3.2.post1)\r\n",
      "Requirement already satisfied: six>=1.9 in /opt/conda/lib/python3.10/site-packages (from html5lib>=1.1->yfinance) (1.16.0)\r\n",
      "Requirement already satisfied: webencodings in /opt/conda/lib/python3.10/site-packages (from html5lib>=1.1->yfinance) (0.5.1)\r\n",
      "Requirement already satisfied: python-dateutil>=2.8.1 in /opt/conda/lib/python3.10/site-packages (from pandas>=1.3.0->yfinance) (2.8.2)\r\n",
      "Requirement already satisfied: charset-normalizer<4,>=2 in /opt/conda/lib/python3.10/site-packages (from requests>=2.26->yfinance) (2.1.1)\r\n",
      "Requirement already satisfied: idna<4,>=2.5 in /opt/conda/lib/python3.10/site-packages (from requests>=2.26->yfinance) (3.4)\r\n",
      "Requirement already satisfied: urllib3<1.27,>=1.21.1 in /opt/conda/lib/python3.10/site-packages (from requests>=2.26->yfinance) (1.26.15)\r\n",
      "Requirement already satisfied: certifi>=2017.4.17 in /opt/conda/lib/python3.10/site-packages (from requests>=2.26->yfinance) (2023.5.7)\r\n",
      "Installing collected packages: multitasking, yfinance\r\n",
      "Successfully installed multitasking-0.0.11 yfinance-0.2.22\r\n",
      "\u001b[33mWARNING: Running pip as the 'root' user can result in broken permissions and conflicting behaviour with the system package manager. It is recommended to use a virtual environment instead: https://pip.pypa.io/warnings/venv\u001b[0m\u001b[33m\r\n",
      "\u001b[0m"
     ]
    }
   ],
   "source": [
    "!pip install yfinance"
   ]
  },
  {
   "cell_type": "code",
   "execution_count": 3,
   "id": "ce663027",
   "metadata": {
    "execution": {
     "iopub.execute_input": "2023-06-28T10:27:27.823131Z",
     "iopub.status.busy": "2023-06-28T10:27:27.822725Z",
     "iopub.status.idle": "2023-06-28T10:27:38.126684Z",
     "shell.execute_reply": "2023-06-28T10:27:38.125602Z"
    },
    "papermill": {
     "duration": 10.323205,
     "end_time": "2023-06-28T10:27:38.129510",
     "exception": false,
     "start_time": "2023-06-28T10:27:27.806305",
     "status": "completed"
    },
    "tags": []
   },
   "outputs": [
    {
     "name": "stderr",
     "output_type": "stream",
     "text": [
      "/opt/conda/lib/python3.10/site-packages/tensorflow_io/python/ops/__init__.py:98: UserWarning: unable to load libtensorflow_io_plugins.so: unable to open file: libtensorflow_io_plugins.so, from paths: ['/opt/conda/lib/python3.10/site-packages/tensorflow_io/python/ops/libtensorflow_io_plugins.so']\n",
      "caused by: ['/opt/conda/lib/python3.10/site-packages/tensorflow_io/python/ops/libtensorflow_io_plugins.so: undefined symbol: _ZN3tsl6StatusC1EN10tensorflow5error4CodeESt17basic_string_viewIcSt11char_traitsIcEENS_14SourceLocationE']\n",
      "  warnings.warn(f\"unable to load libtensorflow_io_plugins.so: {e}\")\n",
      "/opt/conda/lib/python3.10/site-packages/tensorflow_io/python/ops/__init__.py:104: UserWarning: file system plugins are not loaded: unable to open file: libtensorflow_io.so, from paths: ['/opt/conda/lib/python3.10/site-packages/tensorflow_io/python/ops/libtensorflow_io.so']\n",
      "caused by: ['/opt/conda/lib/python3.10/site-packages/tensorflow_io/python/ops/libtensorflow_io.so: undefined symbol: _ZTVN10tensorflow13GcsFileSystemE']\n",
      "  warnings.warn(f\"file system plugins are not loaded: {e}\")\n"
     ]
    }
   ],
   "source": [
    "import pandas as pd\n",
    "import numpy as np\n",
    "from sklearn.preprocessing import StandardScaler,MinMaxScaler\n",
    "from sklearn.model_selection import train_test_split\n",
    "from tensorflow.keras.models import Sequential\n",
    "from tensorflow.keras.layers import LSTM, Dense\n",
    "import tensorflow as tf\n",
    "import yfinance as yf\n",
    "import matplotlib.pyplot as plt"
   ]
  },
  {
   "cell_type": "code",
   "execution_count": 4,
   "id": "04c7a4a2",
   "metadata": {
    "execution": {
     "iopub.execute_input": "2023-06-28T10:27:38.162636Z",
     "iopub.status.busy": "2023-06-28T10:27:38.161842Z",
     "iopub.status.idle": "2023-06-28T10:27:38.185187Z",
     "shell.execute_reply": "2023-06-28T10:27:38.183965Z"
    },
    "papermill": {
     "duration": 0.042882,
     "end_time": "2023-06-28T10:27:38.187900",
     "exception": false,
     "start_time": "2023-06-28T10:27:38.145018",
     "status": "completed"
    },
    "tags": []
   },
   "outputs": [],
   "source": [
    "# get nifty 50 stocks list\n",
    "nifty50_data = pd.read_csv('/kaggle/input/nifty-50-list/MW-NIFTY-50-24-Jun-2023.csv')"
   ]
  },
  {
   "cell_type": "code",
   "execution_count": 5,
   "id": "f8fe23d8",
   "metadata": {
    "execution": {
     "iopub.execute_input": "2023-06-28T10:27:38.220228Z",
     "iopub.status.busy": "2023-06-28T10:27:38.219806Z",
     "iopub.status.idle": "2023-06-28T10:27:38.259941Z",
     "shell.execute_reply": "2023-06-28T10:27:38.258903Z"
    },
    "papermill": {
     "duration": 0.060292,
     "end_time": "2023-06-28T10:27:38.263313",
     "exception": false,
     "start_time": "2023-06-28T10:27:38.203021",
     "status": "completed"
    },
    "tags": []
   },
   "outputs": [
    {
     "data": {
      "text/html": [
       "<div>\n",
       "<style scoped>\n",
       "    .dataframe tbody tr th:only-of-type {\n",
       "        vertical-align: middle;\n",
       "    }\n",
       "\n",
       "    .dataframe tbody tr th {\n",
       "        vertical-align: top;\n",
       "    }\n",
       "\n",
       "    .dataframe thead th {\n",
       "        text-align: right;\n",
       "    }\n",
       "</style>\n",
       "<table border=\"1\" class=\"dataframe\">\n",
       "  <thead>\n",
       "    <tr style=\"text-align: right;\">\n",
       "      <th></th>\n",
       "      <th>SYMBOL \\n</th>\n",
       "      <th>OPEN \\n</th>\n",
       "      <th>HIGH \\n</th>\n",
       "      <th>LOW \\n</th>\n",
       "      <th>PREV. CLOSE \\n</th>\n",
       "      <th>LTP \\n</th>\n",
       "      <th>CHNG \\n</th>\n",
       "      <th>%CHNG \\n</th>\n",
       "      <th>VOLUME \\n(shares)</th>\n",
       "      <th>VALUE</th>\n",
       "      <th>52W H \\n</th>\n",
       "      <th>52W L \\n</th>\n",
       "      <th>365 D % CHNG \\n 22-Jun-2022</th>\n",
       "      <th>30 D % CHNG \\n 23-May-2023</th>\n",
       "    </tr>\n",
       "  </thead>\n",
       "  <tbody>\n",
       "    <tr>\n",
       "      <th>0</th>\n",
       "      <td>NIFTY 50</td>\n",
       "      <td>18,741.85</td>\n",
       "      <td>18,756.40</td>\n",
       "      <td>18,647.10</td>\n",
       "      <td>18,771.25</td>\n",
       "      <td>18,665.50</td>\n",
       "      <td>-105.75</td>\n",
       "      <td>-0.56</td>\n",
       "      <td>210,562,119</td>\n",
       "      <td>206,194,741,909.89</td>\n",
       "      <td>18,887.60</td>\n",
       "      <td>15,511.05</td>\n",
       "      <td>19.98</td>\n",
       "      <td>2.08</td>\n",
       "    </tr>\n",
       "    <tr>\n",
       "      <th>1</th>\n",
       "      <td>INDUSINDBK</td>\n",
       "      <td>1,272.70</td>\n",
       "      <td>1,318.00</td>\n",
       "      <td>1,262.00</td>\n",
       "      <td>1,272.70</td>\n",
       "      <td>1,309.40</td>\n",
       "      <td>36.70</td>\n",
       "      <td>2.88</td>\n",
       "      <td>4,636,121</td>\n",
       "      <td>6,014,486,134.51</td>\n",
       "      <td>1,342.90</td>\n",
       "      <td>763.20</td>\n",
       "      <td>66.72</td>\n",
       "      <td>2.91</td>\n",
       "    </tr>\n",
       "    <tr>\n",
       "      <th>2</th>\n",
       "      <td>DRREDDY</td>\n",
       "      <td>4,901.00</td>\n",
       "      <td>5,015.00</td>\n",
       "      <td>4,901.00</td>\n",
       "      <td>4,899.45</td>\n",
       "      <td>4,992.95</td>\n",
       "      <td>93.50</td>\n",
       "      <td>1.91</td>\n",
       "      <td>558,228</td>\n",
       "      <td>2,777,184,300.00</td>\n",
       "      <td>5,024.00</td>\n",
       "      <td>3,997.00</td>\n",
       "      <td>16.28</td>\n",
       "      <td>10.50</td>\n",
       "    </tr>\n",
       "    <tr>\n",
       "      <th>3</th>\n",
       "      <td>ASIANPAINT</td>\n",
       "      <td>3,265.00</td>\n",
       "      <td>3,304.15</td>\n",
       "      <td>3,253.05</td>\n",
       "      <td>3,248.05</td>\n",
       "      <td>3,297.00</td>\n",
       "      <td>48.95</td>\n",
       "      <td>1.51</td>\n",
       "      <td>1,260,659</td>\n",
       "      <td>4,143,080,163.96</td>\n",
       "      <td>3,582.90</td>\n",
       "      <td>2,626.35</td>\n",
       "      <td>19.56</td>\n",
       "      <td>6.33</td>\n",
       "    </tr>\n",
       "    <tr>\n",
       "      <th>4</th>\n",
       "      <td>BHARTIARTL</td>\n",
       "      <td>844.00</td>\n",
       "      <td>862.75</td>\n",
       "      <td>841.35</td>\n",
       "      <td>842.80</td>\n",
       "      <td>851.30</td>\n",
       "      <td>8.50</td>\n",
       "      <td>1.01</td>\n",
       "      <td>7,667,340</td>\n",
       "      <td>6,563,626,407.00</td>\n",
       "      <td>888.75</td>\n",
       "      <td>628.75</td>\n",
       "      <td>29.48</td>\n",
       "      <td>6.66</td>\n",
       "    </tr>\n",
       "  </tbody>\n",
       "</table>\n",
       "</div>"
      ],
      "text/plain": [
       "    SYMBOL \\n    OPEN \\n    HIGH \\n     LOW \\n PREV. CLOSE \\n     LTP \\n  \\\n",
       "0    NIFTY 50  18,741.85  18,756.40  18,647.10      18,771.25  18,665.50   \n",
       "1  INDUSINDBK   1,272.70   1,318.00   1,262.00       1,272.70   1,309.40   \n",
       "2     DRREDDY   4,901.00   5,015.00   4,901.00       4,899.45   4,992.95   \n",
       "3  ASIANPAINT   3,265.00   3,304.15   3,253.05       3,248.05   3,297.00   \n",
       "4  BHARTIARTL     844.00     862.75     841.35         842.80     851.30   \n",
       "\n",
       "   CHNG \\n  %CHNG \\n VOLUME \\n(shares)              VALUE    52W H \\n  \\\n",
       "0  -105.75     -0.56       210,562,119  206,194,741,909.89  18,887.60   \n",
       "1    36.70      2.88         4,636,121    6,014,486,134.51   1,342.90   \n",
       "2    93.50      1.91           558,228    2,777,184,300.00   5,024.00   \n",
       "3    48.95      1.51         1,260,659    4,143,080,163.96   3,582.90   \n",
       "4     8.50      1.01         7,667,340    6,563,626,407.00     888.75   \n",
       "\n",
       "    52W L \\n  365 D % CHNG \\n 22-Jun-2022  30 D % CHNG \\n 23-May-2023  \n",
       "0  15,511.05                        19.98                        2.08  \n",
       "1     763.20                        66.72                        2.91  \n",
       "2   3,997.00                        16.28                       10.50  \n",
       "3   2,626.35                        19.56                        6.33  \n",
       "4     628.75                        29.48                        6.66  "
      ]
     },
     "execution_count": 5,
     "metadata": {},
     "output_type": "execute_result"
    }
   ],
   "source": [
    "nifty50_data.head()"
   ]
  },
  {
   "cell_type": "code",
   "execution_count": 6,
   "id": "311bff20",
   "metadata": {
    "execution": {
     "iopub.execute_input": "2023-06-28T10:27:38.296408Z",
     "iopub.status.busy": "2023-06-28T10:27:38.295990Z",
     "iopub.status.idle": "2023-06-28T10:27:38.302120Z",
     "shell.execute_reply": "2023-06-28T10:27:38.301406Z"
    },
    "papermill": {
     "duration": 0.025797,
     "end_time": "2023-06-28T10:27:38.304465",
     "exception": false,
     "start_time": "2023-06-28T10:27:38.278668",
     "status": "completed"
    },
    "tags": []
   },
   "outputs": [
    {
     "data": {
      "text/plain": [
       "Index(['SYMBOL \\n', 'OPEN \\n', 'HIGH \\n', 'LOW \\n', 'PREV. CLOSE \\n', 'LTP \\n',\n",
       "       'CHNG \\n', '%CHNG \\n', 'VOLUME \\n(shares)', 'VALUE ', '52W H \\n',\n",
       "       '52W L \\n', '365 D % CHNG \\n 22-Jun-2022',\n",
       "       '30 D % CHNG \\n 23-May-2023'],\n",
       "      dtype='object')"
      ]
     },
     "execution_count": 6,
     "metadata": {},
     "output_type": "execute_result"
    }
   ],
   "source": [
    "nifty50_data.columns"
   ]
  },
  {
   "cell_type": "code",
   "execution_count": 7,
   "id": "562789f4",
   "metadata": {
    "execution": {
     "iopub.execute_input": "2023-06-28T10:27:38.337567Z",
     "iopub.status.busy": "2023-06-28T10:27:38.336415Z",
     "iopub.status.idle": "2023-06-28T10:27:38.342759Z",
     "shell.execute_reply": "2023-06-28T10:27:38.341635Z"
    },
    "papermill": {
     "duration": 0.025291,
     "end_time": "2023-06-28T10:27:38.345083",
     "exception": false,
     "start_time": "2023-06-28T10:27:38.319792",
     "status": "completed"
    },
    "tags": []
   },
   "outputs": [
    {
     "name": "stdout",
     "output_type": "stream",
     "text": [
      "['NIFTY 50', 'INDUSINDBK', 'DRREDDY', 'ASIANPAINT', 'BHARTIARTL', 'NTPC', 'HCLTECH', 'HDFC', 'BAJAJ-AUTO', 'TATACONSUM', 'NESTLEIND', 'SUNPHARMA', 'HDFCBANK', 'BRITANNIA', 'ICICIBANK', 'HINDUNILVR', 'M&M', 'APOLLOHOSP', 'TECHM', 'BAJAJFINSV', 'COALINDIA', 'KOTAKBANK', 'ITC', 'BAJFINANCE', 'WIPRO', 'RELIANCE', 'TCS', 'CIPLA', 'EICHERMOT', 'MARUTI', 'AXISBANK', 'SBILIFE', 'LT', 'JSWSTEEL', 'UPL', 'ULTRACEMCO', 'INFY', 'TITAN', 'HEROMOTOCO', 'SBIN', 'POWERGRID', 'HDFCLIFE', 'TATAMOTORS', 'ONGC', 'TATASTEEL', 'GRASIM', 'DIVISLAB', 'HINDALCO', 'BPCL', 'ADANIPORTS', 'ADANIENT']\n"
     ]
    }
   ],
   "source": [
    "# Extract the stock symbols\n",
    "nifty50_stocks = nifty50_data['SYMBOL \\n'].tolist()\n",
    "\n",
    "print(nifty50_stocks)"
   ]
  },
  {
   "cell_type": "code",
   "execution_count": 8,
   "id": "26fd14f9",
   "metadata": {
    "execution": {
     "iopub.execute_input": "2023-06-28T10:27:38.377662Z",
     "iopub.status.busy": "2023-06-28T10:27:38.377283Z",
     "iopub.status.idle": "2023-06-28T10:27:38.383277Z",
     "shell.execute_reply": "2023-06-28T10:27:38.382492Z"
    },
    "papermill": {
     "duration": 0.024899,
     "end_time": "2023-06-28T10:27:38.385306",
     "exception": false,
     "start_time": "2023-06-28T10:27:38.360407",
     "status": "completed"
    },
    "tags": []
   },
   "outputs": [
    {
     "data": {
      "text/plain": [
       "51"
      ]
     },
     "execution_count": 8,
     "metadata": {},
     "output_type": "execute_result"
    }
   ],
   "source": [
    "len(nifty50_stocks)"
   ]
  },
  {
   "cell_type": "code",
   "execution_count": 9,
   "id": "45227d05",
   "metadata": {
    "execution": {
     "iopub.execute_input": "2023-06-28T10:27:38.418700Z",
     "iopub.status.busy": "2023-06-28T10:27:38.417815Z",
     "iopub.status.idle": "2023-06-28T10:27:38.424821Z",
     "shell.execute_reply": "2023-06-28T10:27:38.423769Z"
    },
    "papermill": {
     "duration": 0.026105,
     "end_time": "2023-06-28T10:27:38.427012",
     "exception": false,
     "start_time": "2023-06-28T10:27:38.400907",
     "status": "completed"
    },
    "tags": []
   },
   "outputs": [
    {
     "data": {
      "text/plain": [
       "'NIFTY 50'"
      ]
     },
     "execution_count": 9,
     "metadata": {},
     "output_type": "execute_result"
    }
   ],
   "source": [
    "nifty50_stocks.pop(0)"
   ]
  },
  {
   "cell_type": "code",
   "execution_count": 10,
   "id": "e7fd1234",
   "metadata": {
    "execution": {
     "iopub.execute_input": "2023-06-28T10:27:38.461392Z",
     "iopub.status.busy": "2023-06-28T10:27:38.460035Z",
     "iopub.status.idle": "2023-06-28T10:27:38.468764Z",
     "shell.execute_reply": "2023-06-28T10:27:38.467563Z"
    },
    "papermill": {
     "duration": 0.028115,
     "end_time": "2023-06-28T10:27:38.470984",
     "exception": false,
     "start_time": "2023-06-28T10:27:38.442869",
     "status": "completed"
    },
    "tags": []
   },
   "outputs": [
    {
     "data": {
      "text/plain": [
       "['INDUSINDBK',\n",
       " 'DRREDDY',\n",
       " 'ASIANPAINT',\n",
       " 'BHARTIARTL',\n",
       " 'NTPC',\n",
       " 'HCLTECH',\n",
       " 'HDFC',\n",
       " 'BAJAJ-AUTO',\n",
       " 'TATACONSUM',\n",
       " 'NESTLEIND',\n",
       " 'SUNPHARMA',\n",
       " 'HDFCBANK',\n",
       " 'BRITANNIA',\n",
       " 'ICICIBANK',\n",
       " 'HINDUNILVR',\n",
       " 'M&M',\n",
       " 'APOLLOHOSP',\n",
       " 'TECHM',\n",
       " 'BAJAJFINSV',\n",
       " 'COALINDIA',\n",
       " 'KOTAKBANK',\n",
       " 'ITC',\n",
       " 'BAJFINANCE',\n",
       " 'WIPRO',\n",
       " 'RELIANCE',\n",
       " 'TCS',\n",
       " 'CIPLA',\n",
       " 'EICHERMOT',\n",
       " 'MARUTI',\n",
       " 'AXISBANK',\n",
       " 'SBILIFE',\n",
       " 'LT',\n",
       " 'JSWSTEEL',\n",
       " 'UPL',\n",
       " 'ULTRACEMCO',\n",
       " 'INFY',\n",
       " 'TITAN',\n",
       " 'HEROMOTOCO',\n",
       " 'SBIN',\n",
       " 'POWERGRID',\n",
       " 'HDFCLIFE',\n",
       " 'TATAMOTORS',\n",
       " 'ONGC',\n",
       " 'TATASTEEL',\n",
       " 'GRASIM',\n",
       " 'DIVISLAB',\n",
       " 'HINDALCO',\n",
       " 'BPCL',\n",
       " 'ADANIPORTS',\n",
       " 'ADANIENT']"
      ]
     },
     "execution_count": 10,
     "metadata": {},
     "output_type": "execute_result"
    }
   ],
   "source": [
    "nifty50_stocks"
   ]
  },
  {
   "cell_type": "code",
   "execution_count": 11,
   "id": "b9dffd6c",
   "metadata": {
    "execution": {
     "iopub.execute_input": "2023-06-28T10:27:38.506210Z",
     "iopub.status.busy": "2023-06-28T10:27:38.505044Z",
     "iopub.status.idle": "2023-06-28T10:27:38.516131Z",
     "shell.execute_reply": "2023-06-28T10:27:38.514455Z"
    },
    "papermill": {
     "duration": 0.031731,
     "end_time": "2023-06-28T10:27:38.518753",
     "exception": false,
     "start_time": "2023-06-28T10:27:38.487022",
     "status": "completed"
    },
    "tags": []
   },
   "outputs": [],
   "source": [
    "data = pd.DataFrame(columns=[\"Date\",\"Open\",\"High\",\"Low\",\"Close\",\"Adj Close\",\"Volume\",\"Symbol\"])"
   ]
  },
  {
   "cell_type": "code",
   "execution_count": 12,
   "id": "74cbefe3",
   "metadata": {
    "execution": {
     "iopub.execute_input": "2023-06-28T10:27:38.553597Z",
     "iopub.status.busy": "2023-06-28T10:27:38.552855Z",
     "iopub.status.idle": "2023-06-28T10:27:53.688048Z",
     "shell.execute_reply": "2023-06-28T10:27:53.686554Z"
    },
    "papermill": {
     "duration": 15.156052,
     "end_time": "2023-06-28T10:27:53.690734",
     "exception": false,
     "start_time": "2023-06-28T10:27:38.534682",
     "status": "completed"
    },
    "tags": []
   },
   "outputs": [
    {
     "name": "stdout",
     "output_type": "stream",
     "text": [
      "[*********************100%***********************]  1 of 1 completed\n",
      "[*********************100%***********************]  1 of 1 completed\n",
      "[*********************100%***********************]  1 of 1 completed\n",
      "[*********************100%***********************]  1 of 1 completed\n",
      "[*********************100%***********************]  1 of 1 completed\n",
      "[*********************100%***********************]  1 of 1 completed\n",
      "[*********************100%***********************]  1 of 1 completed\n",
      "[*********************100%***********************]  1 of 1 completed\n",
      "[*********************100%***********************]  1 of 1 completed\n",
      "[*********************100%***********************]  1 of 1 completed\n",
      "[*********************100%***********************]  1 of 1 completed\n",
      "[*********************100%***********************]  1 of 1 completed\n",
      "[*********************100%***********************]  1 of 1 completed\n",
      "[*********************100%***********************]  1 of 1 completed\n",
      "[*********************100%***********************]  1 of 1 completed\n",
      "[*********************100%***********************]  1 of 1 completed\n",
      "[*********************100%***********************]  1 of 1 completed\n",
      "[*********************100%***********************]  1 of 1 completed\n",
      "[*********************100%***********************]  1 of 1 completed\n",
      "[*********************100%***********************]  1 of 1 completed\n",
      "[*********************100%***********************]  1 of 1 completed\n",
      "[*********************100%***********************]  1 of 1 completed\n",
      "[*********************100%***********************]  1 of 1 completed\n",
      "[*********************100%***********************]  1 of 1 completed\n",
      "[*********************100%***********************]  1 of 1 completed\n",
      "[*********************100%***********************]  1 of 1 completed\n",
      "[*********************100%***********************]  1 of 1 completed\n",
      "[*********************100%***********************]  1 of 1 completed\n",
      "[*********************100%***********************]  1 of 1 completed\n",
      "[*********************100%***********************]  1 of 1 completed\n",
      "[*********************100%***********************]  1 of 1 completed\n",
      "[*********************100%***********************]  1 of 1 completed\n",
      "[*********************100%***********************]  1 of 1 completed\n",
      "[*********************100%***********************]  1 of 1 completed\n",
      "[*********************100%***********************]  1 of 1 completed\n",
      "[*********************100%***********************]  1 of 1 completed\n",
      "[*********************100%***********************]  1 of 1 completed\n",
      "[*********************100%***********************]  1 of 1 completed\n",
      "[*********************100%***********************]  1 of 1 completed\n",
      "[*********************100%***********************]  1 of 1 completed\n",
      "[*********************100%***********************]  1 of 1 completed\n",
      "[*********************100%***********************]  1 of 1 completed\n",
      "[*********************100%***********************]  1 of 1 completed\n",
      "[*********************100%***********************]  1 of 1 completed\n",
      "[*********************100%***********************]  1 of 1 completed\n",
      "[*********************100%***********************]  1 of 1 completed\n",
      "[*********************100%***********************]  1 of 1 completed\n",
      "[*********************100%***********************]  1 of 1 completed\n",
      "[*********************100%***********************]  1 of 1 completed\n",
      "[*********************100%***********************]  1 of 1 completed\n"
     ]
    }
   ],
   "source": [
    "dfs=[]\n",
    "for stock in nifty50_stocks:\n",
    "    stock_data = yf.download(f'{stock}.NS', start=\"2010-01-01\", end=\"2023-06-22\")\n",
    "    stock_data['Symbol'] = stock\n",
    "    dfs.append(stock_data)\n",
    "data = pd.concat(dfs,axis=0)"
   ]
  },
  {
   "cell_type": "code",
   "execution_count": 13,
   "id": "206271d5",
   "metadata": {
    "execution": {
     "iopub.execute_input": "2023-06-28T10:27:53.741454Z",
     "iopub.status.busy": "2023-06-28T10:27:53.741015Z",
     "iopub.status.idle": "2023-06-28T10:27:53.759358Z",
     "shell.execute_reply": "2023-06-28T10:27:53.758477Z"
    },
    "papermill": {
     "duration": 0.046315,
     "end_time": "2023-06-28T10:27:53.761646",
     "exception": false,
     "start_time": "2023-06-28T10:27:53.715331",
     "status": "completed"
    },
    "tags": []
   },
   "outputs": [
    {
     "data": {
      "text/html": [
       "<div>\n",
       "<style scoped>\n",
       "    .dataframe tbody tr th:only-of-type {\n",
       "        vertical-align: middle;\n",
       "    }\n",
       "\n",
       "    .dataframe tbody tr th {\n",
       "        vertical-align: top;\n",
       "    }\n",
       "\n",
       "    .dataframe thead th {\n",
       "        text-align: right;\n",
       "    }\n",
       "</style>\n",
       "<table border=\"1\" class=\"dataframe\">\n",
       "  <thead>\n",
       "    <tr style=\"text-align: right;\">\n",
       "      <th></th>\n",
       "      <th>Open</th>\n",
       "      <th>High</th>\n",
       "      <th>Low</th>\n",
       "      <th>Close</th>\n",
       "      <th>Adj Close</th>\n",
       "      <th>Volume</th>\n",
       "      <th>Symbol</th>\n",
       "    </tr>\n",
       "    <tr>\n",
       "      <th>Date</th>\n",
       "      <th></th>\n",
       "      <th></th>\n",
       "      <th></th>\n",
       "      <th></th>\n",
       "      <th></th>\n",
       "      <th></th>\n",
       "      <th></th>\n",
       "    </tr>\n",
       "  </thead>\n",
       "  <tbody>\n",
       "    <tr>\n",
       "      <th>2010-01-04</th>\n",
       "      <td>140.500000</td>\n",
       "      <td>144.800003</td>\n",
       "      <td>140.050003</td>\n",
       "      <td>142.850006</td>\n",
       "      <td>131.203751</td>\n",
       "      <td>1042676</td>\n",
       "      <td>INDUSINDBK</td>\n",
       "    </tr>\n",
       "    <tr>\n",
       "      <th>2010-01-05</th>\n",
       "      <td>144.699997</td>\n",
       "      <td>144.750000</td>\n",
       "      <td>141.750000</td>\n",
       "      <td>142.699997</td>\n",
       "      <td>131.065979</td>\n",
       "      <td>551413</td>\n",
       "      <td>INDUSINDBK</td>\n",
       "    </tr>\n",
       "    <tr>\n",
       "      <th>2010-01-06</th>\n",
       "      <td>143.899994</td>\n",
       "      <td>147.000000</td>\n",
       "      <td>142.300003</td>\n",
       "      <td>146.100006</td>\n",
       "      <td>134.188766</td>\n",
       "      <td>995851</td>\n",
       "      <td>INDUSINDBK</td>\n",
       "    </tr>\n",
       "    <tr>\n",
       "      <th>2010-01-07</th>\n",
       "      <td>146.000000</td>\n",
       "      <td>147.000000</td>\n",
       "      <td>142.000000</td>\n",
       "      <td>142.800003</td>\n",
       "      <td>131.157852</td>\n",
       "      <td>580803</td>\n",
       "      <td>INDUSINDBK</td>\n",
       "    </tr>\n",
       "    <tr>\n",
       "      <th>2010-01-08</th>\n",
       "      <td>143.199997</td>\n",
       "      <td>144.949997</td>\n",
       "      <td>141.800003</td>\n",
       "      <td>142.300003</td>\n",
       "      <td>130.698578</td>\n",
       "      <td>382686</td>\n",
       "      <td>INDUSINDBK</td>\n",
       "    </tr>\n",
       "    <tr>\n",
       "      <th>...</th>\n",
       "      <td>...</td>\n",
       "      <td>...</td>\n",
       "      <td>...</td>\n",
       "      <td>...</td>\n",
       "      <td>...</td>\n",
       "      <td>...</td>\n",
       "      <td>...</td>\n",
       "    </tr>\n",
       "    <tr>\n",
       "      <th>2023-06-15</th>\n",
       "      <td>2469.000000</td>\n",
       "      <td>2527.000000</td>\n",
       "      <td>2462.899902</td>\n",
       "      <td>2485.649902</td>\n",
       "      <td>2485.649902</td>\n",
       "      <td>3744029</td>\n",
       "      <td>ADANIENT</td>\n",
       "    </tr>\n",
       "    <tr>\n",
       "      <th>2023-06-16</th>\n",
       "      <td>2499.199951</td>\n",
       "      <td>2526.899902</td>\n",
       "      <td>2487.399902</td>\n",
       "      <td>2509.600098</td>\n",
       "      <td>2509.600098</td>\n",
       "      <td>7999982</td>\n",
       "      <td>ADANIENT</td>\n",
       "    </tr>\n",
       "    <tr>\n",
       "      <th>2023-06-19</th>\n",
       "      <td>2504.000000</td>\n",
       "      <td>2521.600098</td>\n",
       "      <td>2350.000000</td>\n",
       "      <td>2401.399902</td>\n",
       "      <td>2401.399902</td>\n",
       "      <td>11475674</td>\n",
       "      <td>ADANIENT</td>\n",
       "    </tr>\n",
       "    <tr>\n",
       "      <th>2023-06-20</th>\n",
       "      <td>2435.000000</td>\n",
       "      <td>2435.000000</td>\n",
       "      <td>2390.000000</td>\n",
       "      <td>2414.800049</td>\n",
       "      <td>2414.800049</td>\n",
       "      <td>2479711</td>\n",
       "      <td>ADANIENT</td>\n",
       "    </tr>\n",
       "    <tr>\n",
       "      <th>2023-06-21</th>\n",
       "      <td>2426.699951</td>\n",
       "      <td>2440.000000</td>\n",
       "      <td>2393.100098</td>\n",
       "      <td>2405.949951</td>\n",
       "      <td>2405.949951</td>\n",
       "      <td>7418013</td>\n",
       "      <td>ADANIENT</td>\n",
       "    </tr>\n",
       "  </tbody>\n",
       "</table>\n",
       "<p>162186 rows × 7 columns</p>\n",
       "</div>"
      ],
      "text/plain": [
       "                   Open         High          Low        Close    Adj Close  \\\n",
       "Date                                                                          \n",
       "2010-01-04   140.500000   144.800003   140.050003   142.850006   131.203751   \n",
       "2010-01-05   144.699997   144.750000   141.750000   142.699997   131.065979   \n",
       "2010-01-06   143.899994   147.000000   142.300003   146.100006   134.188766   \n",
       "2010-01-07   146.000000   147.000000   142.000000   142.800003   131.157852   \n",
       "2010-01-08   143.199997   144.949997   141.800003   142.300003   130.698578   \n",
       "...                 ...          ...          ...          ...          ...   \n",
       "2023-06-15  2469.000000  2527.000000  2462.899902  2485.649902  2485.649902   \n",
       "2023-06-16  2499.199951  2526.899902  2487.399902  2509.600098  2509.600098   \n",
       "2023-06-19  2504.000000  2521.600098  2350.000000  2401.399902  2401.399902   \n",
       "2023-06-20  2435.000000  2435.000000  2390.000000  2414.800049  2414.800049   \n",
       "2023-06-21  2426.699951  2440.000000  2393.100098  2405.949951  2405.949951   \n",
       "\n",
       "              Volume      Symbol  \n",
       "Date                              \n",
       "2010-01-04   1042676  INDUSINDBK  \n",
       "2010-01-05    551413  INDUSINDBK  \n",
       "2010-01-06    995851  INDUSINDBK  \n",
       "2010-01-07    580803  INDUSINDBK  \n",
       "2010-01-08    382686  INDUSINDBK  \n",
       "...              ...         ...  \n",
       "2023-06-15   3744029    ADANIENT  \n",
       "2023-06-16   7999982    ADANIENT  \n",
       "2023-06-19  11475674    ADANIENT  \n",
       "2023-06-20   2479711    ADANIENT  \n",
       "2023-06-21   7418013    ADANIENT  \n",
       "\n",
       "[162186 rows x 7 columns]"
      ]
     },
     "execution_count": 13,
     "metadata": {},
     "output_type": "execute_result"
    }
   ],
   "source": [
    "data"
   ]
  },
  {
   "cell_type": "code",
   "execution_count": 14,
   "id": "f5223885",
   "metadata": {
    "execution": {
     "iopub.execute_input": "2023-06-28T10:27:53.815339Z",
     "iopub.status.busy": "2023-06-28T10:27:53.814890Z",
     "iopub.status.idle": "2023-06-28T10:27:53.846190Z",
     "shell.execute_reply": "2023-06-28T10:27:53.844938Z"
    },
    "papermill": {
     "duration": 0.061608,
     "end_time": "2023-06-28T10:27:53.848559",
     "exception": false,
     "start_time": "2023-06-28T10:27:53.786951",
     "status": "completed"
    },
    "tags": []
   },
   "outputs": [
    {
     "data": {
      "text/plain": [
       "HCLTECH       3326\n",
       "INDUSINDBK    3325\n",
       "HEROMOTOCO    3325\n",
       "EICHERMOT     3325\n",
       "MARUTI        3325\n",
       "AXISBANK      3325\n",
       "LT            3325\n",
       "JSWSTEEL      3325\n",
       "UPL           3325\n",
       "ULTRACEMCO    3325\n",
       "INFY          3325\n",
       "TITAN         3325\n",
       "SBIN          3325\n",
       "DRREDDY       3325\n",
       "POWERGRID     3325\n",
       "TATAMOTORS    3325\n",
       "ONGC          3325\n",
       "TATASTEEL     3325\n",
       "GRASIM        3325\n",
       "DIVISLAB      3325\n",
       "HINDALCO      3325\n",
       "BPCL          3325\n",
       "ADANIPORTS    3325\n",
       "CIPLA         3325\n",
       "TCS           3325\n",
       "RELIANCE      3325\n",
       "WIPRO         3325\n",
       "ASIANPAINT    3325\n",
       "BHARTIARTL    3325\n",
       "NTPC          3325\n",
       "HDFC          3325\n",
       "BAJAJ-AUTO    3325\n",
       "TATACONSUM    3325\n",
       "NESTLEIND     3325\n",
       "SUNPHARMA     3325\n",
       "HDFCBANK      3325\n",
       "BRITANNIA     3325\n",
       "ICICIBANK     3325\n",
       "HINDUNILVR    3325\n",
       "M&M           3325\n",
       "APOLLOHOSP    3325\n",
       "TECHM         3325\n",
       "BAJAJFINSV    3325\n",
       "KOTAKBANK     3325\n",
       "ITC           3325\n",
       "BAJFINANCE    3325\n",
       "ADANIENT      3325\n",
       "COALINDIA     3114\n",
       "SBILIFE       1414\n",
       "HDFCLIFE      1382\n",
       "Name: Symbol, dtype: int64"
      ]
     },
     "execution_count": 14,
     "metadata": {},
     "output_type": "execute_result"
    }
   ],
   "source": [
    "data.Symbol.value_counts()"
   ]
  },
  {
   "cell_type": "code",
   "execution_count": 15,
   "id": "d026451b",
   "metadata": {
    "execution": {
     "iopub.execute_input": "2023-06-28T10:27:53.900903Z",
     "iopub.status.busy": "2023-06-28T10:27:53.900530Z",
     "iopub.status.idle": "2023-06-28T10:27:53.928665Z",
     "shell.execute_reply": "2023-06-28T10:27:53.927577Z"
    },
    "papermill": {
     "duration": 0.057064,
     "end_time": "2023-06-28T10:27:53.930902",
     "exception": false,
     "start_time": "2023-06-28T10:27:53.873838",
     "status": "completed"
    },
    "tags": []
   },
   "outputs": [
    {
     "data": {
      "text/plain": [
       "50"
      ]
     },
     "execution_count": 15,
     "metadata": {},
     "output_type": "execute_result"
    }
   ],
   "source": [
    "len(data.Symbol.value_counts())"
   ]
  },
  {
   "cell_type": "code",
   "execution_count": 16,
   "id": "7a79b1b3",
   "metadata": {
    "execution": {
     "iopub.execute_input": "2023-06-28T10:27:53.983480Z",
     "iopub.status.busy": "2023-06-28T10:27:53.983067Z",
     "iopub.status.idle": "2023-06-28T10:27:53.989433Z",
     "shell.execute_reply": "2023-06-28T10:27:53.988332Z"
    },
    "papermill": {
     "duration": 0.035667,
     "end_time": "2023-06-28T10:27:53.991888",
     "exception": false,
     "start_time": "2023-06-28T10:27:53.956221",
     "status": "completed"
    },
    "tags": []
   },
   "outputs": [
    {
     "data": {
      "text/plain": [
       "(162186, 7)"
      ]
     },
     "execution_count": 16,
     "metadata": {},
     "output_type": "execute_result"
    }
   ],
   "source": [
    "data.shape"
   ]
  },
  {
   "cell_type": "code",
   "execution_count": 17,
   "id": "993bc4d7",
   "metadata": {
    "execution": {
     "iopub.execute_input": "2023-06-28T10:27:54.044601Z",
     "iopub.status.busy": "2023-06-28T10:27:54.044173Z",
     "iopub.status.idle": "2023-06-28T10:27:54.059254Z",
     "shell.execute_reply": "2023-06-28T10:27:54.058079Z"
    },
    "papermill": {
     "duration": 0.044374,
     "end_time": "2023-06-28T10:27:54.061759",
     "exception": false,
     "start_time": "2023-06-28T10:27:54.017385",
     "status": "completed"
    },
    "tags": []
   },
   "outputs": [
    {
     "data": {
      "text/html": [
       "<div>\n",
       "<style scoped>\n",
       "    .dataframe tbody tr th:only-of-type {\n",
       "        vertical-align: middle;\n",
       "    }\n",
       "\n",
       "    .dataframe tbody tr th {\n",
       "        vertical-align: top;\n",
       "    }\n",
       "\n",
       "    .dataframe thead th {\n",
       "        text-align: right;\n",
       "    }\n",
       "</style>\n",
       "<table border=\"1\" class=\"dataframe\">\n",
       "  <thead>\n",
       "    <tr style=\"text-align: right;\">\n",
       "      <th></th>\n",
       "      <th>Open</th>\n",
       "      <th>High</th>\n",
       "      <th>Low</th>\n",
       "      <th>Close</th>\n",
       "      <th>Adj Close</th>\n",
       "      <th>Volume</th>\n",
       "      <th>Symbol</th>\n",
       "    </tr>\n",
       "    <tr>\n",
       "      <th>Date</th>\n",
       "      <th></th>\n",
       "      <th></th>\n",
       "      <th></th>\n",
       "      <th></th>\n",
       "      <th></th>\n",
       "      <th></th>\n",
       "      <th></th>\n",
       "    </tr>\n",
       "  </thead>\n",
       "  <tbody>\n",
       "    <tr>\n",
       "      <th>2023-06-15</th>\n",
       "      <td>2469.000000</td>\n",
       "      <td>2527.000000</td>\n",
       "      <td>2462.899902</td>\n",
       "      <td>2485.649902</td>\n",
       "      <td>2485.649902</td>\n",
       "      <td>3744029</td>\n",
       "      <td>ADANIENT</td>\n",
       "    </tr>\n",
       "    <tr>\n",
       "      <th>2023-06-16</th>\n",
       "      <td>2499.199951</td>\n",
       "      <td>2526.899902</td>\n",
       "      <td>2487.399902</td>\n",
       "      <td>2509.600098</td>\n",
       "      <td>2509.600098</td>\n",
       "      <td>7999982</td>\n",
       "      <td>ADANIENT</td>\n",
       "    </tr>\n",
       "    <tr>\n",
       "      <th>2023-06-19</th>\n",
       "      <td>2504.000000</td>\n",
       "      <td>2521.600098</td>\n",
       "      <td>2350.000000</td>\n",
       "      <td>2401.399902</td>\n",
       "      <td>2401.399902</td>\n",
       "      <td>11475674</td>\n",
       "      <td>ADANIENT</td>\n",
       "    </tr>\n",
       "    <tr>\n",
       "      <th>2023-06-20</th>\n",
       "      <td>2435.000000</td>\n",
       "      <td>2435.000000</td>\n",
       "      <td>2390.000000</td>\n",
       "      <td>2414.800049</td>\n",
       "      <td>2414.800049</td>\n",
       "      <td>2479711</td>\n",
       "      <td>ADANIENT</td>\n",
       "    </tr>\n",
       "    <tr>\n",
       "      <th>2023-06-21</th>\n",
       "      <td>2426.699951</td>\n",
       "      <td>2440.000000</td>\n",
       "      <td>2393.100098</td>\n",
       "      <td>2405.949951</td>\n",
       "      <td>2405.949951</td>\n",
       "      <td>7418013</td>\n",
       "      <td>ADANIENT</td>\n",
       "    </tr>\n",
       "  </tbody>\n",
       "</table>\n",
       "</div>"
      ],
      "text/plain": [
       "                   Open         High          Low        Close    Adj Close  \\\n",
       "Date                                                                          \n",
       "2023-06-15  2469.000000  2527.000000  2462.899902  2485.649902  2485.649902   \n",
       "2023-06-16  2499.199951  2526.899902  2487.399902  2509.600098  2509.600098   \n",
       "2023-06-19  2504.000000  2521.600098  2350.000000  2401.399902  2401.399902   \n",
       "2023-06-20  2435.000000  2435.000000  2390.000000  2414.800049  2414.800049   \n",
       "2023-06-21  2426.699951  2440.000000  2393.100098  2405.949951  2405.949951   \n",
       "\n",
       "              Volume    Symbol  \n",
       "Date                            \n",
       "2023-06-15   3744029  ADANIENT  \n",
       "2023-06-16   7999982  ADANIENT  \n",
       "2023-06-19  11475674  ADANIENT  \n",
       "2023-06-20   2479711  ADANIENT  \n",
       "2023-06-21   7418013  ADANIENT  "
      ]
     },
     "execution_count": 17,
     "metadata": {},
     "output_type": "execute_result"
    }
   ],
   "source": [
    "data.tail()"
   ]
  },
  {
   "cell_type": "code",
   "execution_count": 18,
   "id": "47d93467",
   "metadata": {
    "execution": {
     "iopub.execute_input": "2023-06-28T10:27:54.115704Z",
     "iopub.status.busy": "2023-06-28T10:27:54.115294Z",
     "iopub.status.idle": "2023-06-28T10:27:54.137118Z",
     "shell.execute_reply": "2023-06-28T10:27:54.136153Z"
    },
    "papermill": {
     "duration": 0.051858,
     "end_time": "2023-06-28T10:27:54.139514",
     "exception": false,
     "start_time": "2023-06-28T10:27:54.087656",
     "status": "completed"
    },
    "tags": []
   },
   "outputs": [],
   "source": [
    "symbols = data['Symbol'].unique().tolist()"
   ]
  },
  {
   "cell_type": "code",
   "execution_count": 19,
   "id": "cdcc0023",
   "metadata": {
    "execution": {
     "iopub.execute_input": "2023-06-28T10:27:54.193832Z",
     "iopub.status.busy": "2023-06-28T10:27:54.193432Z",
     "iopub.status.idle": "2023-06-28T10:27:54.201274Z",
     "shell.execute_reply": "2023-06-28T10:27:54.200091Z"
    },
    "papermill": {
     "duration": 0.037034,
     "end_time": "2023-06-28T10:27:54.203609",
     "exception": false,
     "start_time": "2023-06-28T10:27:54.166575",
     "status": "completed"
    },
    "tags": []
   },
   "outputs": [
    {
     "data": {
      "text/plain": [
       "['INDUSINDBK',\n",
       " 'DRREDDY',\n",
       " 'ASIANPAINT',\n",
       " 'BHARTIARTL',\n",
       " 'NTPC',\n",
       " 'HCLTECH',\n",
       " 'HDFC',\n",
       " 'BAJAJ-AUTO',\n",
       " 'TATACONSUM',\n",
       " 'NESTLEIND',\n",
       " 'SUNPHARMA',\n",
       " 'HDFCBANK',\n",
       " 'BRITANNIA',\n",
       " 'ICICIBANK',\n",
       " 'HINDUNILVR',\n",
       " 'M&M',\n",
       " 'APOLLOHOSP',\n",
       " 'TECHM',\n",
       " 'BAJAJFINSV',\n",
       " 'COALINDIA',\n",
       " 'KOTAKBANK',\n",
       " 'ITC',\n",
       " 'BAJFINANCE',\n",
       " 'WIPRO',\n",
       " 'RELIANCE',\n",
       " 'TCS',\n",
       " 'CIPLA',\n",
       " 'EICHERMOT',\n",
       " 'MARUTI',\n",
       " 'AXISBANK',\n",
       " 'SBILIFE',\n",
       " 'LT',\n",
       " 'JSWSTEEL',\n",
       " 'UPL',\n",
       " 'ULTRACEMCO',\n",
       " 'INFY',\n",
       " 'TITAN',\n",
       " 'HEROMOTOCO',\n",
       " 'SBIN',\n",
       " 'POWERGRID',\n",
       " 'HDFCLIFE',\n",
       " 'TATAMOTORS',\n",
       " 'ONGC',\n",
       " 'TATASTEEL',\n",
       " 'GRASIM',\n",
       " 'DIVISLAB',\n",
       " 'HINDALCO',\n",
       " 'BPCL',\n",
       " 'ADANIPORTS',\n",
       " 'ADANIENT']"
      ]
     },
     "execution_count": 19,
     "metadata": {},
     "output_type": "execute_result"
    }
   ],
   "source": [
    "symbols"
   ]
  },
  {
   "cell_type": "code",
   "execution_count": 20,
   "id": "bb14f947",
   "metadata": {
    "execution": {
     "iopub.execute_input": "2023-06-28T10:27:54.258269Z",
     "iopub.status.busy": "2023-06-28T10:27:54.257850Z",
     "iopub.status.idle": "2023-06-28T10:27:55.790825Z",
     "shell.execute_reply": "2023-06-28T10:27:55.789718Z"
    },
    "papermill": {
     "duration": 1.563371,
     "end_time": "2023-06-28T10:27:55.793760",
     "exception": false,
     "start_time": "2023-06-28T10:27:54.230389",
     "status": "completed"
    },
    "tags": []
   },
   "outputs": [],
   "source": [
    "data_list = []\n",
    "scaler = MinMaxScaler(feature_range=(0,1))\n",
    "for index,symbol in enumerate(symbols):\n",
    "    symbol_data = data[data['Symbol']==symbol][['Open','High','Low','Close']]\n",
    "    if symbol_data.shape[0] == 3325:\n",
    "        scaled_data = scaler.fit_transform(symbol_data)\n",
    "        data_list.append(scaled_data)\n",
    "#     if index == 5:\n",
    "#         print(symbol)\n",
    "#         print(symbol_data)\n",
    "#         break"
   ]
  },
  {
   "cell_type": "code",
   "execution_count": 21,
   "id": "8509b8d9",
   "metadata": {
    "execution": {
     "iopub.execute_input": "2023-06-28T10:27:55.847137Z",
     "iopub.status.busy": "2023-06-28T10:27:55.846201Z",
     "iopub.status.idle": "2023-06-28T10:27:55.854688Z",
     "shell.execute_reply": "2023-06-28T10:27:55.853678Z"
    },
    "papermill": {
     "duration": 0.038166,
     "end_time": "2023-06-28T10:27:55.857492",
     "exception": false,
     "start_time": "2023-06-28T10:27:55.819326",
     "status": "completed"
    },
    "tags": []
   },
   "outputs": [],
   "source": [
    "data_array = np.array(data_list)"
   ]
  },
  {
   "cell_type": "code",
   "execution_count": 22,
   "id": "a4fffc05",
   "metadata": {
    "execution": {
     "iopub.execute_input": "2023-06-28T10:27:55.911038Z",
     "iopub.status.busy": "2023-06-28T10:27:55.910667Z",
     "iopub.status.idle": "2023-06-28T10:27:55.916906Z",
     "shell.execute_reply": "2023-06-28T10:27:55.915941Z"
    },
    "papermill": {
     "duration": 0.035796,
     "end_time": "2023-06-28T10:27:55.919199",
     "exception": false,
     "start_time": "2023-06-28T10:27:55.883403",
     "status": "completed"
    },
    "tags": []
   },
   "outputs": [
    {
     "data": {
      "text/plain": [
       "(46, 3325, 4)"
      ]
     },
     "execution_count": 22,
     "metadata": {},
     "output_type": "execute_result"
    }
   ],
   "source": [
    "data_array.shape"
   ]
  },
  {
   "cell_type": "code",
   "execution_count": 23,
   "id": "fd1d27b5",
   "metadata": {
    "execution": {
     "iopub.execute_input": "2023-06-28T10:27:55.972552Z",
     "iopub.status.busy": "2023-06-28T10:27:55.971785Z",
     "iopub.status.idle": "2023-06-28T10:27:55.981300Z",
     "shell.execute_reply": "2023-06-28T10:27:55.980276Z"
    },
    "papermill": {
     "duration": 0.038587,
     "end_time": "2023-06-28T10:27:55.983481",
     "exception": false,
     "start_time": "2023-06-28T10:27:55.944894",
     "status": "completed"
    },
    "tags": []
   },
   "outputs": [
    {
     "data": {
      "text/plain": [
       "array([[[1.05563181e-03, 2.08206887e-03, 2.19545178e-03, 2.99600127e-03],\n",
       "        [3.27245700e-03, 2.05571194e-03, 3.10575807e-03, 2.91645669e-03],\n",
       "        [2.85020266e-03, 3.24170146e-03, 3.40027109e-03, 4.71936204e-03],\n",
       "        ...,\n",
       "        [6.18336332e-01, 6.20088026e-01, 6.18286483e-01, 6.17334356e-01],\n",
       "        [6.10419094e-01, 6.19112891e-01, 6.15394904e-01, 6.15743562e-01],\n",
       "        [6.11870587e-01, 6.14948738e-01, 6.14966563e-01, 6.09486410e-01]],\n",
       "\n",
       "       [[1.11358575e-02, 1.11723691e-02, 1.35458876e-02, 1.30779329e-02],\n",
       "        [1.33630290e-02, 1.81592697e-02, 1.88858725e-02, 2.09358064e-02],\n",
       "        [2.14253789e-02, 2.95641769e-02, 2.63528976e-02, 2.76584367e-02],\n",
       "        ...,\n",
       "        [8.59910913e-01, 8.69208946e-01, 8.50009994e-01, 8.44912368e-01],\n",
       "        [8.43875278e-01, 8.47672495e-01, 8.51129489e-01, 8.49854201e-01],\n",
       "        [8.53441023e-01, 8.52821312e-01, 8.57096484e-01, 8.51902084e-01]],\n",
       "\n",
       "       [[1.32143067e-03, 7.31137499e-04, 2.03399399e-03, 7.99963880e-04],\n",
       "        [1.52698566e-03, 8.79119590e-04, 2.18267784e-03, 9.66129003e-04],\n",
       "        [2.01885241e-03, 1.16630188e-03, 2.06373257e-03, 8.07314690e-04],\n",
       "        ...,\n",
       "        [9.23313002e-01, 9.28190567e-01, 9.31382403e-01, 9.21591782e-01],\n",
       "        [9.22182416e-01, 9.22886589e-01, 9.23606267e-01, 9.24238720e-01],\n",
       "        [9.23268911e-01, 9.24688755e-01, 9.30415958e-01, 9.23474092e-01]],\n",
       "\n",
       "       ...,\n",
       "\n",
       "       [[6.13646408e-02, 6.47550508e-02, 6.31408964e-02, 6.79737923e-02],\n",
       "        [6.87439254e-02, 6.43494521e-02, 6.57543673e-02, 6.44833788e-02],\n",
       "        [6.36419757e-02, 6.15102453e-02, 6.17252593e-02, 6.10464093e-02],\n",
       "        ...,\n",
       "        [6.35625384e-01, 6.34218643e-01, 6.48596150e-01, 6.37033903e-01],\n",
       "        [6.31388470e-01, 6.26494541e-01, 6.42824733e-01, 6.32118874e-01],\n",
       "        [6.25986430e-01, 6.25859714e-01, 6.42498062e-01, 6.32866765e-01]],\n",
       "\n",
       "       [[3.46340332e-03, 2.40483321e-03, 6.61252546e-03, 3.88518234e-03],\n",
       "        [4.57169133e-03, 7.12331907e-03, 7.88863463e-03, 8.33865172e-03],\n",
       "        [9.00485216e-03, 1.31638971e-02, 9.36194860e-03, 1.49608600e-02],\n",
       "        ...,\n",
       "        [7.41052892e-01, 7.28801052e-01, 7.26218097e-01, 7.27921165e-01],\n",
       "        [7.27314698e-01, 7.19797149e-01, 7.25290037e-01, 7.30414599e-01],\n",
       "        [7.29508215e-01, 7.32619123e-01, 7.28886297e-01, 7.43925790e-01]],\n",
       "\n",
       "       [[1.11954080e-02, 1.16909717e-02, 1.16101456e-02, 1.17797037e-02],\n",
       "        [1.17783290e-02, 1.20567738e-02, 1.23676164e-02, 1.21661353e-02],\n",
       "        [1.21472671e-02, 1.40071071e-02, 1.26327324e-02, 1.38523836e-02],\n",
       "        ...,\n",
       "        [5.97785482e-01, 5.99822970e-01, 5.75885309e-01, 5.74441576e-01],\n",
       "        [5.81176983e-01, 5.79051349e-01, 5.85769129e-01, 5.77674495e-01],\n",
       "        [5.79179137e-01, 5.80250633e-01, 5.86535149e-01, 5.75539321e-01]]])"
      ]
     },
     "execution_count": 23,
     "metadata": {},
     "output_type": "execute_result"
    }
   ],
   "source": [
    "data_array"
   ]
  },
  {
   "cell_type": "code",
   "execution_count": 24,
   "id": "0c412ebd",
   "metadata": {
    "execution": {
     "iopub.execute_input": "2023-06-28T10:27:56.041751Z",
     "iopub.status.busy": "2023-06-28T10:27:56.041055Z",
     "iopub.status.idle": "2023-06-28T10:28:25.410508Z",
     "shell.execute_reply": "2023-06-28T10:28:25.409224Z"
    },
    "papermill": {
     "duration": 29.401205,
     "end_time": "2023-06-28T10:28:25.413061",
     "exception": false,
     "start_time": "2023-06-28T10:27:56.011856",
     "status": "completed"
    },
    "tags": []
   },
   "outputs": [
    {
     "name": "stdout",
     "output_type": "stream",
     "text": [
      "Epoch 1/10\n",
      "2/2 [==============================] - 5s 1s/step - loss: 0.7534\n",
      "Epoch 2/10\n",
      "2/2 [==============================] - 2s 1s/step - loss: 0.5339\n",
      "Epoch 3/10\n",
      "2/2 [==============================] - 2s 970ms/step - loss: 0.3713\n",
      "Epoch 4/10\n",
      "2/2 [==============================] - 2s 1s/step - loss: 0.2420\n",
      "Epoch 5/10\n",
      "2/2 [==============================] - 3s 1s/step - loss: 0.1379\n",
      "Epoch 6/10\n",
      "2/2 [==============================] - 2s 1s/step - loss: 0.0630\n",
      "Epoch 7/10\n",
      "2/2 [==============================] - 2s 1s/step - loss: 0.0207\n",
      "Epoch 8/10\n",
      "2/2 [==============================] - 2s 1s/step - loss: 0.0145\n",
      "Epoch 9/10\n",
      "2/2 [==============================] - 3s 1s/step - loss: 0.0235\n",
      "Epoch 10/10\n",
      "2/2 [==============================] - 2s 985ms/step - loss: 0.0297\n",
      "1/1 [==============================] - 1s 783ms/step - loss: 0.0285\n",
      "Test loss: 0.028516292572021484\n"
     ]
    }
   ],
   "source": [
    "# Split the data into train and test sets\n",
    "train_data, test_data = train_test_split(data_array, test_size=0.2)\n",
    "\n",
    "# Prepare the input and output data for the LSTM model\n",
    "train_input = train_data[:, :-1, :]  # Use all but the last time step as input\n",
    "train_output = train_data[:, -1, :]  # Use the last time step as output\n",
    "\n",
    "test_input = test_data[:, :-1, :]\n",
    "test_output = test_data[:, -1, :]\n",
    "\n",
    "# Build the LSTM model\n",
    "model = Sequential()\n",
    "model.add(LSTM(64, input_shape=(train_input.shape[1], train_input.shape[2])))\n",
    "model.add(Dense(4))  # Assuming you want to predict 4 values\n",
    "model.compile(loss='mean_squared_error', optimizer='adam')\n",
    "\n",
    "# Train the model\n",
    "model.fit(train_input, train_output, epochs=10, batch_size=32)\n",
    "\n",
    "# Evaluate the model\n",
    "loss = model.evaluate(test_input, test_output)\n",
    "print(\"Test loss:\", loss)"
   ]
  },
  {
   "cell_type": "code",
   "execution_count": 25,
   "id": "4c172501",
   "metadata": {
    "execution": {
     "iopub.execute_input": "2023-06-28T10:28:25.478330Z",
     "iopub.status.busy": "2023-06-28T10:28:25.477904Z",
     "iopub.status.idle": "2023-06-28T10:28:26.537855Z",
     "shell.execute_reply": "2023-06-28T10:28:26.536851Z"
    },
    "papermill": {
     "duration": 1.094878,
     "end_time": "2023-06-28T10:28:26.540618",
     "exception": false,
     "start_time": "2023-06-28T10:28:25.445740",
     "status": "completed"
    },
    "tags": []
   },
   "outputs": [
    {
     "name": "stdout",
     "output_type": "stream",
     "text": [
      "1/1 [==============================] - 1s 1s/step\n"
     ]
    }
   ],
   "source": [
    "# Get the models predicted price values \n",
    "predictions = model.predict(test_input)\n",
    "predictions = scaler.inverse_transform(predictions)"
   ]
  },
  {
   "cell_type": "code",
   "execution_count": 26,
   "id": "ce25e4d5",
   "metadata": {
    "execution": {
     "iopub.execute_input": "2023-06-28T10:28:26.603343Z",
     "iopub.status.busy": "2023-06-28T10:28:26.602897Z",
     "iopub.status.idle": "2023-06-28T10:28:26.610879Z",
     "shell.execute_reply": "2023-06-28T10:28:26.609580Z"
    },
    "papermill": {
     "duration": 0.042207,
     "end_time": "2023-06-28T10:28:26.613403",
     "exception": false,
     "start_time": "2023-06-28T10:28:26.571196",
     "status": "completed"
    },
    "tags": []
   },
   "outputs": [
    {
     "data": {
      "text/plain": [
       "array([[4942.3076, 3815.9153, 3361.774 , 3984.8696],\n",
       "       [5107.2593, 4085.2673, 3629.0679, 4213.093 ],\n",
       "       [5149.7188, 4073.0554, 3600.7117, 4216.7246],\n",
       "       [4609.    , 3343.5142, 2918.449 , 3589.093 ],\n",
       "       [5102.9487, 4082.1182, 3622.2083, 4202.1147],\n",
       "       [5046.4956, 4010.2864, 3562.8044, 4130.499 ],\n",
       "       [5110.0244, 4045.2886, 3577.067 , 4185.5566],\n",
       "       [4017.3828, 2679.7642, 2305.055 , 3001.105 ],\n",
       "       [4266.3374, 2982.2854, 2595.9985, 3253.0127],\n",
       "       [4990.7705, 3894.1636, 3438.6465, 4045.727 ]], dtype=float32)"
      ]
     },
     "execution_count": 26,
     "metadata": {},
     "output_type": "execute_result"
    }
   ],
   "source": [
    "predictions"
   ]
  },
  {
   "cell_type": "code",
   "execution_count": 27,
   "id": "410a920a",
   "metadata": {
    "execution": {
     "iopub.execute_input": "2023-06-28T10:28:26.675993Z",
     "iopub.status.busy": "2023-06-28T10:28:26.675574Z",
     "iopub.status.idle": "2023-06-28T10:28:26.683700Z",
     "shell.execute_reply": "2023-06-28T10:28:26.682505Z"
    },
    "papermill": {
     "duration": 0.042366,
     "end_time": "2023-06-28T10:28:26.686248",
     "exception": false,
     "start_time": "2023-06-28T10:28:26.643882",
     "status": "completed"
    },
    "tags": []
   },
   "outputs": [
    {
     "data": {
      "text/plain": [
       "array([[3682.17395156, 3715.95346873, 3673.53421763, 3739.04548378],\n",
       "       [4104.79246733, 4146.36634702, 4022.08159329, 4101.02723011],\n",
       "       [4035.79353488, 4038.29950711, 3935.76521613, 4018.45463988],\n",
       "       [3051.24202367, 3075.24778957, 2969.19779188, 3103.89613101],\n",
       "       [4175.        , 4134.35397311, 4059.12532319, 4161.159214  ],\n",
       "       [4173.8451801 , 4190.        , 4066.39990234, 4165.29980469],\n",
       "       [3961.83094664, 3978.81843861, 3915.54806659, 3983.25705085],\n",
       "       [2198.64745737, 2207.57209772, 2219.99851521, 2254.68880589],\n",
       "       [2621.16082703, 2630.15130652, 2619.58302697, 2643.56685093],\n",
       "       [3778.57379429, 3812.84503387, 3829.18533457, 3811.07519211]])"
      ]
     },
     "execution_count": 27,
     "metadata": {},
     "output_type": "execute_result"
    }
   ],
   "source": [
    "scaler.inverse_transform(test_output)"
   ]
  },
  {
   "cell_type": "code",
   "execution_count": 28,
   "id": "459a8ef7",
   "metadata": {
    "execution": {
     "iopub.execute_input": "2023-06-28T10:28:26.749270Z",
     "iopub.status.busy": "2023-06-28T10:28:26.748837Z",
     "iopub.status.idle": "2023-06-28T10:28:26.757247Z",
     "shell.execute_reply": "2023-06-28T10:28:26.756173Z"
    },
    "papermill": {
     "duration": 0.042658,
     "end_time": "2023-06-28T10:28:26.759453",
     "exception": false,
     "start_time": "2023-06-28T10:28:26.716795",
     "status": "completed"
    },
    "tags": []
   },
   "outputs": [
    {
     "data": {
      "text/plain": [
       "array([[ 214.84724189,  214.6889974 ,  226.76651309,  224.51537057],\n",
       "       [ 224.79056083,  228.04974072,  232.52715671,  232.0470875 ],\n",
       "       [ 231.11809294,  234.93391853,  240.1490332 ,  238.1806496 ],\n",
       "       ...,\n",
       "       [4042.2566315 , 4084.88072811, 3969.8862318 , 4065.58403908],\n",
       "       [4063.13766196, 4065.94933417, 3929.42851558, 4010.76516689],\n",
       "       [4000.74339632, 4039.04661893, 3910.41811641, 4022.67135975]])"
      ]
     },
     "execution_count": 28,
     "metadata": {},
     "output_type": "execute_result"
    }
   ],
   "source": [
    "scaler.inverse_transform(test_input[2])"
   ]
  },
  {
   "cell_type": "code",
   "execution_count": 29,
   "id": "f11e5989",
   "metadata": {
    "execution": {
     "iopub.execute_input": "2023-06-28T10:28:26.824102Z",
     "iopub.status.busy": "2023-06-28T10:28:26.823689Z",
     "iopub.status.idle": "2023-06-28T10:28:26.832115Z",
     "shell.execute_reply": "2023-06-28T10:28:26.831290Z"
    },
    "papermill": {
     "duration": 0.042937,
     "end_time": "2023-06-28T10:28:26.834580",
     "exception": false,
     "start_time": "2023-06-28T10:28:26.791643",
     "status": "completed"
    },
    "tags": []
   },
   "outputs": [],
   "source": [
    "# extract last time step closing prices\n",
    "test_input_closing_prices = []\n",
    "for data in test_input:\n",
    "    inverse_data = scaler.inverse_transform(data)\n",
    "    test_input_closing_prices.append(inverse_data[-1][-1])"
   ]
  },
  {
   "cell_type": "code",
   "execution_count": 30,
   "id": "b4d42647",
   "metadata": {
    "execution": {
     "iopub.execute_input": "2023-06-28T10:28:26.899842Z",
     "iopub.status.busy": "2023-06-28T10:28:26.898979Z",
     "iopub.status.idle": "2023-06-28T10:28:26.905375Z",
     "shell.execute_reply": "2023-06-28T10:28:26.904315Z"
    },
    "papermill": {
     "duration": 0.040563,
     "end_time": "2023-06-28T10:28:26.907509",
     "exception": false,
     "start_time": "2023-06-28T10:28:26.866946",
     "status": "completed"
    },
    "tags": []
   },
   "outputs": [
    {
     "data": {
      "text/plain": [
       "[3727.0360542695826,\n",
       " 4102.073422813258,\n",
       " 4022.6713597475664,\n",
       " 3047.8935069381923,\n",
       " 4165.2998046875,\n",
       " 3958.80533797308,\n",
       " 4007.0815584452976,\n",
       " 2219.0615401967557,\n",
       " 2640.4669125125342,\n",
       " 3788.936019467339]"
      ]
     },
     "execution_count": 30,
     "metadata": {},
     "output_type": "execute_result"
    }
   ],
   "source": [
    "test_input_closing_prices"
   ]
  },
  {
   "cell_type": "code",
   "execution_count": 31,
   "id": "db9dd41d",
   "metadata": {
    "execution": {
     "iopub.execute_input": "2023-06-28T10:28:26.972135Z",
     "iopub.status.busy": "2023-06-28T10:28:26.971528Z",
     "iopub.status.idle": "2023-06-28T10:28:26.976713Z",
     "shell.execute_reply": "2023-06-28T10:28:26.975686Z"
    },
    "papermill": {
     "duration": 0.040095,
     "end_time": "2023-06-28T10:28:26.979140",
     "exception": false,
     "start_time": "2023-06-28T10:28:26.939045",
     "status": "completed"
    },
    "tags": []
   },
   "outputs": [],
   "source": [
    "test_output_closing_prices = []\n",
    "inverse_data = scaler.inverse_transform(test_output)\n",
    "for data in inverse_data:\n",
    "    test_output_closing_prices.append(data[-1])"
   ]
  },
  {
   "cell_type": "code",
   "execution_count": 32,
   "id": "98516a17",
   "metadata": {
    "execution": {
     "iopub.execute_input": "2023-06-28T10:28:27.045212Z",
     "iopub.status.busy": "2023-06-28T10:28:27.044785Z",
     "iopub.status.idle": "2023-06-28T10:28:27.051876Z",
     "shell.execute_reply": "2023-06-28T10:28:27.051020Z"
    },
    "papermill": {
     "duration": 0.042667,
     "end_time": "2023-06-28T10:28:27.054003",
     "exception": false,
     "start_time": "2023-06-28T10:28:27.011336",
     "status": "completed"
    },
    "tags": []
   },
   "outputs": [
    {
     "data": {
      "text/plain": [
       "[3739.045483778286,\n",
       " 4101.027230109423,\n",
       " 4018.454639884639,\n",
       " 3103.896131010383,\n",
       " 4161.159213996247,\n",
       " 4165.2998046875,\n",
       " 3983.2570508494687,\n",
       " 2254.688805893486,\n",
       " 2643.5668509291413,\n",
       " 3811.075192111607]"
      ]
     },
     "execution_count": 32,
     "metadata": {},
     "output_type": "execute_result"
    }
   ],
   "source": [
    "test_output_closing_prices"
   ]
  },
  {
   "cell_type": "code",
   "execution_count": 33,
   "id": "f76f761c",
   "metadata": {
    "execution": {
     "iopub.execute_input": "2023-06-28T10:28:27.118925Z",
     "iopub.status.busy": "2023-06-28T10:28:27.118269Z",
     "iopub.status.idle": "2023-06-28T10:28:27.495414Z",
     "shell.execute_reply": "2023-06-28T10:28:27.494304Z"
    },
    "papermill": {
     "duration": 0.412708,
     "end_time": "2023-06-28T10:28:27.497906",
     "exception": false,
     "start_time": "2023-06-28T10:28:27.085198",
     "status": "completed"
    },
    "tags": []
   },
   "outputs": [
    {
     "data": {
      "image/png": "[encoded data removed]",
      "text/plain": [
       "<Figure size 640x480 with 1 Axes>"
      ]
     },
     "metadata": {},
     "output_type": "display_data"
    }
   ],
   "source": [
    "# Compute the difference between the values in the two lists\n",
    "difference = [abs(a - b) for a, b in zip(test_input_closing_prices, test_output_closing_prices)]\n",
    "\n",
    "# Create the plot\n",
    "plt.plot(test_input_closing_prices, label='Actual Closing Prices')\n",
    "plt.plot(test_output_closing_prices, label='Predicted Closing Prices')\n",
    "# plt.plot(difference, label='Difference')\n",
    "\n",
    "# # Display values on the graph\n",
    "# for i, val in enumerate(test_input_closing_prices):\n",
    "#     plt.text(i, val, str(val), ha='center', va='top')\n",
    "\n",
    "# for i, val in enumerate(test_output_closing_prices):\n",
    "#     plt.text(i, val, str(val), ha='center', va='bottom')\n",
    "\n",
    "plt.xlabel('Index')\n",
    "plt.ylabel('Value')\n",
    "plt.title('Actual vs Predicted Values in Test Set')\n",
    "plt.grid(True)\n",
    "plt.legend()\n",
    "\n",
    "# Show the plot\n",
    "plt.show()"
   ]
  },
  {
   "cell_type": "code",
   "execution_count": 34,
   "id": "d0b669c3",
   "metadata": {
    "execution": {
     "iopub.execute_input": "2023-06-28T10:28:27.564751Z",
     "iopub.status.busy": "2023-06-28T10:28:27.564229Z",
     "iopub.status.idle": "2023-06-28T10:28:32.435720Z",
     "shell.execute_reply": "2023-06-28T10:28:32.434675Z"
    },
    "papermill": {
     "duration": 4.908523,
     "end_time": "2023-06-28T10:28:32.439508",
     "exception": false,
     "start_time": "2023-06-28T10:28:27.530985",
     "status": "completed"
    },
    "tags": []
   },
   "outputs": [],
   "source": [
    "# Save the model\n",
    "model.save('model_directory')\n",
    "\n"
   ]
  },
  {
   "cell_type": "code",
   "execution_count": 35,
   "id": "c843244c",
   "metadata": {
    "execution": {
     "iopub.execute_input": "2023-06-28T10:28:32.505558Z",
     "iopub.status.busy": "2023-06-28T10:28:32.505149Z",
     "iopub.status.idle": "2023-06-28T10:28:34.573594Z",
     "shell.execute_reply": "2023-06-28T10:28:34.572393Z"
    },
    "papermill": {
     "duration": 2.115702,
     "end_time": "2023-06-28T10:28:34.587769",
     "exception": false,
     "start_time": "2023-06-28T10:28:32.472067",
     "status": "completed"
    },
    "tags": []
   },
   "outputs": [],
   "source": [
    "# Load the model\n",
    "loaded_model = tf.keras.models.load_model('model_directory')"
   ]
  },
  {
   "cell_type": "code",
   "execution_count": 36,
   "id": "13597437",
   "metadata": {
    "execution": {
     "iopub.execute_input": "2023-06-28T10:28:34.654757Z",
     "iopub.status.busy": "2023-06-28T10:28:34.654353Z",
     "iopub.status.idle": "2023-06-28T10:28:35.411374Z",
     "shell.execute_reply": "2023-06-28T10:28:35.410500Z"
    },
    "papermill": {
     "duration": 0.79317,
     "end_time": "2023-06-28T10:28:35.413759",
     "exception": false,
     "start_time": "2023-06-28T10:28:34.620589",
     "status": "completed"
    },
    "tags": []
   },
   "outputs": [
    {
     "name": "stdout",
     "output_type": "stream",
     "text": [
      "1/1 [==============================] - 1s 694ms/step\n"
     ]
    },
    {
     "data": {
      "text/plain": [
       "array([[4942.3076, 3815.9153, 3361.774 , 3984.8696],\n",
       "       [5107.2593, 4085.2673, 3629.0679, 4213.093 ],\n",
       "       [5149.7188, 4073.0554, 3600.7117, 4216.7246],\n",
       "       [4609.    , 3343.5142, 2918.449 , 3589.093 ],\n",
       "       [5102.9487, 4082.1182, 3622.2083, 4202.1147],\n",
       "       [5046.4956, 4010.2864, 3562.8044, 4130.499 ],\n",
       "       [5110.0244, 4045.2886, 3577.067 , 4185.5566],\n",
       "       [4017.3828, 2679.7642, 2305.055 , 3001.105 ],\n",
       "       [4266.3374, 2982.2854, 2595.9985, 3253.0127],\n",
       "       [4990.7705, 3894.1636, 3438.6465, 4045.727 ]], dtype=float32)"
      ]
     },
     "execution_count": 36,
     "metadata": {},
     "output_type": "execute_result"
    }
   ],
   "source": [
    "# Get the models predicted price values \n",
    "predictions = loaded_model.predict(test_input)\n",
    "predictions = scaler.inverse_transform(predictions)\n",
    "predictions"
   ]
  },
  {
   "cell_type": "code",
   "execution_count": 37,
   "id": "ad04d8cd",
   "metadata": {
    "execution": {
     "iopub.execute_input": "2023-06-28T10:28:35.481688Z",
     "iopub.status.busy": "2023-06-28T10:28:35.480357Z",
     "iopub.status.idle": "2023-06-28T10:28:35.709176Z",
     "shell.execute_reply": "2023-06-28T10:28:35.707856Z"
    },
    "papermill": {
     "duration": 0.26519,
     "end_time": "2023-06-28T10:28:35.711368",
     "exception": false,
     "start_time": "2023-06-28T10:28:35.446178",
     "status": "completed"
    },
    "tags": []
   },
   "outputs": [
    {
     "name": "stdout",
     "output_type": "stream",
     "text": [
      "[*********************100%***********************]  1 of 1 completed\n"
     ]
    }
   ],
   "source": [
    "new_stock_data = yf.download('INFY.NS', start=\"2010-01-01\", end=\"2023-06-28\")"
   ]
  },
  {
   "cell_type": "code",
   "execution_count": 38,
   "id": "9c2d023a",
   "metadata": {
    "execution": {
     "iopub.execute_input": "2023-06-28T10:28:35.779791Z",
     "iopub.status.busy": "2023-06-28T10:28:35.779364Z",
     "iopub.status.idle": "2023-06-28T10:28:35.797295Z",
     "shell.execute_reply": "2023-06-28T10:28:35.796145Z"
    },
    "papermill": {
     "duration": 0.055213,
     "end_time": "2023-06-28T10:28:35.799769",
     "exception": false,
     "start_time": "2023-06-28T10:28:35.744556",
     "status": "completed"
    },
    "tags": []
   },
   "outputs": [
    {
     "data": {
      "text/html": [
       "<div>\n",
       "<style scoped>\n",
       "    .dataframe tbody tr th:only-of-type {\n",
       "        vertical-align: middle;\n",
       "    }\n",
       "\n",
       "    .dataframe tbody tr th {\n",
       "        vertical-align: top;\n",
       "    }\n",
       "\n",
       "    .dataframe thead th {\n",
       "        text-align: right;\n",
       "    }\n",
       "</style>\n",
       "<table border=\"1\" class=\"dataframe\">\n",
       "  <thead>\n",
       "    <tr style=\"text-align: right;\">\n",
       "      <th></th>\n",
       "      <th>Open</th>\n",
       "      <th>High</th>\n",
       "      <th>Low</th>\n",
       "      <th>Close</th>\n",
       "      <th>Adj Close</th>\n",
       "      <th>Volume</th>\n",
       "    </tr>\n",
       "    <tr>\n",
       "      <th>Date</th>\n",
       "      <th></th>\n",
       "      <th></th>\n",
       "      <th></th>\n",
       "      <th></th>\n",
       "      <th></th>\n",
       "      <th></th>\n",
       "    </tr>\n",
       "  </thead>\n",
       "  <tbody>\n",
       "    <tr>\n",
       "      <th>2010-01-04</th>\n",
       "      <td>326.250000</td>\n",
       "      <td>328.750000</td>\n",
       "      <td>324.412506</td>\n",
       "      <td>326.575012</td>\n",
       "      <td>240.314423</td>\n",
       "      <td>4069264</td>\n",
       "    </tr>\n",
       "    <tr>\n",
       "      <th>2010-01-05</th>\n",
       "      <td>327.500000</td>\n",
       "      <td>328.837494</td>\n",
       "      <td>325.012512</td>\n",
       "      <td>327.668762</td>\n",
       "      <td>241.119247</td>\n",
       "      <td>6895528</td>\n",
       "    </tr>\n",
       "    <tr>\n",
       "      <th>2010-01-06</th>\n",
       "      <td>335.375000</td>\n",
       "      <td>335.375000</td>\n",
       "      <td>321.887512</td>\n",
       "      <td>322.887512</td>\n",
       "      <td>237.600906</td>\n",
       "      <td>6817288</td>\n",
       "    </tr>\n",
       "    <tr>\n",
       "      <th>2010-01-07</th>\n",
       "      <td>323.325012</td>\n",
       "      <td>323.325012</td>\n",
       "      <td>314.774994</td>\n",
       "      <td>315.631256</td>\n",
       "      <td>232.261322</td>\n",
       "      <td>10892600</td>\n",
       "    </tr>\n",
       "    <tr>\n",
       "      <th>2010-01-08</th>\n",
       "      <td>314.875000</td>\n",
       "      <td>315.412506</td>\n",
       "      <td>307.250000</td>\n",
       "      <td>308.024994</td>\n",
       "      <td>226.664078</td>\n",
       "      <td>12649312</td>\n",
       "    </tr>\n",
       "    <tr>\n",
       "      <th>...</th>\n",
       "      <td>...</td>\n",
       "      <td>...</td>\n",
       "      <td>...</td>\n",
       "      <td>...</td>\n",
       "      <td>...</td>\n",
       "      <td>...</td>\n",
       "    </tr>\n",
       "    <tr>\n",
       "      <th>2023-06-20</th>\n",
       "      <td>1294.000000</td>\n",
       "      <td>1305.000000</td>\n",
       "      <td>1291.099976</td>\n",
       "      <td>1303.400024</td>\n",
       "      <td>1303.400024</td>\n",
       "      <td>4009180</td>\n",
       "    </tr>\n",
       "    <tr>\n",
       "      <th>2023-06-21</th>\n",
       "      <td>1299.949951</td>\n",
       "      <td>1303.800049</td>\n",
       "      <td>1295.000000</td>\n",
       "      <td>1299.349976</td>\n",
       "      <td>1299.349976</td>\n",
       "      <td>4041529</td>\n",
       "    </tr>\n",
       "    <tr>\n",
       "      <th>2023-06-22</th>\n",
       "      <td>1289.400024</td>\n",
       "      <td>1289.400024</td>\n",
       "      <td>1273.500000</td>\n",
       "      <td>1281.550049</td>\n",
       "      <td>1281.550049</td>\n",
       "      <td>6676607</td>\n",
       "    </tr>\n",
       "    <tr>\n",
       "      <th>2023-06-23</th>\n",
       "      <td>1276.449951</td>\n",
       "      <td>1279.349976</td>\n",
       "      <td>1263.349976</td>\n",
       "      <td>1265.000000</td>\n",
       "      <td>1265.000000</td>\n",
       "      <td>7239467</td>\n",
       "    </tr>\n",
       "    <tr>\n",
       "      <th>2023-06-26</th>\n",
       "      <td>1270.250000</td>\n",
       "      <td>1274.000000</td>\n",
       "      <td>1262.250000</td>\n",
       "      <td>1270.349976</td>\n",
       "      <td>1270.349976</td>\n",
       "      <td>3403244</td>\n",
       "    </tr>\n",
       "  </tbody>\n",
       "</table>\n",
       "<p>3328 rows × 6 columns</p>\n",
       "</div>"
      ],
      "text/plain": [
       "                   Open         High          Low        Close    Adj Close  \\\n",
       "Date                                                                          \n",
       "2010-01-04   326.250000   328.750000   324.412506   326.575012   240.314423   \n",
       "2010-01-05   327.500000   328.837494   325.012512   327.668762   241.119247   \n",
       "2010-01-06   335.375000   335.375000   321.887512   322.887512   237.600906   \n",
       "2010-01-07   323.325012   323.325012   314.774994   315.631256   232.261322   \n",
       "2010-01-08   314.875000   315.412506   307.250000   308.024994   226.664078   \n",
       "...                 ...          ...          ...          ...          ...   \n",
       "2023-06-20  1294.000000  1305.000000  1291.099976  1303.400024  1303.400024   \n",
       "2023-06-21  1299.949951  1303.800049  1295.000000  1299.349976  1299.349976   \n",
       "2023-06-22  1289.400024  1289.400024  1273.500000  1281.550049  1281.550049   \n",
       "2023-06-23  1276.449951  1279.349976  1263.349976  1265.000000  1265.000000   \n",
       "2023-06-26  1270.250000  1274.000000  1262.250000  1270.349976  1270.349976   \n",
       "\n",
       "              Volume  \n",
       "Date                  \n",
       "2010-01-04   4069264  \n",
       "2010-01-05   6895528  \n",
       "2010-01-06   6817288  \n",
       "2010-01-07  10892600  \n",
       "2010-01-08  12649312  \n",
       "...              ...  \n",
       "2023-06-20   4009180  \n",
       "2023-06-21   4041529  \n",
       "2023-06-22   6676607  \n",
       "2023-06-23   7239467  \n",
       "2023-06-26   3403244  \n",
       "\n",
       "[3328 rows x 6 columns]"
      ]
     },
     "execution_count": 38,
     "metadata": {},
     "output_type": "execute_result"
    }
   ],
   "source": [
    "new_stock_data"
   ]
  },
  {
   "cell_type": "code",
   "execution_count": 39,
   "id": "85bf0541",
   "metadata": {
    "execution": {
     "iopub.execute_input": "2023-06-28T10:28:35.867225Z",
     "iopub.status.busy": "2023-06-28T10:28:35.866819Z",
     "iopub.status.idle": "2023-06-28T10:28:35.873378Z",
     "shell.execute_reply": "2023-06-28T10:28:35.872288Z"
    },
    "papermill": {
     "duration": 0.043059,
     "end_time": "2023-06-28T10:28:35.875818",
     "exception": false,
     "start_time": "2023-06-28T10:28:35.832759",
     "status": "completed"
    },
    "tags": []
   },
   "outputs": [],
   "source": [
    "new_stock_data = new_stock_data[['Open','High','Low','Close']]"
   ]
  },
  {
   "cell_type": "code",
   "execution_count": 40,
   "id": "ca2135fd",
   "metadata": {
    "execution": {
     "iopub.execute_input": "2023-06-28T10:28:35.944457Z",
     "iopub.status.busy": "2023-06-28T10:28:35.944001Z",
     "iopub.status.idle": "2023-06-28T10:28:35.960106Z",
     "shell.execute_reply": "2023-06-28T10:28:35.959064Z"
    },
    "papermill": {
     "duration": 0.053868,
     "end_time": "2023-06-28T10:28:35.962847",
     "exception": false,
     "start_time": "2023-06-28T10:28:35.908979",
     "status": "completed"
    },
    "tags": []
   },
   "outputs": [
    {
     "data": {
      "text/html": [
       "<div>\n",
       "<style scoped>\n",
       "    .dataframe tbody tr th:only-of-type {\n",
       "        vertical-align: middle;\n",
       "    }\n",
       "\n",
       "    .dataframe tbody tr th {\n",
       "        vertical-align: top;\n",
       "    }\n",
       "\n",
       "    .dataframe thead th {\n",
       "        text-align: right;\n",
       "    }\n",
       "</style>\n",
       "<table border=\"1\" class=\"dataframe\">\n",
       "  <thead>\n",
       "    <tr style=\"text-align: right;\">\n",
       "      <th></th>\n",
       "      <th>Open</th>\n",
       "      <th>High</th>\n",
       "      <th>Low</th>\n",
       "      <th>Close</th>\n",
       "    </tr>\n",
       "    <tr>\n",
       "      <th>Date</th>\n",
       "      <th></th>\n",
       "      <th></th>\n",
       "      <th></th>\n",
       "      <th></th>\n",
       "    </tr>\n",
       "  </thead>\n",
       "  <tbody>\n",
       "    <tr>\n",
       "      <th>2010-01-04</th>\n",
       "      <td>326.250000</td>\n",
       "      <td>328.750000</td>\n",
       "      <td>324.412506</td>\n",
       "      <td>326.575012</td>\n",
       "    </tr>\n",
       "    <tr>\n",
       "      <th>2010-01-05</th>\n",
       "      <td>327.500000</td>\n",
       "      <td>328.837494</td>\n",
       "      <td>325.012512</td>\n",
       "      <td>327.668762</td>\n",
       "    </tr>\n",
       "    <tr>\n",
       "      <th>2010-01-06</th>\n",
       "      <td>335.375000</td>\n",
       "      <td>335.375000</td>\n",
       "      <td>321.887512</td>\n",
       "      <td>322.887512</td>\n",
       "    </tr>\n",
       "    <tr>\n",
       "      <th>2010-01-07</th>\n",
       "      <td>323.325012</td>\n",
       "      <td>323.325012</td>\n",
       "      <td>314.774994</td>\n",
       "      <td>315.631256</td>\n",
       "    </tr>\n",
       "    <tr>\n",
       "      <th>2010-01-08</th>\n",
       "      <td>314.875000</td>\n",
       "      <td>315.412506</td>\n",
       "      <td>307.250000</td>\n",
       "      <td>308.024994</td>\n",
       "    </tr>\n",
       "    <tr>\n",
       "      <th>...</th>\n",
       "      <td>...</td>\n",
       "      <td>...</td>\n",
       "      <td>...</td>\n",
       "      <td>...</td>\n",
       "    </tr>\n",
       "    <tr>\n",
       "      <th>2023-06-20</th>\n",
       "      <td>1294.000000</td>\n",
       "      <td>1305.000000</td>\n",
       "      <td>1291.099976</td>\n",
       "      <td>1303.400024</td>\n",
       "    </tr>\n",
       "    <tr>\n",
       "      <th>2023-06-21</th>\n",
       "      <td>1299.949951</td>\n",
       "      <td>1303.800049</td>\n",
       "      <td>1295.000000</td>\n",
       "      <td>1299.349976</td>\n",
       "    </tr>\n",
       "    <tr>\n",
       "      <th>2023-06-22</th>\n",
       "      <td>1289.400024</td>\n",
       "      <td>1289.400024</td>\n",
       "      <td>1273.500000</td>\n",
       "      <td>1281.550049</td>\n",
       "    </tr>\n",
       "    <tr>\n",
       "      <th>2023-06-23</th>\n",
       "      <td>1276.449951</td>\n",
       "      <td>1279.349976</td>\n",
       "      <td>1263.349976</td>\n",
       "      <td>1265.000000</td>\n",
       "    </tr>\n",
       "    <tr>\n",
       "      <th>2023-06-26</th>\n",
       "      <td>1270.250000</td>\n",
       "      <td>1274.000000</td>\n",
       "      <td>1262.250000</td>\n",
       "      <td>1270.349976</td>\n",
       "    </tr>\n",
       "  </tbody>\n",
       "</table>\n",
       "<p>3328 rows × 4 columns</p>\n",
       "</div>"
      ],
      "text/plain": [
       "                   Open         High          Low        Close\n",
       "Date                                                          \n",
       "2010-01-04   326.250000   328.750000   324.412506   326.575012\n",
       "2010-01-05   327.500000   328.837494   325.012512   327.668762\n",
       "2010-01-06   335.375000   335.375000   321.887512   322.887512\n",
       "2010-01-07   323.325012   323.325012   314.774994   315.631256\n",
       "2010-01-08   314.875000   315.412506   307.250000   308.024994\n",
       "...                 ...          ...          ...          ...\n",
       "2023-06-20  1294.000000  1305.000000  1291.099976  1303.400024\n",
       "2023-06-21  1299.949951  1303.800049  1295.000000  1299.349976\n",
       "2023-06-22  1289.400024  1289.400024  1273.500000  1281.550049\n",
       "2023-06-23  1276.449951  1279.349976  1263.349976  1265.000000\n",
       "2023-06-26  1270.250000  1274.000000  1262.250000  1270.349976\n",
       "\n",
       "[3328 rows x 4 columns]"
      ]
     },
     "execution_count": 40,
     "metadata": {},
     "output_type": "execute_result"
    }
   ],
   "source": [
    "new_stock_data"
   ]
  },
  {
   "cell_type": "code",
   "execution_count": 41,
   "id": "11b20a8e",
   "metadata": {
    "execution": {
     "iopub.execute_input": "2023-06-28T10:28:36.033127Z",
     "iopub.status.busy": "2023-06-28T10:28:36.031874Z",
     "iopub.status.idle": "2023-06-28T10:28:36.041157Z",
     "shell.execute_reply": "2023-06-28T10:28:36.040170Z"
    },
    "papermill": {
     "duration": 0.046852,
     "end_time": "2023-06-28T10:28:36.043902",
     "exception": false,
     "start_time": "2023-06-28T10:28:35.997050",
     "status": "completed"
    },
    "tags": []
   },
   "outputs": [],
   "source": [
    "new_stock_data = scaled_data = scaler.fit_transform(new_stock_data)"
   ]
  },
  {
   "cell_type": "code",
   "execution_count": 42,
   "id": "8fc5165d",
   "metadata": {
    "execution": {
     "iopub.execute_input": "2023-06-28T10:28:36.112682Z",
     "iopub.status.busy": "2023-06-28T10:28:36.112278Z",
     "iopub.status.idle": "2023-06-28T10:28:36.119750Z",
     "shell.execute_reply": "2023-06-28T10:28:36.118689Z"
    },
    "papermill": {
     "duration": 0.044846,
     "end_time": "2023-06-28T10:28:36.122019",
     "exception": false,
     "start_time": "2023-06-28T10:28:36.077173",
     "status": "completed"
    },
    "tags": []
   },
   "outputs": [
    {
     "data": {
      "text/plain": [
       "array([[0.0337119 , 0.03460259, 0.03995607, 0.03649886],\n",
       "       [0.03446106, 0.03465456, 0.04031472, 0.03715223],\n",
       "       [0.03918072, 0.03853808, 0.03844674, 0.03429609],\n",
       "       ...,\n",
       "       [0.61094962, 0.60526316, 0.60727615, 0.60696528],\n",
       "       [0.60318835, 0.59929307, 0.60120894, 0.5970789 ],\n",
       "       [0.59947258, 0.596115  , 0.60055143, 0.60027477]])"
      ]
     },
     "execution_count": 42,
     "metadata": {},
     "output_type": "execute_result"
    }
   ],
   "source": [
    "new_stock_data"
   ]
  },
  {
   "cell_type": "code",
   "execution_count": 43,
   "id": "503c8bb9",
   "metadata": {
    "execution": {
     "iopub.execute_input": "2023-06-28T10:28:36.191175Z",
     "iopub.status.busy": "2023-06-28T10:28:36.190721Z",
     "iopub.status.idle": "2023-06-28T10:28:36.197703Z",
     "shell.execute_reply": "2023-06-28T10:28:36.196729Z"
    },
    "papermill": {
     "duration": 0.043796,
     "end_time": "2023-06-28T10:28:36.199842",
     "exception": false,
     "start_time": "2023-06-28T10:28:36.156046",
     "status": "completed"
    },
    "tags": []
   },
   "outputs": [
    {
     "data": {
      "text/plain": [
       "(3328, 4)"
      ]
     },
     "execution_count": 43,
     "metadata": {},
     "output_type": "execute_result"
    }
   ],
   "source": [
    "new_stock_data.shape"
   ]
  },
  {
   "cell_type": "code",
   "execution_count": 44,
   "id": "997711b6",
   "metadata": {
    "execution": {
     "iopub.execute_input": "2023-06-28T10:28:36.270874Z",
     "iopub.status.busy": "2023-06-28T10:28:36.270436Z",
     "iopub.status.idle": "2023-06-28T10:28:36.277449Z",
     "shell.execute_reply": "2023-06-28T10:28:36.276406Z"
    },
    "papermill": {
     "duration": 0.045482,
     "end_time": "2023-06-28T10:28:36.279689",
     "exception": false,
     "start_time": "2023-06-28T10:28:36.234207",
     "status": "completed"
    },
    "tags": []
   },
   "outputs": [
    {
     "data": {
      "text/plain": [
       "(10, 3324, 4)"
      ]
     },
     "execution_count": 44,
     "metadata": {},
     "output_type": "execute_result"
    }
   ],
   "source": [
    "test_input.shape"
   ]
  },
  {
   "cell_type": "code",
   "execution_count": 45,
   "id": "033b9156",
   "metadata": {
    "execution": {
     "iopub.execute_input": "2023-06-28T10:28:36.350620Z",
     "iopub.status.busy": "2023-06-28T10:28:36.350151Z",
     "iopub.status.idle": "2023-06-28T10:28:36.355635Z",
     "shell.execute_reply": "2023-06-28T10:28:36.354481Z"
    },
    "papermill": {
     "duration": 0.043684,
     "end_time": "2023-06-28T10:28:36.357972",
     "exception": false,
     "start_time": "2023-06-28T10:28:36.314288",
     "status": "completed"
    },
    "tags": []
   },
   "outputs": [],
   "source": [
    "new_stock_data = np.reshape(new_stock_data, (1, new_stock_data.shape[0], 4))"
   ]
  },
  {
   "cell_type": "code",
   "execution_count": 46,
   "id": "6a0c8bf9",
   "metadata": {
    "execution": {
     "iopub.execute_input": "2023-06-28T10:28:36.429882Z",
     "iopub.status.busy": "2023-06-28T10:28:36.429489Z",
     "iopub.status.idle": "2023-06-28T10:28:37.090056Z",
     "shell.execute_reply": "2023-06-28T10:28:37.088912Z"
    },
    "papermill": {
     "duration": 0.69854,
     "end_time": "2023-06-28T10:28:37.092568",
     "exception": false,
     "start_time": "2023-06-28T10:28:36.394028",
     "status": "completed"
    },
    "tags": []
   },
   "outputs": [
    {
     "name": "stdout",
     "output_type": "stream",
     "text": [
      "1/1 [==============================] - 1s 602ms/step\n"
     ]
    },
    {
     "data": {
      "text/plain": [
       "array([[1969.6305, 1437.6852, 1289.6893, 1552.2344]], dtype=float32)"
      ]
     },
     "execution_count": 46,
     "metadata": {},
     "output_type": "execute_result"
    }
   ],
   "source": [
    "# Get the models predicted price values \n",
    "predictions = loaded_model.predict(new_stock_data)\n",
    "predictions = scaler.inverse_transform(predictions)\n",
    "predictions"
   ]
  }
 ],
 "metadata": {
  "kernelspec": {
   "display_name": "Python 3",
   "language": "python",
   "name": "python3"
  },
  "language_info": {
   "codemirror_mode": {
    "name": "ipython",
    "version": 3
   },
   "file_extension": ".py",
   "mimetype": "text/x-python",
   "name": "python",
   "nbconvert_exporter": "python",
   "pygments_lexer": "ipython3",
   "version": "3.10.10"
  },
  "papermill": {
   "default_parameters": {},
   "duration": 98.728314,
   "end_time": "2023-06-28T10:28:39.943783",
   "environment_variables": {},
   "exception": null,
   "input_path": "__notebook__.ipynb",
   "output_path": "__notebook__.ipynb",
   "parameters": {},
   "start_time": "2023-06-28T10:27:01.215469",
   "version": "2.4.0"
  }
 },
 "nbformat": 4,
 "nbformat_minor": 5
}
